{
 "cells": [
  {
   "cell_type": "markdown",
   "id": "527a3613",
   "metadata": {},
   "source": [
    "# For 1 percent data with 1000 points we are taking a dnn driven trajectory\n"
   ]
  },
  {
   "cell_type": "code",
   "execution_count": 1,
   "id": "e4f3a19b",
   "metadata": {},
   "outputs": [],
   "source": [
    "import tensorflow as tf\n",
    "import pandas as pd\n",
    "import numpy as np\n",
    "import sklearn \n",
    "from keras.layers import Dense\n",
    "from keras.models import Sequential\n",
    "import os\n",
    "import matplotlib.pyplot as plt"
   ]
  },
  {
   "cell_type": "code",
   "execution_count": 2,
   "id": "4fc96b4d",
   "metadata": {},
   "outputs": [],
   "source": [
    "df = pd.read_csv('/home/saichaitanya/Chaitanya/CSV files/1000 points per trajectory/May10rd1percent_RLV_data 1000 points.csv',header = None,names = ['h','v','s','omega','gamma','m','theta','Thrust','beta','time'])\n",
    "input = output =df.values\n",
    "X = input[:,0:7]\n",
    "y = output[:,7:9]\n",
    "# Individual Data\n",
    "from sklearn import preprocessing\n",
    "X_norm = preprocessing.minmax_scale(X)\n",
    "y_norm = preprocessing.minmax_scale(y)\n",
    "from sklearn.model_selection import train_test_split\n",
    "X_train, X_test, y_train, y_test = train_test_split(X_norm, y_norm, test_size=0.1, random_state=42)\n",
    "X_val = X_train[-10000:]\n",
    "y_val = y_train[-10000:]\n",
    "X_train = X_train[:-10000]\n",
    "y_train = y_train[:-10000]"
   ]
  },
  {
   "cell_type": "code",
   "execution_count": 3,
   "id": "e49e38b1",
   "metadata": {},
   "outputs": [],
   "source": [
    "def create_model2(n):\n",
    "    model = Sequential()\n",
    "    model.add(Dense(n,input_shape=(7,),kernel_initializer='uniform'))\n",
    "    model.add(Dense(n,kernel_initializer='uniform',activation = 'relu'))\n",
    "    model.add(Dense(n,kernel_initializer='uniform',activation = 'relu')) # since tanh has more nonlinearity we add it here, it also gives -ve values so , some layers which are not necessary will lead to 0 in next layer\n",
    "    model.add(Dense(n,kernel_initializer='uniform',activation = 'relu'))\n",
    "    model.add(Dense(n,kernel_initializer='uniform',activation = 'relu'))\n",
    "    model.add(Dense(2,kernel_initializer='uniform',activation = 'sigmoid'))\n",
    "    return model"
   ]
  },
  {
   "cell_type": "code",
   "execution_count": 4,
   "id": "52aa1b21",
   "metadata": {},
   "outputs": [
    {
     "name": "stderr",
     "output_type": "stream",
     "text": [
      "2022-05-22 09:29:02.036370: W tensorflow/stream_executor/platform/default/dso_loader.cc:64] Could not load dynamic library 'libcudnn.so.8'; dlerror: libcudnn.so.8: cannot open shared object file: No such file or directory\n",
      "2022-05-22 09:29:02.036429: W tensorflow/core/common_runtime/gpu/gpu_device.cc:1850] Cannot dlopen some GPU libraries. Please make sure the missing libraries mentioned above are installed properly if you would like to use GPU. Follow the guide at https://www.tensorflow.org/install/gpu for how to download and setup the required libraries for your platform.\n",
      "Skipping registering GPU devices...\n",
      "2022-05-22 09:29:02.038721: I tensorflow/core/platform/cpu_feature_guard.cc:151] This TensorFlow binary is optimized with oneAPI Deep Neural Network Library (oneDNN) to use the following CPU instructions in performance-critical operations:  AVX2 AVX512F FMA\n",
      "To enable them in other operations, rebuild TensorFlow with the appropriate compiler flags.\n"
     ]
    },
    {
     "data": {
      "text/plain": [
       "<tensorflow.python.training.tracking.util.CheckpointLoadStatus at 0x7fb1448e27a0>"
      ]
     },
     "execution_count": 4,
     "metadata": {},
     "output_type": "execute_result"
    }
   ],
   "source": [
    "i = 7;\n",
    "model = create_model2(2**i)\n",
    "path_Of_model =f\"/home/saichaitanya/Chaitanya/GOOGLE COLAB  DOCS/1new percent variation/1000 points 7 states and 2 op with val_set having 128 neurons and batchsize 256/cp.ckpt\"\n",
    "model.load_weights(path_Of_model)"
   ]
  },
  {
   "cell_type": "code",
   "execution_count": 5,
   "id": "b033c72a",
   "metadata": {},
   "outputs": [],
   "source": [
    "opt = tf.keras.optimizers.Adam(learning_rate=0.001)\n",
    "loss = tf.keras.losses.mean_squared_error\n",
    "model.compile(optimizer=opt,loss=loss,metrics='accuracy')\n",
    "# loss,accuracy = model.evaluate(X_norm,y_norm)"
   ]
  },
  {
   "cell_type": "markdown",
   "id": "90635575",
   "metadata": {},
   "source": [
    "# Values for DNN driven trajectory"
   ]
  },
  {
   "cell_type": "code",
   "execution_count": 6,
   "id": "3f90bee6",
   "metadata": {},
   "outputs": [],
   "source": [
    "import math"
   ]
  },
  {
   "cell_type": "code",
   "execution_count": 7,
   "id": "eb978502",
   "metadata": {},
   "outputs": [],
   "source": [
    "R0 = 6378*1000;\n",
    "g0=9.81\n",
    "Cd = 0.5\n",
    "S_ref =10.75\n",
    "Isp =300;\n",
    "I_z = 3346393\n",
    "l_com = 9.778\n",
    "t_ref = 32\n",
    "h0=5000;\n",
    "v0=325;\n",
    "s0=850;\n",
    "## The inputs and outputs which varied have values in decimals \n",
    "## rest all have been rounded off to 5-6 digits\n",
    "omega0= 0.342\n",
    "theta0= round(-75*math.pi/180,4)\n",
    "gamma0= round(-75*math.pi/180,4) #\n",
    "m0= round(26229.667,0) # our values of mass are rounded of when taking data\n",
    "r0 = h0+637800"
   ]
  },
  {
   "cell_type": "markdown",
   "id": "7d31bbe5",
   "metadata": {},
   "source": [
    "max(df.h.values)"
   ]
  },
  {
   "cell_type": "markdown",
   "id": "98473a49",
   "metadata": {},
   "source": [
    "df.loc[df['s']==850]"
   ]
  },
  {
   "cell_type": "markdown",
   "id": "decfe18e",
   "metadata": {},
   "source": [
    "## Here we are finding the trajectory which relates to the given input conditions"
   ]
  },
  {
   "cell_type": "code",
   "execution_count": 8,
   "id": "37053d1e",
   "metadata": {
    "scrolled": true
   },
   "outputs": [],
   "source": [
    "# First we find the index of the row where we have the given initial conditions, we validate if we had \n",
    "# taken the correct trajectory for that we need to check the ending values of s such that s = s0.\n",
    "idx = df.loc[(df['h'] == h0) & (df['v'] == v0)]\n",
    "idx = np.array(idx.index.astype(int))\n",
    "def trajectory_finding(idx,df,s0):\n",
    "    # we have 3003 points for getting full trajectory starting from index 0-3002\n",
    "    for i in range(idx.shape[0]):\n",
    "        df2= df[idx[0]+3003*i:idx[0]+3003*(i+1)]\n",
    "        if (df2.s.values[3002]==s0):\n",
    "            break\n",
    "        else:\n",
    "            continue\n",
    "    return np.array([df2.index[0],df2.index[3002]])"
   ]
  },
  {
   "cell_type": "code",
   "execution_count": 9,
   "id": "315202f6",
   "metadata": {
    "scrolled": true
   },
   "outputs": [],
   "source": [
    "idx_i,idx_f = trajectory_finding(idx,df,s0)"
   ]
  },
  {
   "cell_type": "code",
   "execution_count": 10,
   "id": "2ffd2655",
   "metadata": {},
   "outputs": [],
   "source": [
    "## Normalizing the inputs\n",
    "def norm_inputs(a,b):\n",
    "    return (a-min(b))/(max(b)-min(b))"
   ]
  },
  {
   "cell_type": "code",
   "execution_count": 11,
   "id": "df04b078",
   "metadata": {},
   "outputs": [],
   "source": [
    "h = X[:,0];\n",
    "v = X[:,1];\n",
    "s = X[:,2];\n",
    "omega = X[:,3]\n",
    "gamma= X[:,4]\n",
    "m = X[:,5]\n",
    "theta = X[:,6]\n",
    "T = y[:,0]\n",
    "b = y[:,1]\n",
    "r = 637800+h"
   ]
  },
  {
   "cell_type": "code",
   "execution_count": 12,
   "id": "511866e5",
   "metadata": {},
   "outputs": [],
   "source": [
    "h_norm = norm_inputs(h,h)\n",
    "v_norm= norm_inputs(v,v)\n",
    "s_norm= norm_inputs(s,s)\n",
    "omega_norm= norm_inputs(omega,omega)\n",
    "gamma_norm= norm_inputs(gamma,gamma)\n",
    "m_norm= norm_inputs(m,m)\n",
    "theta_norm= norm_inputs(theta,theta)\n",
    "r_norm = norm_inputs(r,r)\n",
    "T_norm = norm_inputs(T,T)\n",
    "b_norm = norm_inputs(b,b)"
   ]
  },
  {
   "cell_type": "code",
   "execution_count": 13,
   "id": "143a9e93",
   "metadata": {},
   "outputs": [],
   "source": [
    "h1 = norm_inputs(h0,h)\n",
    "v1= norm_inputs(v0,v)\n",
    "s1= norm_inputs(s0,s)\n",
    "omega1= norm_inputs(omega0,omega)\n",
    "gamma1= norm_inputs(gamma0,gamma)\n",
    "m1= norm_inputs(m0,m)\n",
    "theta1= norm_inputs(theta0,theta)\n",
    "r1 = norm_inputs(r0,r)"
   ]
  },
  {
   "cell_type": "code",
   "execution_count": 14,
   "id": "3e0ec13e",
   "metadata": {},
   "outputs": [
    {
     "data": {
      "text/plain": [
       "0.017453292519943295"
      ]
     },
     "execution_count": 14,
     "metadata": {},
     "output_type": "execute_result"
    }
   ],
   "source": [
    "math.pi/180"
   ]
  },
  {
   "cell_type": "code",
   "execution_count": 16,
   "id": "0b225ce3",
   "metadata": {},
   "outputs": [],
   "source": [
    "# For this trajectory we are creating a vector of Neural Network inputs and obtain the Thrust, beta predicted values.\n",
    "# given all the 7 states as input. and these controls will be sent to the DNN driven trajectory generation model\n",
    "# ip_traj = df.all\n",
    "# normalize the inputs and ouputs for observation\n",
    "data_norm = np.array([h_norm,v_norm,s_norm,omega_norm,gamma_norm,m_norm,theta_norm,T_norm,b_norm]).T\n",
    "df_norm = pd.DataFrame(data_norm,columns=['h','v','s','omega','gamma','m','theta','Thrust','beta'])\n",
    "\n",
    "# Trajectory for the given initial condition:\n",
    "data_traj = df_norm.values[idx_i:idx_f+1][:,0:9]\n",
    "ip_traj = data_traj[:,0:7]\n",
    "op_traj = data_traj[:,7:9]"
   ]
  },
  {
   "cell_type": "markdown",
   "id": "6ba343e8",
   "metadata": {},
   "source": [
    "# Intermediate trajectories averaged initial guess "
   ]
  },
  {
   "cell_type": "code",
   "execution_count": 17,
   "id": "3a6995b9",
   "metadata": {},
   "outputs": [],
   "source": [
    "## Intermediate trajectory values:\n",
    "ip_mid = [];\n",
    "op_mid = [];\n",
    "for i in range(len(ip_traj)-1):\n",
    "     ip_mid = np.append(ip_mid,(ip_traj[i,:]+ip_traj[i+1,:])/2)\n",
    "     op_mid = np.append(op_mid,(op_traj[i,:]+op_traj[i+1,:])/2)\n",
    "        \n",
    "ip_mid = ip_mid.reshape(len(ip_traj)-1,7)\n",
    "op_mid = op_mid.reshape(len(ip_traj)-1,2)"
   ]
  },
  {
   "cell_type": "code",
   "execution_count": 18,
   "id": "cad6ea9e",
   "metadata": {},
   "outputs": [
    {
     "data": {
      "text/plain": [
       "'\\nh_traj = np.where(h1==h_norm)\\nv_traj = np.where(v1==v_norm)\\ns_traj = np.where(s1==s_norm)\\nomega_traj = np.where(omega1==omega_norm)\\ngamma_traj = np.where(gamma1 == gamma_norm)\\nm_traj = np.where(m1==m_norm)\\ntheta_traj=np.where(theta1==theta_norm)\\n# T_traj=np.where(T1==T_norm)\\n# b_traj=np.where(b1==b_norm)\\n'"
      ]
     },
     "execution_count": 18,
     "metadata": {},
     "output_type": "execute_result"
    }
   ],
   "source": [
    "\"\"\"\n",
    "h_traj = np.where(h1==h_norm)\n",
    "v_traj = np.where(v1==v_norm)\n",
    "s_traj = np.where(s1==s_norm)\n",
    "omega_traj = np.where(omega1==omega_norm)\n",
    "gamma_traj = np.where(gamma1 == gamma_norm)\n",
    "m_traj = np.where(m1==m_norm)\n",
    "theta_traj=np.where(theta1==theta_norm)\n",
    "# T_traj=np.where(T1==T_norm)\n",
    "# b_traj=np.where(b1==b_norm)\n",
    "\"\"\""
   ]
  },
  {
   "cell_type": "markdown",
   "id": "25bce197",
   "metadata": {
    "scrolled": true
   },
   "source": [
    "    average_intermediate_values= [];\n",
    "    n = int(X.shape[0]/3003)\n",
    "    for i in range(n):\n",
    "        average_intermediate_values = np.append(average_intermediate_values,(df.values[i*3003,:]- df.values[i*3003+1,:]))\n",
    "        average_intermediate_values = average_intermediate_values.reshape(n,10)\n",
    "    ip_mean = np.mean(average_intermediate_values,0)\n",
    "    ip = np.array([h1,v1,s1,omega1,gamma1,m1,theta1]).reshape(1,7)\n",
    "    T1,b1 = np.squeeze(model.predict(ip))"
   ]
  },
  {
   "cell_type": "markdown",
   "id": "d7f1dfe7",
   "metadata": {},
   "source": [
    "## Now we need to append the values for all state variables in DNN driven trajectory and then we need to antinormalize the outputs to validate with the actual trajectory."
   ]
  },
  {
   "cell_type": "code",
   "execution_count": 19,
   "id": "f4ef268c",
   "metadata": {},
   "outputs": [
    {
     "data": {
      "text/plain": [
       "array([-0.17027757, -0.170684  , -0.17105892, ..., -0.18897457,\n",
       "       -0.18897227, -0.18897   ])"
      ]
     },
     "execution_count": 19,
     "metadata": {},
     "output_type": "execute_result"
    }
   ],
   "source": [
    "def AntiNorm(Norm_value,actual):\n",
    "  return (max(actual)-min(actual))*Norm_value+min(actual)\n",
    "\n",
    "AntiNorm(T,T)\n",
    "AntiNorm(b,b)\n"
   ]
  },
  {
   "cell_type": "markdown",
   "id": "917a1514",
   "metadata": {},
   "source": [
    "## Defining variables which will be appended as the iterations progress in RK4 method:"
   ]
  },
  {
   "cell_type": "code",
   "execution_count": 31,
   "id": "9d173a4a",
   "metadata": {},
   "outputs": [
    {
     "data": {
      "text/plain": [
       "array([[9.89970559e-01, 9.89864139e-01, 6.31909006e-09, ...,\n",
       "        5.44715447e-01, 1.00000000e+00, 6.27155523e-01],\n",
       "       [9.88597481e-01, 9.88340651e-01, 2.14239237e-03, ...,\n",
       "        5.44383607e-01, 9.99143469e-01, 6.30905332e-01],\n",
       "       [9.87224403e-01, 9.86848254e-01, 4.27968741e-03, ...,\n",
       "        5.43885847e-01, 9.98286938e-01, 6.34605801e-01],\n",
       "       ...,\n",
       "       [3.63616979e-06, 1.33693872e-04, 9.88441112e-01, ...,\n",
       "        1.10336818e-01, 1.11349036e-01, 4.97984478e-01],\n",
       "       [2.35654050e-06, 6.71578517e-05, 9.88441112e-01, ...,\n",
       "        1.10336818e-01, 1.11349036e-01, 4.97984478e-01],\n",
       "       [1.08226502e-06, 9.32747941e-07, 9.88441112e-01, ...,\n",
       "        1.10336818e-01, 1.11134904e-01, 4.97984478e-01]])"
      ]
     },
     "execution_count": 31,
     "metadata": {},
     "output_type": "execute_result"
    }
   ],
   "source": [
    "X_norm"
   ]
  },
  {
   "cell_type": "code",
   "execution_count": 32,
   "id": "58c529e3",
   "metadata": {},
   "outputs": [
    {
     "data": {
      "text/plain": [
       "array([[0.28605627, 0.62777485],\n",
       "       [0.2820922 , 0.62495257],\n",
       "       [0.27828258, 0.622349  ],\n",
       "       ...,\n",
       "       [0.55836701, 0.49793917],\n",
       "       [0.55823831, 0.49795512],\n",
       "       [0.5581096 , 0.49797091]])"
      ]
     },
     "execution_count": 32,
     "metadata": {},
     "output_type": "execute_result"
    }
   ],
   "source": [
    "y_norm"
   ]
  },
  {
   "cell_type": "code",
   "execution_count": 33,
   "id": "e317eb19",
   "metadata": {},
   "outputs": [],
   "source": [
    "pred = model.predict(X_norm)"
   ]
  },
  {
   "cell_type": "code",
   "execution_count": 67,
   "id": "ba341e41",
   "metadata": {},
   "outputs": [
    {
     "data": {
      "image/png": "[encoded data removed]",
      "text/plain": [
       "<Figure size 432x288 with 1 Axes>"
      ]
     },
     "metadata": {
      "needs_background": "light"
     },
     "output_type": "display_data"
    }
   ],
   "source": [
    "plt.scatter(y_norm[:,0],pred[:,0])\n",
    "plt.plot(y_norm[:,0],y_norm[:,0],color = 'red')\n",
    "plt.xlabel(\"Thrust\")\n",
    "plt.ylabel(\"Thrust predicted\")\n",
    "plt.legend(['actual','predicted'])\n",
    "plt.title(\"Thrust vs Thrust predicted for 2.1 million data\")\n",
    "plt.savefig(\"8.1.png\")"
   ]
  },
  {
   "cell_type": "code",
   "execution_count": 68,
   "id": "54522566",
   "metadata": {},
   "outputs": [
    {
     "data": {
      "image/png": "[encoded data removed]",
      "text/plain": [
       "<Figure size 432x288 with 1 Axes>"
      ]
     },
     "metadata": {
      "needs_background": "light"
     },
     "output_type": "display_data"
    }
   ],
   "source": [
    "plt.scatter(y_norm[:,1],pred[:,1])\n",
    "plt.plot(y_norm[:,1],y_norm[:,1],color = 'red')\n",
    "plt.xlabel(\"β\")\n",
    "plt.ylabel(\"β predicted\")\n",
    "plt.legend(['actual','predicted'])\n",
    "plt.title(\"β vs β prediction for 2.1 million data\")\n",
    "plt.savefig(\"8.2.png\")"
   ]
  },
  {
   "cell_type": "code",
   "execution_count": 120,
   "id": "4810fd39",
   "metadata": {},
   "outputs": [],
   "source": [
    "i=720"
   ]
  },
  {
   "cell_type": "code",
   "execution_count": 121,
   "id": "f811c133",
   "metadata": {},
   "outputs": [
    {
     "data": {
      "image/png": "[encoded data removed]",
      "text/plain": [
       "<Figure size 432x288 with 1 Axes>"
      ]
     },
     "metadata": {
      "needs_background": "light"
     },
     "output_type": "display_data"
    }
   ],
   "source": [
    "plt.plot(y_norm[:,0][0+3003*i:3003*(i+1)],y_norm[:,0][0+3003*i:3003*(i+1)],color = 'red')\n",
    "plt.scatter(y_norm[:,0][0+3003*i:3003*(i+1)],pred[:,0][0+3003*i:3003*(i+1)])\n",
    "plt.xlabel(\"Thrust\")\n",
    "plt.ylabel(\"Thrust predicted\")\n",
    "plt.legend(['actual','predicted'])\n",
    "plt.title(f\"Thrust vs Thrust predicted for {i}th trajectory\")\n",
    "plt.savefig(f\"8.30{i}.png\")"
   ]
  },
  {
   "cell_type": "code",
   "execution_count": 122,
   "id": "9d71ebb7",
   "metadata": {},
   "outputs": [
    {
     "data": {
      "image/png": "[encoded data removed]",
      "text/plain": [
       "<Figure size 432x288 with 1 Axes>"
      ]
     },
     "metadata": {
      "needs_background": "light"
     },
     "output_type": "display_data"
    }
   ],
   "source": [
    "plt.scatter(y_norm[:,1][0+3003*i:3003*(i+1)],pred[:,1][0+3003*i:3003*(i+1)])\n",
    "plt.plot(y_norm[:,1][0+3003*i:3003*(i+1)],y_norm[:,1][0+3003*i:3003*(i+1)],color = 'red')\n",
    "plt.xlabel(\"β\")\n",
    "plt.ylabel(\"β predicted\")\n",
    "plt.legend(['actual','predicted'])\n",
    "plt.title(f\"β vs β prediction for {i}th trajectory\")\n",
    "plt.savefig(f\"8.40{i}.png\")"
   ]
  },
  {
   "cell_type": "code",
   "execution_count": null,
   "id": "586b3a2f",
   "metadata": {},
   "outputs": [],
   "source": []
  },
  {
   "cell_type": "code",
   "execution_count": 20,
   "id": "8b77fc13",
   "metadata": {},
   "outputs": [],
   "source": [
    "# local variables within the DNN function\n",
    "ω2 = [];\n",
    "θ2 = [];\n",
    "v2 = [];\n",
    "γ2 = [];\n",
    "r2 = [];\n",
    "s2 = [];\n",
    "h2 = [];"
   ]
  },
  {
   "cell_type": "code",
   "execution_count": 21,
   "id": "6c22738d",
   "metadata": {},
   "outputs": [],
   "source": [
    "# global variables for appending\n",
    "ω_dnn = [];\n",
    "θ_dnn = [];\n",
    "v_dnn = [];\n",
    "γ_dnn = [];\n",
    "r_dnn = [];\n",
    "s_dnn = [];\n",
    "h_dnn = [];"
   ]
  },
  {
   "cell_type": "code",
   "execution_count": 26,
   "id": "deef3274",
   "metadata": {},
   "outputs": [
    {
     "name": "stdout",
     "output_type": "stream",
     "text": [
      "6842/6842 [==============================] - 9s 1ms/step - loss: 3.9799e-05 - accuracy: 0.9963\n"
     ]
    },
    {
     "data": {
      "text/plain": [
       "[3.979882603744045e-05, 0.996272623538971]"
      ]
     },
     "execution_count": 26,
     "metadata": {},
     "output_type": "execute_result"
    }
   ],
   "source": [
    "model.evaluate(X_test,y_test)"
   ]
  },
  {
   "cell_type": "code",
   "execution_count": 25,
   "id": "5895946a",
   "metadata": {
    "scrolled": true
   },
   "outputs": [
    {
     "data": {
      "text/plain": [
       "array([[1.7029949e-08, 1.2901937e-09]], dtype=float32)"
      ]
     },
     "execution_count": 25,
     "metadata": {},
     "output_type": "execute_result"
    }
   ],
   "source": [
    "model.predict(np.array([h1,v1,s1,omega1,gamma1,m1,theta1]).reshape(1,7))"
   ]
  },
  {
   "cell_type": "markdown",
   "id": "20ad5044",
   "metadata": {},
   "source": [
    "h_dnn=5\n",
    "for _ in range(5):\n",
    "    h_dnn = np.append(h_dnn,_)\n",
    "    h_dnn\n",
    "h_dnn"
   ]
  },
  {
   "cell_type": "code",
   "execution_count": 286,
   "id": "3cfb38de",
   "metadata": {},
   "outputs": [],
   "source": [
    "ip = np.array([h1,v1,s1,omega1,gamma1,m1,theta1]).reshape(1,7)\n",
    "ip_int = ip_mid[0,:]\n",
    "op_int = op_mid[0,:]"
   ]
  },
  {
   "cell_type": "code",
   "execution_count": 287,
   "id": "f42177d9",
   "metadata": {},
   "outputs": [
    {
     "name": "stdout",
     "output_type": "stream",
     "text": [
      "1.7029949e-08 1.2901937e-09 0.24050793 0.62022\n"
     ]
    }
   ],
   "source": [
    "T1,b1 = np.squeeze(model.predict(ip))\n",
    "T1_int,b1_int = np.squeeze(model.predict(ip_int.reshape(1,7)))\n",
    "print(T1,b1, T1_int,b1_int)"
   ]
  },
  {
   "cell_type": "markdown",
   "id": "04bc60cd",
   "metadata": {},
   "source": [
    "## Substituting the actual values and validating if we get the same DNN"
   ]
  },
  {
   "cell_type": "code",
   "execution_count": 288,
   "id": "db6ab869",
   "metadata": {},
   "outputs": [
    {
     "name": "stdout",
     "output_type": "stream",
     "text": [
      "0.29138459162398 0.6510435332560345 0.2897757986048547 0.6501396648044693\n"
     ]
    }
   ],
   "source": [
    "T1,b1 = op_traj[0,:] # 1st row of outputs for the given inputs\n",
    "T1_int,b1_int = op_mid[0,:] # 1st row of intermediate values\n",
    "print(T1,b1, T1_int,b1_int)"
   ]
  },
  {
   "cell_type": "markdown",
   "id": "77aee454",
   "metadata": {},
   "source": [
    "## Generating the trajectory from outputs using RK4"
   ]
  },
  {
   "cell_type": "code",
   "execution_count": 290,
   "id": "7dcdb017",
   "metadata": {},
   "outputs": [
    {
     "name": "stdout",
     "output_type": "stream",
     "text": [
      "0.6510435332560345 0.627155523320357 0.5447154471544716 0.9578695516488089\n"
     ]
    }
   ],
   "source": [
    "T1,b1 = op_traj[0,:] # 1st row of outputs for the given inputs\n",
    "T1_int,b1_int = op_mid[0,:] # 1st row of intermediate values\n",
    "b1_an = AntiNorm(b1,b)\n",
    "b1_int_an = AntiNorm(b1_int,b)\n",
    "\n",
    "T2,b2 = op_traj[1,:]\n",
    "b2_an = AntiNorm(b2,b)\n",
    "n= 3003\n",
    "h_step = 1/n # since 1 trajectory has 3003 points.\n",
    "\n",
    "print(b1,\n",
    "theta1,\n",
    "gamma1,\n",
    "omega1)"
   ]
  },
  {
   "cell_type": "code",
   "execution_count": 291,
   "id": "10a83b66",
   "metadata": {},
   "outputs": [
    {
     "name": "stdout",
     "output_type": "stream",
     "text": [
      "0.058088 -1.309 -1.309 0.34199999999999997\n"
     ]
    }
   ],
   "source": [
    "## Before we start using them in RK4 Method we should antinormalize the angles\n",
    "b1_an = AntiNorm(b1,b) \n",
    "theta1_an = AntiNorm(theta1,theta)\n",
    "gamma1_an = AntiNorm(gamma1,gamma)\n",
    "omega1_an = AntiNorm(omega1,omega)\n",
    "print(b1_an,theta1_an, gamma1_an, omega1_an)"
   ]
  },
  {
   "cell_type": "markdown",
   "id": "f75fc902",
   "metadata": {},
   "source": [
    "# Omega RK4"
   ]
  },
  {
   "cell_type": "code",
   "execution_count": 340,
   "id": "fca3ff34",
   "metadata": {},
   "outputs": [
    {
     "name": "stdout",
     "output_type": "stream",
     "text": [
      "predicted 0.34186600922280036 actual 0.34014\n"
     ]
    }
   ],
   "source": [
    "c2 = (t_ref*m0*g0*l_com/I_z)\n",
    "kω1 = - T1*np.sin(b1_an)*c2 # these values obtained are w.r.t tprime so to get w.r.t we need to divide by 32\n",
    "kω2 = - T1_int*np.sin(b1_int_an)*c2\n",
    "kω3 = - T1_int*np.sin(b1_int_an)*c2\n",
    "kω4 = - T2*np.sin(b2_an)*c2\n",
    "omega2_an = omega1_an + h_step/6 * (kω1 + 2*kω2 + 2*kω3 + kω4) \n",
    "print(\"predicted\",omega2_an,\"actual\", AntiNorm(ip_traj[1,3],omega))\n"
   ]
  },
  {
   "cell_type": "markdown",
   "id": "b013a126",
   "metadata": {},
   "source": [
    "# theta Rk4"
   ]
  },
  {
   "cell_type": "code",
   "execution_count": 341,
   "id": "c3a1d9d5",
   "metadata": {},
   "outputs": [],
   "source": [
    "omega_int = (omega1_an + omega2_an)/2\n",
    "omega_int\n",
    "# kθ2 = t_ref*AntiNorm(ip_int.reshape(1,7)[0,3],omega) # intermediate trajectories\n",
    "# kθ3 = t_ref*AntiNorm(ip_int.reshape(1,7)[0,3],omega)\n",
    "# kθ4 = t_ref*ip_traj[1,3]\n",
    "theta1 = AntiNorm(theta1,theta)\n",
    "kθ1 = t_ref*omega1_an\n",
    "kθ2 = t_ref*omega_int # intermediate trajectories\n",
    "kθ3 = t_ref*omega_int\n",
    "kθ4 = t_ref*omega2_an\n",
    "theta2_an =  theta1_an + h_step/6* (kθ1 +2*kθ2 + 2*kθ3 + kθ4)"
   ]
  },
  {
   "cell_type": "code",
   "execution_count": 342,
   "id": "cdacac4f",
   "metadata": {
    "scrolled": true
   },
   "outputs": [
    {
     "name": "stdout",
     "output_type": "stream",
     "text": [
      "predicted -1.3053563582592191 actual -1.3012\n"
     ]
    }
   ],
   "source": [
    "print(\"predicted\",theta2_an,\"actual\", AntiNorm(ip_traj[1,-1],theta))"
   ]
  },
  {
   "cell_type": "markdown",
   "id": "9c91dc26",
   "metadata": {},
   "source": [
    "# Mass DNN"
   ]
  },
  {
   "cell_type": "code",
   "execution_count": 343,
   "id": "88e59af7",
   "metadata": {},
   "outputs": [],
   "source": [
    "## Rest of the states need not be antinormalized and are already initiated before\n",
    "# m1 = m_norm[idx_i]\n",
    "# r1 = "
   ]
  },
  {
   "cell_type": "code",
   "execution_count": 344,
   "id": "5985b5a5",
   "metadata": {},
   "outputs": [
    {
     "name": "stdout",
     "output_type": "stream",
     "text": [
      "0.29138459162398 0.2897757986048547 0.2881670055857294     0.6510435332560345 0.6501396648044693 0.649235796352904\n"
     ]
    }
   ],
   "source": [
    "m_norm[idx_i:idx_i+3]\n",
    "print(T1,T1_int,T2,\"   \", b1,b1_int,b2)\n"
   ]
  },
  {
   "cell_type": "code",
   "execution_count": 345,
   "id": "c4fa4560",
   "metadata": {},
   "outputs": [
    {
     "name": "stdout",
     "output_type": "stream",
     "text": [
      "predicted 0.9999897071533407 actual  0.9991434689507495\n"
     ]
    }
   ],
   "source": [
    "# these controls are taken from the initial 2 points\n",
    "km1 = -(t_ref/Isp)*T1\n",
    "km2 = -(t_ref/Isp)*T1_int\n",
    "km3 = -(t_ref/Isp)*T1_int\n",
    "km4 = -(t_ref/Isp)*T2\n",
    "m2 = m1 + h_step/6* (km1 + 2*km2 + 2*km3 + km4)\n",
    "print(\"predicted\", m2 ,\"actual \", m_norm[idx_i+1])"
   ]
  },
  {
   "cell_type": "markdown",
   "id": "4ec1a0f5",
   "metadata": {},
   "source": [
    "## V, Drag DNN"
   ]
  },
  {
   "cell_type": "code",
   "execution_count": 346,
   "id": "7a14b5c4",
   "metadata": {},
   "outputs": [],
   "source": [
    "gamma1_int = ip_mid[0,4]\n",
    "theta1_int = ip_mid[0,3]\n",
    "m1_int = (m1+m2)/2;\n",
    "g1_int_an = AntiNorm(gamma1_int,gamma) # gamma _intermediate antinormalized\n",
    "t1_int_an = AntiNorm(theta1_int,theta) # theta _intermediate antinormalized\n",
    "c1 = 0.5*1.225*Cd*(v0)**2 *S_ref / (m0*g0)\n",
    "D1 = c1 * v1**2\n",
    "# Intermediate of r1 is obtained from Euler method\n",
    "r1_int = r1 + h_step/2 * v1* np.sin(g1_int_an) * (t_ref *v0/R0)\n",
    "\n",
    "kv1 = -(g0*t_ref/v0) *(((T1 * np.cos(b1_an - g1_int_an + t1_int_an) + D1)/m1) + (np.sin(gamma1_an)/(r1**2)))\n",
    "\n",
    "D1_int = c1 * (v1 + h_step*kv1/2)**2\n",
    "kv2 = -(g0*t_ref/v0) *(((T1_int * np.cos(b1_int_an - g1_int_an + t1_int_an) + D1_int/m1_int) + (np.sin(g1_int_an)/(r1_int**2))))\n",
    "\n",
    "D2_int = c1 * (v1 + h_step*kv2/2)**2\n",
    "kv3 = -(g0*t_ref/v0) *(((T1_int * np.cos(b1_int_an - g1_int_an + t1_int_an) + D2_int/m1_int) + (np.sin(g1_int_an)/(r1_int**2))))\n",
    "\n",
    "D3_int = c1 * (v1+h_step*kv3)**2\n",
    "gamma2_an = gamma1_an\n",
    "kv4 = -(g0*t_ref/v0) *(((T2 * np.cos(b2_an - gamma2_an + theta2_an) + D3_int)/m2) + (np.sin(gamma2_an)/(r1**2)))\n",
    "\n",
    "v2 = v1 + h_step/6 * ( kv1 + 2*kv2 + 2*kv3 + kv4)"
   ]
  },
  {
   "cell_type": "markdown",
   "id": "3da7a670",
   "metadata": {},
   "source": [
    "## γ DNN"
   ]
  },
  {
   "cell_type": "code",
   "execution_count": 331,
   "id": "df1b0aa5",
   "metadata": {},
   "outputs": [
    {
     "data": {
      "text/plain": [
       "-1.3091899455582758"
      ]
     },
     "execution_count": 331,
     "metadata": {},
     "output_type": "execute_result"
    }
   ],
   "source": [
    "gamma1_int = ip_mid[0,4]\n",
    "theta1_int = ip_mid[0,3]\n",
    "m1_int = (m1+m2)/2;\n",
    "g1_int_an = AntiNorm(gamma1_int,gamma) # gamma _intermediate antinormalized\n",
    "t1_int_an = AntiNorm(theta1_int,theta) # theta _intermediate antinormalized\n",
    "# Intermediate of r1 is obtained from Euler method\n",
    "r1_int = r1 + h_step/2 * v1* np.sin(g1_int_an) * (t_ref *v0/R0)\n",
    "v1_int = (v1+v2)/2\n",
    "g1 = g1_int_an\n",
    "kγ1 = -(g0*t_ref/v0) *(((T1 * np.sin(b1_an - g1 + t1_int_an))/(m1*v1)) + (np.cos(gamma1_an)/(r1**2 * v1)))\n",
    "\n",
    "g2 = g1 + (h_step * kγ1 / 2)\n",
    "kγ2 = -(g0*t_ref/v0) *((T1_int * np.sin(b1_int_an - g2 + t1_int_an)/(m1_int*v1_int)) + (np.cos(g2)/(r1_int**2*v1_int)))\n",
    "\n",
    "g3 = g1_int_an + (h_step * kγ2 / 2)\n",
    "kγ3 = -(g0*t_ref/v0) *((T1_int * np.sin(b1_int_an - g3 + t1_int_an)/(m1_int*v1_int)) + (np.cos(g3)/(r1_int**2*v1_int)))\n",
    "\n",
    "g4 = g1_int_an + (h_step * kγ3)\n",
    "kγ4 = -(g0*t_ref/v0) *(((T2 * np.sin(b2_an - g4 + theta2_an) + D3_int)/(m2*v2)) + (np.cos(g4)/(r1**2*v2)))\n",
    "\n",
    "gamma2_an = gamma1_an + h_step/6 * ( kv1 + 2*kv2 + 2*kv3 + kv4)"
   ]
  },
  {
   "cell_type": "code",
   "execution_count": 338,
   "id": "2797e7b5",
   "metadata": {},
   "outputs": [
    {
     "name": "stdout",
     "output_type": "stream",
     "text": [
      "predicted  -1.3091899455582758  actual  -1.3093\n"
     ]
    }
   ],
   "source": [
    "print(\"predicted \", gamma2_an , \" actual \", gamma[idx_i:idx_i+2][1])"
   ]
  },
  {
   "cell_type": "markdown",
   "id": "ff397007",
   "metadata": {},
   "source": [
    "# R , S DNN"
   ]
  },
  {
   "cell_type": "code",
   "execution_count": 357,
   "id": "a8ba53d8",
   "metadata": {},
   "outputs": [
    {
     "data": {
      "text/plain": [
       "0.0010486796069064778"
      ]
     },
     "execution_count": 357,
     "metadata": {},
     "output_type": "execute_result"
    }
   ],
   "source": [
    "c4 = (v0*t_ref/s0)\n",
    "gamma1_int_an = AntiNorm(gamma1_int,gamma)\n",
    "\n",
    "ks1 = c4 * v1 * np.cos(gamma1_an)\n",
    "ks2 = c4 * v1_int * np.cos(gamma1_int_an)\n",
    "ks3 = ks2\n",
    "ks4 = c4 * v2 * np.cos(gamma2_an)\n",
    "si = s_norm[idx_i]\n",
    "s2 = si + (h_step/6) * (ks1 + 2*ks2 + 2*ks3 + ks4)\n",
    "s2"
   ]
  },
  {
   "cell_type": "code",
   "execution_count": 361,
   "id": "b6165d5e",
   "metadata": {},
   "outputs": [
    {
     "name": "stdout",
     "output_type": "stream",
     "text": [
      "predicted 0.0010486796069064778 actual  0.0022261624830689905\n"
     ]
    }
   ],
   "source": [
    "print(\"predicted\", s2 , \"actual \", s_norm[idx_i+1])"
   ]
  },
  {
   "cell_type": "code",
   "execution_count": 348,
   "id": "7f86a28c",
   "metadata": {},
   "outputs": [
    {
     "data": {
      "text/plain": [
       "0.9949847577936404"
      ]
     },
     "execution_count": 348,
     "metadata": {},
     "output_type": "execute_result"
    }
   ],
   "source": [
    "c3 = (v0*t_ref/R0)\n",
    "gamma1_int_an = AntiNorm(gamma1_int,gamma)\n",
    "\n",
    "kr1 = c3 * v1 * np.sin(gamma1_an)\n",
    "kr2 = c3 * v1_int * np.sin(gamma1_int_an)\n",
    "kr3 = kr2\n",
    "kr4 = c3 * v2 * np.sin(gamma2_an)\n",
    "\n",
    "r2 = r1 + (h_step/6) * (kr1 + 2*kr2 + 2*kr3 + kr4)\n",
    "print(\"predicted\", r2 , \"actual \", r_norm[idx_i+1])"
   ]
  },
  {
   "cell_type": "code",
   "execution_count": null,
   "id": "b3f426af",
   "metadata": {},
   "outputs": [],
   "source": []
  },
  {
   "cell_type": "markdown",
   "id": "42d82531",
   "metadata": {},
   "source": [
    "ip = np.array([h1,v1,s1,omega1,gamma1,m1,theta1]).reshape(1,7)\n",
    "ip_int = ip_mid[0,:]"
   ]
  },
  {
   "cell_type": "markdown",
   "id": "7a74a268",
   "metadata": {
    "scrolled": true
   },
   "source": [
    "T1_int,b1_int = np.squeeze(model.predict(ip_int))\n",
    "b1_an = AntiNorm(b1,b)\n",
    "b1_int_an = AntiNorm(b1_int,b)\n",
    "\n",
    "T2,b2 = np.squeeze(model.predict(ip_traj[1,:].reshape(1,7)))\n",
    "b2_an = AntiNorm(b2,b)\n",
    "\n",
    "# Omega\n",
    "c1 = (t_ref*m0*g0*l_com/I_z)\n",
    "kω1 = - T1*np.sin(b1_an)*c1\n",
    "kω2 = - T1_int*np.sin(b1_int_an)*c1\n",
    "kω3 = - T1_int*np.sin(b1_int_an)*c1\n",
    "kω4 = - T2*np.sin(b2_an)*c1\n",
    "\n",
    "omega2 = omega[idx_i] + 1/6*(kω1+kω2+kω3+kω4)\n",
    "\n",
    "# Theta\n",
    "kθ1 = t_ref*omega[idx_i]\n",
    "kθ2 = t_ref*AntiNorm(ip_int[0,3],omega)\n",
    "kθ3 = t_ref*AntiNorm(ip_int[0,3],omega)\n",
    "kθ4 = t_ref*ip_traj[1,3]\n",
    "\n",
    "theta2 = AntiNorm(theta1,theta)+ 1/6*(kθ1+kθ2+kθ3+kθ4)\n",
    "theta2"
   ]
  },
  {
   "cell_type": "code",
   "execution_count": null,
   "id": "d78a9e70",
   "metadata": {},
   "outputs": [],
   "source": [
    "def RK4_method(t,ip_traj,r1,h1,v1,s1,omega1,gamma1,m1,theta1,n): # time , inputs, number of points \n",
    "    # we need to go from NN -> omega -> theta-> V,gamma, r,s,Drag ->h\n",
    "    # global values\n",
    "    h_dnn = h1,\n",
    "    ω_dnn = omega1\n",
    "    θ_dnn = theta1\n",
    "    v_dnn = v1\n",
    "    γ_dnn = gamma1\n",
    "    r_dnn = r1\n",
    "    s_dnn = s1\n",
    "    # local values\n",
    "    h2 = h1;\n",
    "    si = s1;\n",
    "    v2 = v1;\n",
    "    omega2 = omega1;\n",
    "    gamma2 = gamma1;\n",
    "    r2 = r1;\n",
    "    m2 = m1;\n",
    "    theta2 = theta1;\n",
    "    ip = np.array([h1,v1,s1,omega1,gamma1,m1,theta1]).reshape(1,7)\n",
    "    ip_int = ip_mid[0,:]\n",
    "    \n",
    "    for i in range(n): # n is number of time steps\n",
    "        # here to obtain the next iteration step we need to know the values of this and intermediate step values\n",
    "        # so for intermediate steps we are going to take (1+2)/2 for all initial conditions. So we need inputs \n",
    "        # of 2 consecutive rows.\n",
    "        T1,b1 = np.squeeze(model.predict(ip))\n",
    "        T1_int,b1_int = np.squeeze(model.predict(ip_int))\n",
    "        b1_an = AntiNorm(b1,b)\n",
    "        b1_int_an = AntiNorm(b_int,b)\n",
    "        \n",
    "        T2,b2 = np.squeeze(model.predict(ip_traj[1,:].reshape(1,7)))\n",
    "        b2_an = AntiNorm(b2,b)\n",
    "        c1 = (t_ref*m0*g0*l_com/I_z)\n",
    "        kω1 = - T1*np.sin(b1_an)*c1\n",
    "        kω2 = - T1_int*np.sin(b1_int_an)*c1\n",
    "        kω3 = - T1_int*np.sin(b1_int_an)*c1\n",
    "        kω4 = - T2*np.sin(b2_an)\n",
    "        ω2[i+1] = ω2[i] + 1/6*(kω1+kω2+kω3+kω4)\n",
    "        \n",
    "        ip = np.array([h2,v2,s2,omega2,gamma2,m2,theta2]).reshape(1,7)\n",
    "        \n",
    "        \n",
    "    \n",
    "    \n",
    "    \n",
    "  "
   ]
  },
  {
   "cell_type": "code",
   "execution_count": null,
   "id": "9e9c9110",
   "metadata": {},
   "outputs": [],
   "source": [
    "RK4_method(0,h1,v1,s1,omega1,gamma1,m1,theta1,5) # h1,v1,s1.... are normalized initial conditions"
   ]
  },
  {
   "cell_type": "code",
   "execution_count": null,
   "id": "abeeaeca",
   "metadata": {},
   "outputs": [],
   "source": [
    "def AntiNorm(Norm_value,actual):\n",
    "  return (max(actual)-min(actual))*Norm_value+min(actual)\n",
    "\n",
    "T_dnn= AntiNorm(T1,T)\n",
    "b_dnn = AntiNorm(b1,b)"
   ]
  },
  {
   "cell_type": "code",
   "execution_count": null,
   "id": "1d1134a4",
   "metadata": {},
   "outputs": [],
   "source": []
  },
  {
   "cell_type": "markdown",
   "id": "2eec9c6f",
   "metadata": {},
   "source": [
    "df_norm[idx_i:idx_f+1]\n",
    "\n",
    "# Plotting the trajectory\n",
    "    i=10\n",
    "    pt = model.predict(X_norm[0+3003*i:3002*(i+1),:])\n",
    "    yt = y_norm[0+3003*i:3002*(i+1),:]\n",
    "    plt.plot(yt[:,0])\n",
    "    plt.plot(pt[:,0])\n",
    "    plt.plot(yt[:,1])\n",
    "    plt.plot(pt[:,1])"
   ]
  },
  {
   "cell_type": "code",
   "execution_count": null,
   "id": "3a0f6556",
   "metadata": {},
   "outputs": [],
   "source": []
  }
 ],
 "metadata": {
  "kernelspec": {
   "display_name": "Python 3 (ipykernel)",
   "language": "python",
   "name": "python3"
  },
  "language_info": {
   "codemirror_mode": {
    "name": "ipython",
    "version": 3
   },
   "file_extension": ".py",
   "mimetype": "text/x-python",
   "name": "python",
   "nbconvert_exporter": "python",
   "pygments_lexer": "ipython3",
   "version": "3.10.4"
  }
 },
 "nbformat": 4,
 "nbformat_minor": 5
}
