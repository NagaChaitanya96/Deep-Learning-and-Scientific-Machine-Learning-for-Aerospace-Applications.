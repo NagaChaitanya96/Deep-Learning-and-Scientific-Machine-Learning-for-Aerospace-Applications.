{
 "cells": [
  {
   "cell_type": "markdown",
   "id": "527a3613",
   "metadata": {},
   "source": [
    "# For 1 percent data with 1000 points we are taking a dnn driven trajectory\n"
   ]
  },
  {
   "cell_type": "code",
   "execution_count": 1,
   "id": "e4f3a19b",
   "metadata": {},
   "outputs": [],
   "source": [
    "import tensorflow as tf\n",
    "import pandas as pd\n",
    "import numpy as np\n",
    "import sklearn \n",
    "from keras.layers import Dense\n",
    "from keras.models import Sequential\n",
    "import os\n",
    "import matplotlib.pyplot as plt"
   ]
  },
  {
   "cell_type": "code",
   "execution_count": 54,
   "id": "959b6289",
   "metadata": {
    "scrolled": true
   },
   "outputs": [
    {
     "data": {
      "text/html": [
       "<div>\n",
       "<style scoped>\n",
       "    .dataframe tbody tr th:only-of-type {\n",
       "        vertical-align: middle;\n",
       "    }\n",
       "\n",
       "    .dataframe tbody tr th {\n",
       "        vertical-align: top;\n",
       "    }\n",
       "\n",
       "    .dataframe thead th {\n",
       "        text-align: right;\n",
       "    }\n",
       "</style>\n",
       "<table border=\"1\" class=\"dataframe\">\n",
       "  <thead>\n",
       "    <tr style=\"text-align: right;\">\n",
       "      <th></th>\n",
       "      <th>h</th>\n",
       "      <th>v</th>\n",
       "      <th>s</th>\n",
       "      <th>omega</th>\n",
       "      <th>gamma</th>\n",
       "      <th>m</th>\n",
       "      <th>theta</th>\n",
       "      <th>Thrust</th>\n",
       "      <th>beta</th>\n",
       "      <th>time</th>\n",
       "    </tr>\n",
       "  </thead>\n",
       "  <tbody>\n",
       "    <tr>\n",
       "      <th>0</th>\n",
       "      <td>4974.800000</td>\n",
       "      <td>323.3700</td>\n",
       "      <td>2.430700e-16</td>\n",
       "      <td>3.420000e-01</td>\n",
       "      <td>-1.3090</td>\n",
       "      <td>26230</td>\n",
       "      <td>-1.3090</td>\n",
       "      <td>479450.0</td>\n",
       "      <td>0.049258</td>\n",
       "      <td>0.000000</td>\n",
       "    </tr>\n",
       "    <tr>\n",
       "      <th>1</th>\n",
       "      <td>4967.900000</td>\n",
       "      <td>322.8800</td>\n",
       "      <td>1.851600e+00</td>\n",
       "      <td>3.404900e-01</td>\n",
       "      <td>-1.3092</td>\n",
       "      <td>26226</td>\n",
       "      <td>-1.3014</td>\n",
       "      <td>477910.0</td>\n",
       "      <td>0.048187</td>\n",
       "      <td>0.022150</td>\n",
       "    </tr>\n",
       "    <tr>\n",
       "      <th>2</th>\n",
       "      <td>4961.000000</td>\n",
       "      <td>322.4000</td>\n",
       "      <td>3.698800e+00</td>\n",
       "      <td>3.390200e-01</td>\n",
       "      <td>-1.3095</td>\n",
       "      <td>26222</td>\n",
       "      <td>-1.2939</td>\n",
       "      <td>476430.0</td>\n",
       "      <td>0.047199</td>\n",
       "      <td>0.044300</td>\n",
       "    </tr>\n",
       "    <tr>\n",
       "      <th>3</th>\n",
       "      <td>4954.100000</td>\n",
       "      <td>321.9200</td>\n",
       "      <td>5.541400e+00</td>\n",
       "      <td>3.375800e-01</td>\n",
       "      <td>-1.3097</td>\n",
       "      <td>26219</td>\n",
       "      <td>-1.2864</td>\n",
       "      <td>475020.0</td>\n",
       "      <td>0.046291</td>\n",
       "      <td>0.066451</td>\n",
       "    </tr>\n",
       "    <tr>\n",
       "      <th>4</th>\n",
       "      <td>4947.300000</td>\n",
       "      <td>321.4400</td>\n",
       "      <td>7.379600e+00</td>\n",
       "      <td>3.361700e-01</td>\n",
       "      <td>-1.3100</td>\n",
       "      <td>26215</td>\n",
       "      <td>-1.2790</td>\n",
       "      <td>473670.0</td>\n",
       "      <td>0.045462</td>\n",
       "      <td>0.088601</td>\n",
       "    </tr>\n",
       "    <tr>\n",
       "      <th>...</th>\n",
       "      <td>...</td>\n",
       "      <td>...</td>\n",
       "      <td>...</td>\n",
       "      <td>...</td>\n",
       "      <td>...</td>\n",
       "      <td>...</td>\n",
       "      <td>...</td>\n",
       "      <td>...</td>\n",
       "      <td>...</td>\n",
       "      <td>...</td>\n",
       "    </tr>\n",
       "    <tr>\n",
       "      <th>2189182</th>\n",
       "      <td>0.025833</td>\n",
       "      <td>5.0854</td>\n",
       "      <td>8.542800e+02</td>\n",
       "      <td>1.416700e-07</td>\n",
       "      <td>-1.5708</td>\n",
       "      <td>22080</td>\n",
       "      <td>-1.5708</td>\n",
       "      <td>585350.0</td>\n",
       "      <td>-0.000024</td>\n",
       "      <td>27.569000</td>\n",
       "    </tr>\n",
       "    <tr>\n",
       "      <th>2189183</th>\n",
       "      <td>0.019347</td>\n",
       "      <td>5.0640</td>\n",
       "      <td>8.542800e+02</td>\n",
       "      <td>1.881000e-07</td>\n",
       "      <td>-1.5708</td>\n",
       "      <td>22080</td>\n",
       "      <td>-1.5708</td>\n",
       "      <td>585290.0</td>\n",
       "      <td>-0.000018</td>\n",
       "      <td>27.571000</td>\n",
       "    </tr>\n",
       "    <tr>\n",
       "      <th>2189184</th>\n",
       "      <td>0.012889</td>\n",
       "      <td>5.0427</td>\n",
       "      <td>8.542800e+02</td>\n",
       "      <td>2.210900e-07</td>\n",
       "      <td>-1.5708</td>\n",
       "      <td>22080</td>\n",
       "      <td>-1.5708</td>\n",
       "      <td>585240.0</td>\n",
       "      <td>-0.000012</td>\n",
       "      <td>27.572000</td>\n",
       "    </tr>\n",
       "    <tr>\n",
       "      <th>2189185</th>\n",
       "      <td>0.006459</td>\n",
       "      <td>5.0213</td>\n",
       "      <td>8.542800e+02</td>\n",
       "      <td>2.407900e-07</td>\n",
       "      <td>-1.5708</td>\n",
       "      <td>22080</td>\n",
       "      <td>-1.5708</td>\n",
       "      <td>585190.0</td>\n",
       "      <td>-0.000006</td>\n",
       "      <td>27.573000</td>\n",
       "    </tr>\n",
       "    <tr>\n",
       "      <th>2189186</th>\n",
       "      <td>0.000055</td>\n",
       "      <td>5.0000</td>\n",
       "      <td>8.542800e+02</td>\n",
       "      <td>2.473200e-07</td>\n",
       "      <td>-1.5708</td>\n",
       "      <td>22079</td>\n",
       "      <td>-1.5708</td>\n",
       "      <td>585140.0</td>\n",
       "      <td>0.000000</td>\n",
       "      <td>27.574000</td>\n",
       "    </tr>\n",
       "  </tbody>\n",
       "</table>\n",
       "<p>2189187 rows × 10 columns</p>\n",
       "</div>"
      ],
      "text/plain": [
       "                   h         v             s         omega   gamma      m  \\\n",
       "0        4974.800000  323.3700  2.430700e-16  3.420000e-01 -1.3090  26230   \n",
       "1        4967.900000  322.8800  1.851600e+00  3.404900e-01 -1.3092  26226   \n",
       "2        4961.000000  322.4000  3.698800e+00  3.390200e-01 -1.3095  26222   \n",
       "3        4954.100000  321.9200  5.541400e+00  3.375800e-01 -1.3097  26219   \n",
       "4        4947.300000  321.4400  7.379600e+00  3.361700e-01 -1.3100  26215   \n",
       "...              ...       ...           ...           ...     ...    ...   \n",
       "2189182     0.025833    5.0854  8.542800e+02  1.416700e-07 -1.5708  22080   \n",
       "2189183     0.019347    5.0640  8.542800e+02  1.881000e-07 -1.5708  22080   \n",
       "2189184     0.012889    5.0427  8.542800e+02  2.210900e-07 -1.5708  22080   \n",
       "2189185     0.006459    5.0213  8.542800e+02  2.407900e-07 -1.5708  22080   \n",
       "2189186     0.000055    5.0000  8.542800e+02  2.473200e-07 -1.5708  22079   \n",
       "\n",
       "          theta    Thrust      beta       time  \n",
       "0       -1.3090  479450.0  0.049258   0.000000  \n",
       "1       -1.3014  477910.0  0.048187   0.022150  \n",
       "2       -1.2939  476430.0  0.047199   0.044300  \n",
       "3       -1.2864  475020.0  0.046291   0.066451  \n",
       "4       -1.2790  473670.0  0.045462   0.088601  \n",
       "...         ...       ...       ...        ...  \n",
       "2189182 -1.5708  585350.0 -0.000024  27.569000  \n",
       "2189183 -1.5708  585290.0 -0.000018  27.571000  \n",
       "2189184 -1.5708  585240.0 -0.000012  27.572000  \n",
       "2189185 -1.5708  585190.0 -0.000006  27.573000  \n",
       "2189186 -1.5708  585140.0  0.000000  27.574000  \n",
       "\n",
       "[2189187 rows x 10 columns]"
      ]
     },
     "execution_count": 54,
     "metadata": {},
     "output_type": "execute_result"
    }
   ],
   "source": [
    "df\n"
   ]
  },
  {
   "cell_type": "code",
   "execution_count": 2,
   "id": "4fc96b4d",
   "metadata": {},
   "outputs": [],
   "source": [
    "df = pd.read_csv('/home/saichaitanya/Chaitanya/CSV files/1000 points per trajectory/May10rd1percent_RLV_data 1000 points.csv',header = None,names = ['h','v','s','omega','gamma','m','theta','Thrust','beta','time'])\n",
    "input = output =df.values\n",
    "X = input[:,0:7]\n",
    "y = output[:,7:9]\n",
    "# Individual Data\n",
    "from sklearn import preprocessing\n",
    "X_norm = preprocessing.minmax_scale(X)\n",
    "y_norm = preprocessing.minmax_scale(y)\n",
    "from sklearn.model_selection import train_test_split\n",
    "X_train, X_test, y_train, y_test = train_test_split(X_norm, y_norm, test_size=0.1, random_state=42)\n",
    "X_val = X_train[-10000:]\n",
    "y_val = y_train[-10000:]\n",
    "X_train = X_train[:-10000]\n",
    "y_train = y_train[:-10000]"
   ]
  },
  {
   "cell_type": "code",
   "execution_count": 3,
   "id": "e49e38b1",
   "metadata": {},
   "outputs": [],
   "source": [
    "def create_model2(n):\n",
    "    model = Sequential()\n",
    "    model.add(Dense(n,input_shape=(7,),kernel_initializer='uniform'))\n",
    "    model.add(Dense(n,kernel_initializer='uniform',activation = 'relu'))\n",
    "    model.add(Dense(n,kernel_initializer='uniform',activation = 'relu')) # since tanh has more nonlinearity we add it here, it also gives -ve values so , some layers which are not necessary will lead to 0 in next layer\n",
    "    model.add(Dense(n,kernel_initializer='uniform',activation = 'relu'))\n",
    "    model.add(Dense(n,kernel_initializer='uniform',activation = 'relu'))\n",
    "    model.add(Dense(2,kernel_initializer='uniform',activation = 'sigmoid'))\n",
    "    return model"
   ]
  },
  {
   "cell_type": "code",
   "execution_count": 4,
   "id": "52aa1b21",
   "metadata": {},
   "outputs": [
    {
     "name": "stderr",
     "output_type": "stream",
     "text": [
      "2022-05-20 16:59:47.977977: W tensorflow/stream_executor/platform/default/dso_loader.cc:64] Could not load dynamic library 'libcudnn.so.8'; dlerror: libcudnn.so.8: cannot open shared object file: No such file or directory\n",
      "2022-05-20 16:59:47.978026: W tensorflow/core/common_runtime/gpu/gpu_device.cc:1850] Cannot dlopen some GPU libraries. Please make sure the missing libraries mentioned above are installed properly if you would like to use GPU. Follow the guide at https://www.tensorflow.org/install/gpu for how to download and setup the required libraries for your platform.\n",
      "Skipping registering GPU devices...\n",
      "2022-05-20 16:59:47.979224: I tensorflow/core/platform/cpu_feature_guard.cc:151] This TensorFlow binary is optimized with oneAPI Deep Neural Network Library (oneDNN) to use the following CPU instructions in performance-critical operations:  AVX2 AVX512F FMA\n",
      "To enable them in other operations, rebuild TensorFlow with the appropriate compiler flags.\n"
     ]
    },
    {
     "data": {
      "text/plain": [
       "<tensorflow.python.training.tracking.util.CheckpointLoadStatus at 0x7fd7bd16a5c0>"
      ]
     },
     "execution_count": 4,
     "metadata": {},
     "output_type": "execute_result"
    }
   ],
   "source": [
    "i = 7;\n",
    "model = create_model2(2**i)\n",
    "path_Of_model =f\"/home/saichaitanya/Chaitanya/GOOGLE COLAB  DOCS/1new percent variation/1000 points 7 states and 2 op with val_set having 128 neurons and batchsize 256/cp.ckpt\"\n",
    "model.load_weights(path_Of_model)"
   ]
  },
  {
   "cell_type": "code",
   "execution_count": 5,
   "id": "b033c72a",
   "metadata": {},
   "outputs": [],
   "source": [
    "opt = tf.keras.optimizers.Adam(learning_rate=0.001)\n",
    "loss = tf.keras.losses.mean_squared_error\n",
    "model.compile(optimizer=opt,loss=loss,metrics='accuracy')\n",
    "# loss,accuracy = model.evaluate(X_norm,y_norm)"
   ]
  },
  {
   "cell_type": "markdown",
   "id": "90635575",
   "metadata": {},
   "source": [
    "# Values for DNN driven trajectory"
   ]
  },
  {
   "cell_type": "code",
   "execution_count": 6,
   "id": "3f90bee6",
   "metadata": {},
   "outputs": [],
   "source": [
    "import math"
   ]
  },
  {
   "cell_type": "code",
   "execution_count": 7,
   "id": "eb978502",
   "metadata": {},
   "outputs": [],
   "source": [
    "R0 = 6378*1000;\n",
    "g0=9.81\n",
    "Cd = 0.5\n",
    "S_ref =10.75\n",
    "Isp =300;\n",
    "I_z = 3346393\n",
    "l_com = 9.778\n",
    "t_ref = 32\n",
    "h0=5000;\n",
    "v0=325;\n",
    "s0=850;\n",
    "## The inputs and outputs which varied have values in decimals \n",
    "## rest all have been rounded off to 5-6 digits\n",
    "omega0= 0.342\n",
    "theta0= round(-75*math.pi/180,4)\n",
    "gamma0= round(-75*math.pi/180,4) #\n",
    "m0= round(26229.667,0) # our values of mass are rounded of when taking data\n",
    "r0 = h0+637800"
   ]
  },
  {
   "cell_type": "markdown",
   "id": "7d31bbe5",
   "metadata": {},
   "source": [
    "max(df.h.values)"
   ]
  },
  {
   "cell_type": "markdown",
   "id": "98473a49",
   "metadata": {},
   "source": [
    "df.loc[df['s']==850]"
   ]
  },
  {
   "cell_type": "markdown",
   "id": "decfe18e",
   "metadata": {},
   "source": [
    "## Here we are finding the trajectory which relates to the given input conditions"
   ]
  },
  {
   "cell_type": "code",
   "execution_count": 8,
   "id": "37053d1e",
   "metadata": {
    "scrolled": true
   },
   "outputs": [],
   "source": [
    "# First we find the index of the row where we have the given initial conditions, we validate if we had \n",
    "# taken the correct trajectory for that we need to check the ending values of s such that s = s0.\n",
    "idx = df.loc[(df['h'] == h0) & (df['v'] == v0)]\n",
    "idx = np.array(idx.index.astype(int))\n",
    "def trajectory_finding(idx,df,s0):\n",
    "    # we have 3003 points for getting full trajectory starting from index 0-3002\n",
    "    for i in range(idx.shape[0]):\n",
    "        df2= df[idx[0]+3003*i:idx[0]+3003*(i+1)]\n",
    "        if (df2.s.values[3002]==s0):\n",
    "            break\n",
    "        else:\n",
    "            continue\n",
    "    return np.array([df2.index[0],df2.index[3002]])"
   ]
  },
  {
   "cell_type": "code",
   "execution_count": 51,
   "id": "315202f6",
   "metadata": {
    "scrolled": true
   },
   "outputs": [],
   "source": [
    "idx_i,idx_f = trajectory_finding(idx,df,s0)"
   ]
  },
  {
   "cell_type": "code",
   "execution_count": 52,
   "id": "7accb425",
   "metadata": {},
   "outputs": [
    {
     "data": {
      "text/plain": [
       "1093092"
      ]
     },
     "execution_count": 52,
     "metadata": {},
     "output_type": "execute_result"
    }
   ],
   "source": [
    "idx_i"
   ]
  },
  {
   "cell_type": "code",
   "execution_count": 10,
   "id": "2ffd2655",
   "metadata": {},
   "outputs": [],
   "source": [
    "## Normalizing the inputs\n",
    "def norm_inputs(a,b):\n",
    "    return (a-min(b))/(max(b)-min(b))"
   ]
  },
  {
   "cell_type": "code",
   "execution_count": 11,
   "id": "df04b078",
   "metadata": {},
   "outputs": [],
   "source": [
    "h = X[:,0];\n",
    "v = X[:,1];\n",
    "s = X[:,2];\n",
    "omega = X[:,3]\n",
    "gamma= X[:,4]\n",
    "m = X[:,5]\n",
    "theta = X[:,6]\n",
    "T = y[:,0]\n",
    "b = y[:,1]\n",
    "r = 637800+h"
   ]
  },
  {
   "cell_type": "code",
   "execution_count": 12,
   "id": "511866e5",
   "metadata": {},
   "outputs": [],
   "source": [
    "h_norm = norm_inputs(h,h)\n",
    "v_norm= norm_inputs(v,v)\n",
    "s_norm= norm_inputs(s,s)\n",
    "omega_norm= norm_inputs(omega,omega)\n",
    "gamma_norm= norm_inputs(gamma,gamma)\n",
    "m_norm= norm_inputs(m,m)\n",
    "theta_norm= norm_inputs(theta,theta)\n",
    "r_norm = norm_inputs(r,r)\n",
    "T_norm = norm_inputs(T,T)\n",
    "b_norm = norm_inputs(b,b)"
   ]
  },
  {
   "cell_type": "code",
   "execution_count": 13,
   "id": "143a9e93",
   "metadata": {},
   "outputs": [],
   "source": [
    "h1 = norm_inputs(h0,h)\n",
    "v1= norm_inputs(v0,v)\n",
    "s1= norm_inputs(s0,s)\n",
    "omega1= norm_inputs(omega0,omega)\n",
    "gamma1= norm_inputs(gamma0,gamma)\n",
    "m1= norm_inputs(m0,m)\n",
    "theta1= norm_inputs(theta0,theta)\n",
    "r1 = norm_inputs(r0,r)"
   ]
  },
  {
   "cell_type": "code",
   "execution_count": 14,
   "id": "3e0ec13e",
   "metadata": {},
   "outputs": [
    {
     "data": {
      "text/plain": [
       "0.017453292519943295"
      ]
     },
     "execution_count": 14,
     "metadata": {},
     "output_type": "execute_result"
    }
   ],
   "source": [
    "math.pi/180"
   ]
  },
  {
   "cell_type": "code",
   "execution_count": 15,
   "id": "8aafa1f6",
   "metadata": {},
   "outputs": [
    {
     "ename": "NameError",
     "evalue": "name 'Thrust' is not defined",
     "output_type": "error",
     "traceback": [
      "\u001b[0;31m---------------------------------------------------------------------------\u001b[0m",
      "\u001b[0;31mNameError\u001b[0m                                 Traceback (most recent call last)",
      "Input \u001b[0;32mIn [15]\u001b[0m, in \u001b[0;36m<cell line: 1>\u001b[0;34m()\u001b[0m\n\u001b[0;32m----> 1\u001b[0m \u001b[43mThrust\u001b[49m\n",
      "\u001b[0;31mNameError\u001b[0m: name 'Thrust' is not defined"
     ]
    }
   ],
   "source": [
    "Thrust\n"
   ]
  },
  {
   "cell_type": "code",
   "execution_count": 17,
   "id": "0b225ce3",
   "metadata": {},
   "outputs": [],
   "source": [
    "# For this trajectory we are creating a vector of Neural Network inputs and obtain the Thrust, beta predicted values.\n",
    "# given all the 7 states as input. and these controls will be sent to the DNN driven trajectory generation model\n",
    "# ip_traj = df.all\n",
    "# normalize the inputs and ouputs for observation\n",
    "data_norm = np.array([h_norm,v_norm,s_norm,omega_norm,gamma_norm,m_norm,theta_norm,T_norm,b_norm]).T\n",
    "df_norm = pd.DataFrame(data_norm,columns=['h','v','s','omega','gamma','m','theta','Thrust','beta'])\n",
    "\n",
    "# Trajectory for the given initial condition:\n",
    "data_traj = df_norm.values[idx_i:idx_f+1][:,0:9]\n",
    "ip_traj = data_traj[:,0:7]\n",
    "op_traj = data_traj[:,7:9]"
   ]
  },
  {
   "cell_type": "markdown",
   "id": "6ba343e8",
   "metadata": {},
   "source": [
    "# Intermediate trajectories averaged initial guess "
   ]
  },
  {
   "cell_type": "code",
   "execution_count": 18,
   "id": "3a6995b9",
   "metadata": {},
   "outputs": [],
   "source": [
    "## Intermediate trajectory values:\n",
    "ip_mid = [];\n",
    "op_mid = [];\n",
    "for i in range(len(ip_traj)-1):\n",
    "     ip_mid = np.append(ip_mid,(ip_traj[i,:]+ip_traj[i+1,:])/2)\n",
    "     op_mid = np.append(op_mid,(op_traj[i,:]+op_traj[i+1,:])/2)\n",
    "        \n",
    "ip_mid = ip_mid.reshape(len(ip_traj)-1,7)\n",
    "op_mid = op_mid.reshape(len(ip_traj)-1,2)"
   ]
  },
  {
   "cell_type": "code",
   "execution_count": 19,
   "id": "cad6ea9e",
   "metadata": {},
   "outputs": [
    {
     "data": {
      "text/plain": [
       "'\\nh_traj = np.where(h1==h_norm)\\nv_traj = np.where(v1==v_norm)\\ns_traj = np.where(s1==s_norm)\\nomega_traj = np.where(omega1==omega_norm)\\ngamma_traj = np.where(gamma1 == gamma_norm)\\nm_traj = np.where(m1==m_norm)\\ntheta_traj=np.where(theta1==theta_norm)\\n# T_traj=np.where(T1==T_norm)\\n# b_traj=np.where(b1==b_norm)\\n'"
      ]
     },
     "execution_count": 19,
     "metadata": {},
     "output_type": "execute_result"
    }
   ],
   "source": [
    "\"\"\"\n",
    "h_traj = np.where(h1==h_norm)\n",
    "v_traj = np.where(v1==v_norm)\n",
    "s_traj = np.where(s1==s_norm)\n",
    "omega_traj = np.where(omega1==omega_norm)\n",
    "gamma_traj = np.where(gamma1 == gamma_norm)\n",
    "m_traj = np.where(m1==m_norm)\n",
    "theta_traj=np.where(theta1==theta_norm)\n",
    "# T_traj=np.where(T1==T_norm)\n",
    "# b_traj=np.where(b1==b_norm)\n",
    "\"\"\""
   ]
  },
  {
   "cell_type": "markdown",
   "id": "d7f1dfe7",
   "metadata": {},
   "source": [
    "## Now we need to append the values for all state variables in DNN driven trajectory and then we need to antinormalize the outputs to validate with the actual trajectory."
   ]
  },
  {
   "cell_type": "code",
   "execution_count": 20,
   "id": "f4ef268c",
   "metadata": {},
   "outputs": [
    {
     "data": {
      "text/plain": [
       "array([-0.17027757, -0.170684  , -0.17105892, ..., -0.18897457,\n",
       "       -0.18897227, -0.18897   ])"
      ]
     },
     "execution_count": 20,
     "metadata": {},
     "output_type": "execute_result"
    }
   ],
   "source": [
    "def AntiNorm(Norm_value,actual):\n",
    "  return (max(actual)-min(actual))*Norm_value+min(actual)\n",
    "\n",
    "AntiNorm(T,T)\n",
    "AntiNorm(b,b)\n"
   ]
  },
  {
   "cell_type": "markdown",
   "id": "917a1514",
   "metadata": {},
   "source": [
    "## Defining variables which will be appended as the iterations progress in RK4 method:"
   ]
  },
  {
   "cell_type": "code",
   "execution_count": 21,
   "id": "8b77fc13",
   "metadata": {},
   "outputs": [],
   "source": [
    "# local variables within the DNN function\n",
    "ω2 = [];\n",
    "θ2 = [];\n",
    "v2 = [];\n",
    "γ2 = [];\n",
    "r2 = [];\n",
    "s2 = [];\n",
    "h2 = [];"
   ]
  },
  {
   "cell_type": "code",
   "execution_count": 22,
   "id": "6c22738d",
   "metadata": {},
   "outputs": [],
   "source": [
    "# global variables for appending\n",
    "ω_dnn = [];\n",
    "θ_dnn = [];\n",
    "v_dnn = [];\n",
    "γ_dnn = [];\n",
    "r_dnn = [];\n",
    "s_dnn = [];\n",
    "h_dnn = [];"
   ]
  },
  {
   "cell_type": "markdown",
   "id": "20ad5044",
   "metadata": {},
   "source": [
    "h_dnn=5\n",
    "for _ in range(5):\n",
    "    h_dnn = np.append(h_dnn,_)\n",
    "    h_dnn\n",
    "h_dnn"
   ]
  },
  {
   "cell_type": "code",
   "execution_count": 23,
   "id": "3cfb38de",
   "metadata": {},
   "outputs": [],
   "source": [
    "ip = np.array([h1,v1,s1,omega1,gamma1,m1,theta1]).reshape(1,7)\n",
    "ip_int = ip_mid[0,:]\n",
    "op_int = op_mid[0,:]"
   ]
  },
  {
   "cell_type": "code",
   "execution_count": 24,
   "id": "f42177d9",
   "metadata": {},
   "outputs": [
    {
     "name": "stdout",
     "output_type": "stream",
     "text": [
      "1.7029949e-08 1.2901937e-09 0.24050793 0.62022\n"
     ]
    }
   ],
   "source": [
    "T1,b1 = np.squeeze(model.predict(ip))\n",
    "T1_int,b1_int = np.squeeze(model.predict(ip_int.reshape(1,7)))\n",
    "print(T1,b1, T1_int,b1_int)"
   ]
  },
  {
   "cell_type": "code",
   "execution_count": 33,
   "id": "2338d9e3",
   "metadata": {},
   "outputs": [],
   "source": [
    "## Normalizing the inputs\n",
    "def norm(a,b):\n",
    "    return (a - min(b))/(max(b) - min(b))"
   ]
  },
  {
   "cell_type": "markdown",
   "id": "04bc60cd",
   "metadata": {},
   "source": [
    "## Substituting the actual values and validating if we get the same DNN"
   ]
  },
  {
   "cell_type": "code",
   "execution_count": 25,
   "id": "db6ab869",
   "metadata": {},
   "outputs": [
    {
     "name": "stdout",
     "output_type": "stream",
     "text": [
      "0.29138459162398 0.6510435332560345 0.2897757986048547 0.6501396648044693\n"
     ]
    }
   ],
   "source": [
    "T1,b1 = op_traj[0,:] # 1st row of outputs for the given inputs\n",
    "T1_int,b1_int = op_mid[0,:] # 1st row of intermediate values\n",
    "print(T1,b1, T1_int,b1_int)"
   ]
  },
  {
   "cell_type": "markdown",
   "id": "77aee454",
   "metadata": {},
   "source": [
    "## Generating the trajectory from outputs using RK4"
   ]
  },
  {
   "cell_type": "code",
   "execution_count": 34,
   "id": "3a0f6556",
   "metadata": {},
   "outputs": [],
   "source": [
    "def diff_eqn2(inputs,model): # sends norm inputs\n",
    "        \"\"\" Debugg ω, γ\"\"\"\n",
    "        r1 = inputs[0]\n",
    "        s1 = inputs[1]\n",
    "        v1 = inputs[2]\n",
    "        gamma1 = inputs[3]\n",
    "        m1 = inputs[4]\n",
    "        theta1= inputs[5]\n",
    "        omega1 = inputs[6]\n",
    "        \n",
    "        ip = np.array([r1,v1,s1,omega1,gamma1,m1,theta1]).reshape(1,7) \n",
    "        data = model.predict(ip)\n",
    "        T1,beta = np.squeeze(data)\n",
    "        \n",
    "        r1 = AntiNorm(r1,r)\n",
    "        s1 = AntiNorm(s1,s)\n",
    "        v1 = AntiNorm(v1,v)\n",
    "        gamma2 = AntiNorm(gamma1,gamma)\n",
    "        m1 = AntiNorm(m1,m)\n",
    "        theta2 = AntiNorm(theta1,theta)\n",
    "        omega2 = AntiNorm(omega1,omega)\n",
    "        \n",
    "        T1 = AntiNorm(T1,T)\n",
    "        beta = AntiNorm(beta,b)\n",
    "        \n",
    "        ## normalizing according to the equations :\n",
    "        r1 = (r1)/R0; # here r1 is already R0+h\n",
    "        s1 = s1/s0;\n",
    "        v1 = v1/v0;\n",
    "        m1 = m1/m0;\n",
    "        T1 = T1/(m0*g0)\n",
    "\n",
    "        y1 = np.array([r1,s1,v1,gamma2,m1,theta2,omega2]) # anti norms\n",
    "#         print(\"old n states\",(r1,s1,v1,gamma2,m1,theta2,omega2))\n",
    "\n",
    "        dy = np.zeros(7)\n",
    "        Dr= 0.5*1.225*((y1[2]*v0)**2)*Cd*S_ref/(m0*g0);\n",
    "        dy[0] = y1[2] * np.sin(y1[3])*(v0*t_ref/R0); \n",
    "        dy[1] = y1[2] * np.cos(y1[3])*(v0*t_ref/s0);    \n",
    "        dy[2] = - (((T1* np.cos(beta-y1[3] + y1[5])+Dr)/y1[4]) + (np.sin(y1[3])/(y1[0]**2)))*(g0*t_ref/v0);\n",
    "        dy[3] = - ((T1 * np.sin(beta-y1[3] + y1[5])/(y1[4]*y1[2])) + (np.cos(y1[3])/((y1[0]**2)*y1[2])))*(g0*t_ref/v0);\n",
    "        dy[4] = -T1/Isp*t_ref;\n",
    "        dy[5] = y1[6]*t_ref; \n",
    "        dy[6] = -T1 * np.sin(beta)*l_com*(m0*g0*t_ref)/I_z\n",
    "        \n",
    "        return dy,y1,T,norm(beta,b) "
   ]
  },
  {
   "cell_type": "code",
   "execution_count": 35,
   "id": "5da48fdf",
   "metadata": {},
   "outputs": [],
   "source": [
    "def Euler(input2,model,n):\n",
    "    global y1, y2, k1, y3\n",
    "    h_step = 1/n\n",
    "    inputs= np.array([r1,s1,v1,gamma1,m1,theta1,omega1])\n",
    "    op_dnn = np.append([],inputs) \n",
    "    op_an = []\n",
    "    for _ in range(n):\n",
    "        k1,y1,T1,b1 = diff_eqn2(inputs,model)\n",
    "        op_an = np.append(op_an,y1)\n",
    "        y2 = y1 + h_step *(k1) # euler \n",
    "        \"\"\"change y2 to normalized and append to op\n",
    "           y1 = np.array([r1,s1,v1,gamma2,m1,theta2,omega2]) \"\"\"\n",
    "        y2[3] = norm(y2[3],gamma)\n",
    "        y2[5] = norm(y2[-2],theta)\n",
    "        y2[6] = norm(y2[-1],omega)\n",
    "        op_dnn = np.append(op_dnn,y2) \n",
    "        # Normalizing them back to the way our neural network will be able to predict\n",
    "        y2[0] = norm((y2[0])*R0,r) \n",
    "        y2[1] = norm(y2[1]*s0,s)\n",
    "        y2[2] = norm(y2[2] *v0,v)\n",
    "        y2[4] = norm(y2[4] *m0,m)\n",
    "        print(\"AFTER\",y2)\n",
    "        inputs = y2 \n",
    "    return op_an,op_dnn"
   ]
  },
  {
   "cell_type": "code",
   "execution_count": 36,
   "id": "fa8ac40f",
   "metadata": {},
   "outputs": [],
   "source": [
    "def Rk4(input2,model,n):\n",
    "    global y1, y2, k1,k2,k3,k4, y3\n",
    "    h_step = 1/n\n",
    "    inputs= np.array([r1,s1,v1,gamma1,m1,theta1,omega1])\n",
    "    op_dnn = np.append([],inputs) \n",
    "    op_an = []   \n",
    "    for _ in range(n):\n",
    "        k1,y1,T1,b1 = diff_eqn2(inputs,model)\n",
    "        k2,_,_,_ = diff_eqn2(inputs+0.5*h_step*k1,model)\n",
    "        k3,_,_,_ = diff_eqn2(inputs+0.5*h_step*k2,model)\n",
    "        k4,_,_,_ = diff_eqn2(inputs+h_step*k3,model)\n",
    "    \n",
    "        y2 = y1+ h_step *(k1+2*(k2+k3)+k4)/6 \n",
    "        \n",
    "        \"\"\"change y2 to normalized and append to op\n",
    "           y1 = np.array([r1,s1,v1,gamma2,m1,theta2,omega2]) \"\"\"\n",
    "        \n",
    "        # Normalizing them back to the way our neural network will be able to predict\n",
    "        y2[0] = norm((y2[0])*R0,r) \n",
    "        y2[1] = norm(y2[1]*s0,s)\n",
    "        y2[2] = norm(y2[2] *v0,v)\n",
    "        y2[3] = norm(y2[3],gamma)\n",
    "        y2[4] = norm(y2[4] *m0,m)\n",
    "        y2[5] = norm(y2[5],theta)\n",
    "        y2[6] = norm(y2[6],omega)\n",
    "        ## \n",
    "#         print(\"AFTER\",y2)\n",
    "        inputs = y2 \n",
    "        op_dnn = np.append(op_dnn,y2) # appending trajectory states obtained by ddnn\n",
    "    \n",
    "    return op_an,op_dnn"
   ]
  },
  {
   "cell_type": "code",
   "execution_count": 48,
   "id": "13bf915f",
   "metadata": {},
   "outputs": [
    {
     "name": "stdout",
     "output_type": "stream",
     "text": [
      "AFTER [ 0.79508028  1.29492951 10.00742417 -3.4957906   0.91424328  1.16712799\n",
      "  1.79907965]\n",
      "AFTER [ 1.95862156 -8.53847102 -8.51584027 -2.16835948  0.82848657  2.72850766\n",
      "  0.95109697]\n",
      "AFTER [  2.30009641   1.38748875 -16.40773695  -3.99551148   0.74272985\n",
      "   3.26025678   1.79230705]\n",
      "AFTER [ -0.33768276  13.46350049 -60.17385807  -4.5546677    0.5665202\n",
      "   4.81341308   3.5207937 ]\n",
      "AFTER [-1.19939828e+01  3.66771865e+01 -5.76171355e+02 -4.65035004e+00\n",
      "  3.90310546e-01  8.46531823e+00  5.24928034e+00]\n",
      "AFTER [-1.25648420e+02  2.21221462e+02 -4.86913609e+04 -4.65959015e+00\n",
      "  2.14100892e-01  1.42159722e+01  6.97776699e+00]\n",
      "AFTER [-9.74545611e+03  1.55059373e+04 -3.56231674e+08 -5.53278207e+00\n",
      "  3.78912382e-02  2.20653750e+01  8.70625364e+00]\n",
      "AFTER [-7.05267102e+07 -1.08845628e+08 -1.97814407e+16 -5.53278206e+00\n",
      " -4.78654770e-02  3.20135267e+01  9.54746372e+00]\n",
      "AFTER [-3.91578651e+15 -6.04502705e+15 -6.21419391e+31 -5.53278206e+00\n",
      " -1.33622192e-01  4.29830855e+01  1.03886738e+01]\n",
      "AFTER [-1.23011547e+31 -1.89900069e+31 -6.24982292e+62 -5.53278206e+00\n",
      " -2.19378907e-01  5.49740516e+01  1.12298839e+01]\n"
     ]
    }
   ],
   "source": [
    "f1,f2= Euler(np.array([r1,s1,v1,gamma1,m1,theta1,omega1]),model,10)"
   ]
  },
  {
   "cell_type": "code",
   "execution_count": 49,
   "id": "b11354ab",
   "metadata": {},
   "outputs": [],
   "source": [
    "f2 = f2.reshape(11,7)"
   ]
  },
  {
   "cell_type": "code",
   "execution_count": 50,
   "id": "430a068d",
   "metadata": {},
   "outputs": [
    {
     "data": {
      "text/plain": [
       "array([-9.69203962e+27, -1.93088157e+31, -6.18502283e+62, -5.53278206e+00,\n",
       "        7.82901277e-01,  5.49740516e+01,  1.12298839e+01])"
      ]
     },
     "execution_count": 50,
     "metadata": {},
     "output_type": "execute_result"
    }
   ],
   "source": [
    "f2[-1,:]"
   ]
  },
  {
   "cell_type": "code",
   "execution_count": null,
   "id": "c9af25be",
   "metadata": {},
   "outputs": [],
   "source": []
  }
 ],
 "metadata": {
  "kernelspec": {
   "display_name": "Python 3 (ipykernel)",
   "language": "python",
   "name": "python3"
  },
  "language_info": {
   "codemirror_mode": {
    "name": "ipython",
    "version": 3
   },
   "file_extension": ".py",
   "mimetype": "text/x-python",
   "name": "python",
   "nbconvert_exporter": "python",
   "pygments_lexer": "ipython3",
   "version": "3.10.4"
  }
 },
 "nbformat": 4,
 "nbformat_minor": 5
}
