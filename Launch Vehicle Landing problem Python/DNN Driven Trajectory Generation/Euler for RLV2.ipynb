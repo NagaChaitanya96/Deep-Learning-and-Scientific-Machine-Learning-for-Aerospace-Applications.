{
 "cells": [
  {
   "cell_type": "code",
   "execution_count": 39,
   "id": "3de8afe0",
   "metadata": {},
   "outputs": [],
   "source": [
    "import tensorflow as tf\n",
    "import pandas as pd\n",
    "import numpy as np\n",
    "import sklearn \n",
    "from keras.layers import Dense\n",
    "from keras.models import Sequential\n",
    "import os\n",
    "import matplotlib.pyplot as plt\n",
    "import math\n",
    "\n",
    "df = pd.read_csv('/home/saichaitanya/Chaitanya/CSV files/1000 points per trajectory/May10rd1percent_RLV_data 1000 points.csv',header = None,names = ['h','v','s','omega','gamma','m','theta','Thrust','beta','time'])\n",
    "input = output =df.values\n",
    "X = input[:,0:7]\n",
    "y = output[:,7:9]\n",
    "# Individual Data\n",
    "from sklearn import preprocessing\n",
    "X_norm = preprocessing.minmax_scale(X)\n",
    "y_norm = preprocessing.minmax_scale(y)\n",
    "from sklearn.model_selection import train_test_split\n",
    "X_train, X_test, y_train, y_test = train_test_split(X_norm, y_norm, test_size=0.1, random_state=42)\n",
    "X_val = X_train[-10000:]\n",
    "y_val = y_train[-10000:]\n",
    "X_train = X_train[:-10000]\n",
    "y_train = y_train[:-10000]\n",
    "\n",
    "R0 = 6378*1000;\n",
    "g0=9.81\n",
    "Cd = 0.5\n",
    "S_ref =10.75\n",
    "Isp =300;\n",
    "I_z = 3346393\n",
    "l_com = 9.778\n",
    "t_ref = 32\n",
    "h0=5000;\n",
    "v0=325;\n",
    "s0=850;\n",
    "## The inputs and outputs which varied have values in decimals \n",
    "## rest all have been rounded off to 5-6 digits\n",
    "omega0= 0.342\n",
    "theta0= round(-75*math.pi/180,4)\n",
    "gamma0= round(-75*math.pi/180,4) #\n",
    "m0= round(26229.667,0) # our values of mass are rounded of when taking data\n",
    "r0 = h0+6378000\n",
    "\n",
    "## Here we are finding the trajectory which relates to the given input conditions\n",
    "\n",
    "# First we find the index of the row where we have the given initial conditions, we validate if we had \n",
    "# taken the correct trajectory for that we need to check the ending values of s such that s = s0.\n",
    "idx = df.loc[(df['h'] == h0) & (df['v'] == v0)]\n",
    "idx = np.array(idx.index.astype(int))\n",
    "def trajectory_finding(idx,df,s0):\n",
    "    # we have 3003 points for getting full trajectory starting from index 0-3002\n",
    "    for i in range(idx.shape[0]):\n",
    "        df2= df[idx[0]+3003*i:idx[0]+3003*(i+1)]\n",
    "        if (df2.s.values[3002]==s0):\n",
    "            break\n",
    "        else:\n",
    "            continue\n",
    "    return np.array([df2.index[0],df2.index[3002]])\n",
    "\n",
    "idx_i,idx_f = trajectory_finding(idx,df,s0)\n",
    "\n",
    "## Normalizing the inputs\n",
    "def norm(a,b):\n",
    "    return (a - min(b))/(max(b) - min(b))\n",
    "def norm_inputs(a,b):\n",
    "    return (a-min(b))/(max(b)-min(b))\n",
    "\n",
    "h = X[:,0];\n",
    "v = X[:,1];\n",
    "s = X[:,2];\n",
    "omega = X[:,3]\n",
    "gamma= X[:,4]\n",
    "m = X[:,5]\n",
    "theta = X[:,6]\n",
    "T = y[:,0]\n",
    "b = y[:,1]\n",
    "r = 6378000+h\n",
    "\n",
    "h_norm = norm_inputs(h,h)\n",
    "v_norm= norm_inputs(v,v)\n",
    "s_norm= norm_inputs(s,s)\n",
    "omega_norm= norm_inputs(omega,omega)\n",
    "gamma_norm= norm_inputs(gamma,gamma)\n",
    "m_norm= norm_inputs(m,m)\n",
    "theta_norm= norm_inputs(theta,theta)\n",
    "r_norm = norm_inputs(r,r)\n",
    "T_norm = norm_inputs(T,T)\n",
    "b_norm = norm_inputs(b,b)\n",
    "\n",
    "data_norm = np.array([h_norm,v_norm,s_norm,omega_norm,gamma_norm,m_norm,theta_norm,T_norm,b_norm]).T\n",
    "df_norm = pd.DataFrame(data_norm,columns=['h','v','s','omega','gamma','m','theta','Thrust','beta'])\n",
    "# Trajectory for the given initial condition:\n",
    "data_traj = df_norm.values[idx_i:idx_f+1][:,0:9]\n",
    "ip_traj = data_traj[:,0:7]\n",
    "op_traj = data_traj[:,7:9]"
   ]
  },
  {
   "cell_type": "code",
   "execution_count": 41,
   "id": "24dd30ec",
   "metadata": {},
   "outputs": [],
   "source": [
    "def AntiNorm(Norm_value,actual):\n",
    "  return (max(actual)-min(actual))*Norm_value+min(actual)\n",
    "\n",
    "# local variables within the DNN function\n",
    "ω2 = [];\n",
    "θ2 = [];\n",
    "v2 = [];\n",
    "γ2 = [];\n",
    "r2 = [];\n",
    "s2 = [];\n",
    "h2 = [];\n",
    "\n",
    "# global variables for appending\n",
    "ω_dnn = [];\n",
    "θ_dnn = [];\n",
    "v_dnn = [];\n",
    "γ_dnn = [];\n",
    "r_dnn = [];\n",
    "s_dnn = [];\n",
    "h_dnn = [];\n",
    "m_dnn = [];\n",
    "b_dnn = [];\n",
    "T_dnn = [];\n"
   ]
  },
  {
   "cell_type": "markdown",
   "id": "6c1484bc",
   "metadata": {},
   "source": [
    "# Giving the initial trajectory conditions \n",
    "\n"
   ]
  },
  {
   "cell_type": "code",
   "execution_count": 42,
   "id": "34fd6880",
   "metadata": {},
   "outputs": [],
   "source": [
    "h1 = h_norm[idx_i]\n",
    "s1 = s_norm[idx_i]\n",
    "v1 = v_norm[idx_i]\n",
    "omega1 = omega_norm[idx_i]\n",
    "m1 = m_norm[idx_i]\n",
    "theta1 = theta_norm[idx_i]\n",
    "gamma1 = gamma_norm[idx_i]\n",
    "r1 = r_norm[idx_i] # this is < 1 since 1 is 5025.2\n",
    "\n",
    "n= 3003"
   ]
  },
  {
   "cell_type": "markdown",
   "id": "70d1a611",
   "metadata": {},
   "source": [
    "# Loading model\n"
   ]
  },
  {
   "cell_type": "code",
   "execution_count": 14,
   "id": "9ba86640",
   "metadata": {},
   "outputs": [],
   "source": [
    "def create_model2(n):\n",
    "    model = Sequential()\n",
    "    model.add(Dense(n,input_shape=(7,),kernel_initializer='uniform'))\n",
    "    model.add(Dense(n,kernel_initializer='uniform',activation = 'relu'))\n",
    "    model.add(Dense(n,kernel_initializer='uniform',activation = 'relu')) # since tanh has more nonlinearity we add it here, it also gives -ve values so , some layers which are not necessary will lead to 0 in next layer\n",
    "    model.add(Dense(n,kernel_initializer='uniform',activation = 'relu'))\n",
    "    model.add(Dense(n,kernel_initializer='uniform',activation = 'relu'))\n",
    "    model.add(Dense(2,kernel_initializer='uniform',activation = 'sigmoid'))\n",
    "    return model\n",
    "\n",
    "i = 7;\n",
    "model = create_model2(2**i)\n",
    "path_Of_model =f\"/home/saichaitanya/Chaitanya/GOOGLE COLAB  DOCS/1new percent variation/1000 points 7 states and 2 op with val_set having 128 neurons and batchsize 256/cp.ckpt\"\n",
    "model.load_weights(path_Of_model)\n",
    "\n",
    "opt = tf.keras.optimizers.Adam(learning_rate=0.001)\n",
    "loss = tf.keras.losses.mean_squared_error\n",
    "model.compile(optimizer=opt,loss=loss,metrics='accuracy')\n",
    "# loss,accuracy = model.evaluate(X_norm,y_norm)\n",
    "\n",
    "h_dnn = np.append(h_dnn,h1)\n",
    "r_dnn = np.append(r_dnn,r1)\n",
    "s_dnn = np.append(s_dnn,s1)\n",
    "γ_dnn = np.append(γ_dnn,gamma1)\n",
    "m_dnn = np.append(m_dnn,m1)\n",
    "θ_dnn = np.append(θ_dnn,theta1)\n",
    "ω_dnn = np.append(ω_dnn,omega1)\n",
    "v_dnn = np.append(v_dnn,v1)\n"
   ]
  },
  {
   "cell_type": "code",
   "execution_count": 59,
   "id": "b8354154",
   "metadata": {},
   "outputs": [],
   "source": [
    "def Euler(number_of_steps,height,down_s_dis,velocity,ω,θ,γ,mass,radius,model):\n",
    "    h1=height; r1=radius; s1=down_s_dis; gamma1=γ; theta1=θ; m1=mass; omega1= ω; v1=velocity\n",
    "    \n",
    "    h_step = 1/3003;\n",
    "    \n",
    "    h_dnn = np.append([],h1)\n",
    "    r_dnn = np.append([],r1)\n",
    "    s_dnn = np.append([],s1)\n",
    "    γ_dnn = np.append([],gamma1)\n",
    "    m_dnn = np.append([],m1)\n",
    "    θ_dnn = np.append([],theta1)\n",
    "    ω_dnn = np.append([],omega1)\n",
    "    v_dnn = np.append([],v1)\n",
    "    ip_i = np.array([h1,v1,s1,omega1,gamma1,m1,theta1]).reshape(1,7)  \n",
    "    data_i = model.predict(ip_i)\n",
    "    T1_i,b1_i = np.squeeze(data_i)\n",
    "    b_dnn = np.append([],b1_i)\n",
    "    T_dnn = np.append([],T1_i)\n",
    "    for _ in range(n):\n",
    "        ip = np.array([h1,v1,s1,omega1,gamma1,m1,theta1]).reshape(1,7)  \n",
    "        data = model.predict(ip)\n",
    "        T1,b1 = np.squeeze(data)\n",
    "        # we should antinormalize the angles before substituting in Euler method\n",
    "        b1 = AntiNorm(b1,b)\n",
    "        omega1 = AntiNorm(omega1,omega)\n",
    "        theta1 = AntiNorm(theta1,theta)\n",
    "        gamma1 = AntiNorm(gamma1,gamma)\n",
    "        ## code for Euler implementation\n",
    "        # omega\n",
    "        c2 = (t_ref*m0*g0*l_com/I_z)\n",
    "        omega2 = omega1  - T1*np.sin(b1)*c2 * h_step\n",
    "        # theta\n",
    "        theta2 = theta1 + t_ref*omega1 * h_step\n",
    "        # mass \n",
    "        m2 = m1 -(t_ref/Isp)*T1 * h_step\n",
    "        # gamma\n",
    "        gamma2 = gamma1 -(g0*t_ref/v0) *(((T1 * np.sin(b1 - gamma1 + theta1))/(m1*v1)) + (np.cos(gamma1)/(r1**2 * v1))) * h_step\n",
    "        # velocity\n",
    "        c1 = 0.5*1.225*Cd*(v0)**2 *S_ref / (m0*g0)\n",
    "        D1 = c1 * v1**2\n",
    "        v2 = v1 -(g0*t_ref/v0) *(((T1 * np.cos(b1 - gamma1 + theta1) + D1)/m1) + (np.sin(gamma1)/(r1**2))) * h_step\n",
    "        # downrange\n",
    "        c4 = (v0*t_ref/s0)\n",
    "        s2 = s1 + c4 * v1 * np.cos(gamma1) * h_step\n",
    "        # radius from COE\n",
    "        c3 = (v0*t_ref/R0)\n",
    "        r2 = r1 + c3 * v1 * np.sin(gamma1) * h_step\n",
    "        # height \n",
    "        h2 = norm(AntiNorm(r2,r)-6378000,h)\n",
    "#         print(\"before normalizing\")\n",
    "#         print(_,omega2,theta2,gamma2)\n",
    "        \n",
    "\n",
    "        ## We should normalize the outputs before sending into the NN model\n",
    "        omega2 = norm(omega2,omega)\n",
    "        theta2 = norm(theta2,theta)\n",
    "        gamma2 = norm(gamma2,gamma)\n",
    "#         print(\"after normalizing\")\n",
    "#         print(omega2,theta2,gamma2)\n",
    "\n",
    "\n",
    "        ## stating the new values as inputs for the next iteration ALL THE VALUES HERE ARE NORMALIZED\n",
    "        r1 = r2;\n",
    "        s1 = s2;\n",
    "        gamma1 = gamma2\n",
    "        h1 = h2;\n",
    "        m1 = m2;\n",
    "        theta1 = theta2;\n",
    "        omega1 = omega2;\n",
    "        v1= v2;\n",
    "        print(_,round(h1,5),round(v1,5),round(s1,5),round(omega1,5),round(gamma1,5),round(m1,5),round(theta1,5),round(T1,5),round(b1,5))\n",
    "        ## Storing the data set of all values to get a trajectory from the given outputs\n",
    "        h_dnn = np.append(h_dnn,h1)\n",
    "        r_dnn = np.append(r_dnn,r1)\n",
    "        s_dnn = np.append(s_dnn,s1)\n",
    "        γ_dnn = np.append(γ_dnn,gamma1)\n",
    "        m_dnn = np.append(m_dnn,m1)\n",
    "        θ_dnn = np.append(θ_dnn,theta1)\n",
    "        ω_dnn = np.append(ω_dnn,omega1)\n",
    "        v_dnn = np.append(v_dnn,v1)\n",
    "        \n",
    "        ## storing the controls also in vector\n",
    "        b_dnn = np.append(b_dnn,b1) # these dnns are initialized with 0 \n",
    "        T_dnn = np.append(T_dnn,T1)# these dnns are initialized with 0 \n",
    "        \n",
    "    return h_dnn,r_dnn,s_dnn,γ_dnn,m_dnn,θ_dnn,ω_dnn,v_dnn,b_dnn,T_dnn\n",
    "        "
   ]
  },
  {
   "cell_type": "code",
   "execution_count": 60,
   "id": "2883d736",
   "metadata": {},
   "outputs": [],
   "source": [
    "n = 10"
   ]
  },
  {
   "cell_type": "code",
   "execution_count": 61,
   "id": "30cba1ae",
   "metadata": {
    "scrolled": true
   },
   "outputs": [
    {
     "name": "stdout",
     "output_type": "stream",
     "text": [
      "0 0.99498 0.99474 0.00105 0.95777 0.54457 0.99999 0.62895 0.22955 0.04302\n",
      "1 0.99498 0.99456 0.0021 0.95769 0.54443 0.99999 0.63075 0.19215 0.03731\n",
      "2 0.99498 0.9944 0.00315 0.95764 0.54428 0.99998 0.63255 0.15792 0.03058\n",
      "3 0.99498 0.99424 0.00419 0.95761 0.54414 0.99997 0.63435 0.12841 0.02352\n",
      "4 0.99498 0.99409 0.00524 0.95759 0.544 0.99997 0.63614 0.10655 0.01653\n",
      "5 0.99498 0.99394 0.00629 0.95758 0.54386 0.99997 0.63794 0.09141 0.01042\n",
      "6 0.99498 0.9938 0.00733 0.95758 0.54371 0.99997 0.63974 0.07832 0.00488\n",
      "7 0.99498 0.99367 0.00838 0.95758 0.54357 0.99996 0.64153 0.0675 6e-05\n",
      "8 0.99498 0.99353 0.00942 0.95758 0.54343 0.99996 0.64333 0.05851 -0.0041\n",
      "9 0.99498 0.9934 0.01047 0.95758 0.54329 0.99996 0.64513 0.04816 -0.00796\n"
     ]
    }
   ],
   "source": [
    "h_dnn,r_dnn,s_dnn,γ_dnn,m_dnn,θ_dnn,ω_dnn,v_dnn,b_dnn,T_dnn= Euler(n,h1,s1,v1,omega1,theta1,gamma1,m1,r1,model)"
   ]
  },
  {
   "cell_type": "code",
   "execution_count": 75,
   "id": "384fa1b1",
   "metadata": {},
   "outputs": [],
   "source": [
    "pred = model.predict(X_norm)"
   ]
  },
  {
   "cell_type": "code",
   "execution_count": 135,
   "id": "7c9bb26f",
   "metadata": {},
   "outputs": [
    {
     "data": {
      "text/plain": [
       "[<matplotlib.lines.Line2D at 0x7f00462b08b0>]"
      ]
     },
     "execution_count": 135,
     "metadata": {},
     "output_type": "execute_result"
    },
    {
     "data": {
      "image/png": "[encoded data removed]",
      "text/plain": [
       "<Figure size 432x288 with 1 Axes>"
      ]
     },
     "metadata": {
      "needs_background": "light"
     },
     "output_type": "display_data"
    }
   ],
   "source": [
    "i=1\n",
    "j = int(idx_i/3003)\n",
    "no = 0\n",
    "plt.plot(pred[:,i][0+3003*j:3003*(j+1)])\n",
    "plt.plot(y_norm[:,i][0+3003*j:3003*(j+1)])\n",
    "plt.legend(['pred','actual'])"
   ]
  },
  {
   "cell_type": "code",
   "execution_count": 141,
   "id": "6a712ab4",
   "metadata": {},
   "outputs": [
    {
     "data": {
      "text/plain": [
       "[<matplotlib.lines.Line2D at 0x7f0046d1d900>]"
      ]
     },
     "execution_count": 141,
     "metadata": {},
     "output_type": "execute_result"
    },
    {
     "data": {
      "image/png": "[encoded data removed]",
      "text/plain": [
       "<Figure size 432x288 with 1 Axes>"
      ]
     },
     "metadata": {
      "needs_background": "light"
     },
     "output_type": "display_data"
    }
   ],
   "source": [
    "plt.plot(pred[:,i][0+no:70],label = 'pred')\n",
    "plt.plot(y_norm[:,i][0+no:70])\n",
    "plt.legend(['pred','actual'])\n"
   ]
  },
  {
   "cell_type": "code",
   "execution_count": 107,
   "id": "39a5a85d",
   "metadata": {
    "scrolled": true
   },
   "outputs": [
    {
     "data": {
      "text/plain": [
       "[<matplotlib.lines.Line2D at 0x7f0046c783d0>]"
      ]
     },
     "execution_count": 107,
     "metadata": {},
     "output_type": "execute_result"
    },
    {
     "data": {
      "image/png": "[encoded data removed]",
      "text/plain": [
       "<Figure size 432x288 with 1 Axes>"
      ]
     },
     "metadata": {
      "needs_background": "light"
     },
     "output_type": "display_data"
    }
   ],
   "source": [
    "plt.plot(T_dnn)\n",
    "plt.plot(T_norm[idx_i:idx_i+10])"
   ]
  },
  {
   "cell_type": "code",
   "execution_count": 63,
   "id": "d0e58ebf",
   "metadata": {},
   "outputs": [
    {
     "data": {
      "text/plain": [
       "[<matplotlib.lines.Line2D at 0x7f00f830ded0>]"
      ]
     },
     "execution_count": 63,
     "metadata": {},
     "output_type": "execute_result"
    },
    {
     "data": {
      "image/png": "[encoded data removed]",
      "text/plain": [
       "<Figure size 432x288 with 1 Axes>"
      ]
     },
     "metadata": {
      "needs_background": "light"
     },
     "output_type": "display_data"
    }
   ],
   "source": [
    "plt.plot(h_dnn)\n",
    "plt.plot(h_norm[idx_i:idx_i+10])"
   ]
  },
  {
   "cell_type": "code",
   "execution_count": 64,
   "id": "4c2af353",
   "metadata": {},
   "outputs": [
    {
     "data": {
      "text/html": [
       "<div>\n",
       "<style scoped>\n",
       "    .dataframe tbody tr th:only-of-type {\n",
       "        vertical-align: middle;\n",
       "    }\n",
       "\n",
       "    .dataframe tbody tr th {\n",
       "        vertical-align: top;\n",
       "    }\n",
       "\n",
       "    .dataframe thead th {\n",
       "        text-align: right;\n",
       "    }\n",
       "</style>\n",
       "<table border=\"1\" class=\"dataframe\">\n",
       "  <thead>\n",
       "    <tr style=\"text-align: right;\">\n",
       "      <th></th>\n",
       "      <th>h</th>\n",
       "      <th>v</th>\n",
       "      <th>s</th>\n",
       "      <th>omega</th>\n",
       "      <th>gamma</th>\n",
       "      <th>m</th>\n",
       "      <th>theta</th>\n",
       "      <th>Thrust</th>\n",
       "      <th>beta</th>\n",
       "    </tr>\n",
       "  </thead>\n",
       "  <tbody>\n",
       "    <tr>\n",
       "      <th>1093092</th>\n",
       "      <td>0.994985</td>\n",
       "      <td>0.994932</td>\n",
       "      <td>6.319090e-09</td>\n",
       "      <td>0.957870</td>\n",
       "      <td>0.544715</td>\n",
       "      <td>1.000000</td>\n",
       "      <td>0.627156</td>\n",
       "      <td>0.291385</td>\n",
       "      <td>0.651044</td>\n",
       "    </tr>\n",
       "    <tr>\n",
       "      <th>1093093</th>\n",
       "      <td>0.993553</td>\n",
       "      <td>0.993346</td>\n",
       "      <td>2.226162e-03</td>\n",
       "      <td>0.955451</td>\n",
       "      <td>0.544218</td>\n",
       "      <td>0.999143</td>\n",
       "      <td>0.631004</td>\n",
       "      <td>0.288167</td>\n",
       "      <td>0.649236</td>\n",
       "    </tr>\n",
       "    <tr>\n",
       "      <th>1093094</th>\n",
       "      <td>0.992120</td>\n",
       "      <td>0.991792</td>\n",
       "      <td>4.446765e-03</td>\n",
       "      <td>0.953071</td>\n",
       "      <td>0.543886</td>\n",
       "      <td>0.998287</td>\n",
       "      <td>0.634852</td>\n",
       "      <td>0.285027</td>\n",
       "      <td>0.647533</td>\n",
       "    </tr>\n",
       "    <tr>\n",
       "      <th>1093095</th>\n",
       "      <td>0.990707</td>\n",
       "      <td>0.990237</td>\n",
       "      <td>6.661582e-03</td>\n",
       "      <td>0.950731</td>\n",
       "      <td>0.543388</td>\n",
       "      <td>0.997430</td>\n",
       "      <td>0.638652</td>\n",
       "      <td>0.282041</td>\n",
       "      <td>0.645934</td>\n",
       "    </tr>\n",
       "    <tr>\n",
       "      <th>1093096</th>\n",
       "      <td>0.989274</td>\n",
       "      <td>0.988683</td>\n",
       "      <td>8.870614e-03</td>\n",
       "      <td>0.948403</td>\n",
       "      <td>0.542890</td>\n",
       "      <td>0.996788</td>\n",
       "      <td>0.642451</td>\n",
       "      <td>0.279158</td>\n",
       "      <td>0.644437</td>\n",
       "    </tr>\n",
       "    <tr>\n",
       "      <th>1093097</th>\n",
       "      <td>0.987861</td>\n",
       "      <td>0.987128</td>\n",
       "      <td>1.107386e-02</td>\n",
       "      <td>0.946115</td>\n",
       "      <td>0.542393</td>\n",
       "      <td>0.995931</td>\n",
       "      <td>0.646201</td>\n",
       "      <td>0.276378</td>\n",
       "      <td>0.643040</td>\n",
       "    </tr>\n",
       "    <tr>\n",
       "      <th>1093098</th>\n",
       "      <td>0.986448</td>\n",
       "      <td>0.985605</td>\n",
       "      <td>1.327132e-02</td>\n",
       "      <td>0.943852</td>\n",
       "      <td>0.541895</td>\n",
       "      <td>0.995075</td>\n",
       "      <td>0.649950</td>\n",
       "      <td>0.273701</td>\n",
       "      <td>0.641741</td>\n",
       "    </tr>\n",
       "    <tr>\n",
       "      <th>1093099</th>\n",
       "      <td>0.985016</td>\n",
       "      <td>0.984050</td>\n",
       "      <td>1.546277e-02</td>\n",
       "      <td>0.941616</td>\n",
       "      <td>0.541397</td>\n",
       "      <td>0.994433</td>\n",
       "      <td>0.653700</td>\n",
       "      <td>0.271101</td>\n",
       "      <td>0.640540</td>\n",
       "    </tr>\n",
       "    <tr>\n",
       "      <th>1093100</th>\n",
       "      <td>0.983603</td>\n",
       "      <td>0.982527</td>\n",
       "      <td>1.764843e-02</td>\n",
       "      <td>0.939392</td>\n",
       "      <td>0.540899</td>\n",
       "      <td>0.993576</td>\n",
       "      <td>0.657401</td>\n",
       "      <td>0.268630</td>\n",
       "      <td>0.639433</td>\n",
       "    </tr>\n",
       "    <tr>\n",
       "      <th>1093101</th>\n",
       "      <td>0.982190</td>\n",
       "      <td>0.981003</td>\n",
       "      <td>1.982714e-02</td>\n",
       "      <td>0.937194</td>\n",
       "      <td>0.540236</td>\n",
       "      <td>0.992719</td>\n",
       "      <td>0.661101</td>\n",
       "      <td>0.266210</td>\n",
       "      <td>0.638421</td>\n",
       "    </tr>\n",
       "  </tbody>\n",
       "</table>\n",
       "</div>"
      ],
      "text/plain": [
       "                h         v             s     omega     gamma         m  \\\n",
       "1093092  0.994985  0.994932  6.319090e-09  0.957870  0.544715  1.000000   \n",
       "1093093  0.993553  0.993346  2.226162e-03  0.955451  0.544218  0.999143   \n",
       "1093094  0.992120  0.991792  4.446765e-03  0.953071  0.543886  0.998287   \n",
       "1093095  0.990707  0.990237  6.661582e-03  0.950731  0.543388  0.997430   \n",
       "1093096  0.989274  0.988683  8.870614e-03  0.948403  0.542890  0.996788   \n",
       "1093097  0.987861  0.987128  1.107386e-02  0.946115  0.542393  0.995931   \n",
       "1093098  0.986448  0.985605  1.327132e-02  0.943852  0.541895  0.995075   \n",
       "1093099  0.985016  0.984050  1.546277e-02  0.941616  0.541397  0.994433   \n",
       "1093100  0.983603  0.982527  1.764843e-02  0.939392  0.540899  0.993576   \n",
       "1093101  0.982190  0.981003  1.982714e-02  0.937194  0.540236  0.992719   \n",
       "\n",
       "            theta    Thrust      beta  \n",
       "1093092  0.627156  0.291385  0.651044  \n",
       "1093093  0.631004  0.288167  0.649236  \n",
       "1093094  0.634852  0.285027  0.647533  \n",
       "1093095  0.638652  0.282041  0.645934  \n",
       "1093096  0.642451  0.279158  0.644437  \n",
       "1093097  0.646201  0.276378  0.643040  \n",
       "1093098  0.649950  0.273701  0.641741  \n",
       "1093099  0.653700  0.271101  0.640540  \n",
       "1093100  0.657401  0.268630  0.639433  \n",
       "1093101  0.661101  0.266210  0.638421  "
      ]
     },
     "execution_count": 64,
     "metadata": {},
     "output_type": "execute_result"
    }
   ],
   "source": [
    "df_norm[idx_i:idx_i+10]"
   ]
  },
  {
   "cell_type": "code",
   "execution_count": 44,
   "id": "11782561",
   "metadata": {
    "scrolled": true
   },
   "outputs": [
    {
     "data": {
      "text/html": [
       "<div>\n",
       "<style scoped>\n",
       "    .dataframe tbody tr th:only-of-type {\n",
       "        vertical-align: middle;\n",
       "    }\n",
       "\n",
       "    .dataframe tbody tr th {\n",
       "        vertical-align: top;\n",
       "    }\n",
       "\n",
       "    .dataframe thead th {\n",
       "        text-align: right;\n",
       "    }\n",
       "</style>\n",
       "<table border=\"1\" class=\"dataframe\">\n",
       "  <thead>\n",
       "    <tr style=\"text-align: right;\">\n",
       "      <th></th>\n",
       "      <th>omega</th>\n",
       "      <th>theta</th>\n",
       "      <th>gamma</th>\n",
       "    </tr>\n",
       "  </thead>\n",
       "  <tbody>\n",
       "    <tr>\n",
       "      <th>1093092</th>\n",
       "      <td>0.34200</td>\n",
       "      <td>-1.3090</td>\n",
       "      <td>-1.3090</td>\n",
       "    </tr>\n",
       "    <tr>\n",
       "      <th>1093093</th>\n",
       "      <td>0.34014</td>\n",
       "      <td>-1.3012</td>\n",
       "      <td>-1.3093</td>\n",
       "    </tr>\n",
       "    <tr>\n",
       "      <th>1093094</th>\n",
       "      <td>0.33831</td>\n",
       "      <td>-1.2934</td>\n",
       "      <td>-1.3095</td>\n",
       "    </tr>\n",
       "    <tr>\n",
       "      <th>1093095</th>\n",
       "      <td>0.33651</td>\n",
       "      <td>-1.2857</td>\n",
       "      <td>-1.3098</td>\n",
       "    </tr>\n",
       "    <tr>\n",
       "      <th>1093096</th>\n",
       "      <td>0.33472</td>\n",
       "      <td>-1.2780</td>\n",
       "      <td>-1.3101</td>\n",
       "    </tr>\n",
       "    <tr>\n",
       "      <th>1093097</th>\n",
       "      <td>0.33296</td>\n",
       "      <td>-1.2704</td>\n",
       "      <td>-1.3104</td>\n",
       "    </tr>\n",
       "    <tr>\n",
       "      <th>1093098</th>\n",
       "      <td>0.33122</td>\n",
       "      <td>-1.2628</td>\n",
       "      <td>-1.3107</td>\n",
       "    </tr>\n",
       "    <tr>\n",
       "      <th>1093099</th>\n",
       "      <td>0.32950</td>\n",
       "      <td>-1.2552</td>\n",
       "      <td>-1.3110</td>\n",
       "    </tr>\n",
       "    <tr>\n",
       "      <th>1093100</th>\n",
       "      <td>0.32779</td>\n",
       "      <td>-1.2477</td>\n",
       "      <td>-1.3113</td>\n",
       "    </tr>\n",
       "    <tr>\n",
       "      <th>1093101</th>\n",
       "      <td>0.32610</td>\n",
       "      <td>-1.2402</td>\n",
       "      <td>-1.3117</td>\n",
       "    </tr>\n",
       "  </tbody>\n",
       "</table>\n",
       "</div>"
      ],
      "text/plain": [
       "           omega   theta   gamma\n",
       "1093092  0.34200 -1.3090 -1.3090\n",
       "1093093  0.34014 -1.3012 -1.3093\n",
       "1093094  0.33831 -1.2934 -1.3095\n",
       "1093095  0.33651 -1.2857 -1.3098\n",
       "1093096  0.33472 -1.2780 -1.3101\n",
       "1093097  0.33296 -1.2704 -1.3104\n",
       "1093098  0.33122 -1.2628 -1.3107\n",
       "1093099  0.32950 -1.2552 -1.3110\n",
       "1093100  0.32779 -1.2477 -1.3113\n",
       "1093101  0.32610 -1.2402 -1.3117"
      ]
     },
     "execution_count": 44,
     "metadata": {},
     "output_type": "execute_result"
    }
   ],
   "source": [
    "df[['omega','theta','gamma']][idx_i:idx_i+10]"
   ]
  },
  {
   "cell_type": "code",
   "execution_count": 150,
   "id": "eaccbca4",
   "metadata": {},
   "outputs": [],
   "source": [
    "ip = np.array([h1,v1,s1,omega1,gamma1,m1,theta1]).reshape(1,7)  \n",
    "h_step = 1/3003"
   ]
  },
  {
   "cell_type": "code",
   "execution_count": 156,
   "id": "1d2ccd85",
   "metadata": {},
   "outputs": [],
   "source": [
    "data = model.predict(ip)\n",
    "T1,b1 = np.squeeze(data)\n"
   ]
  },
  {
   "cell_type": "code",
   "execution_count": 158,
   "id": "99c65efc",
   "metadata": {},
   "outputs": [
    {
     "data": {
      "text/plain": [
       "1.0"
      ]
     },
     "execution_count": 158,
     "metadata": {},
     "output_type": "execute_result"
    }
   ],
   "source": [
    "T1"
   ]
  },
  {
   "cell_type": "code",
   "execution_count": 161,
   "id": "eff2c628",
   "metadata": {},
   "outputs": [
    {
     "data": {
      "text/plain": [
       "0.05808817712"
      ]
     },
     "execution_count": 161,
     "metadata": {},
     "output_type": "execute_result"
    }
   ],
   "source": [
    "AntiNorm(0.651044,b)"
   ]
  },
  {
   "cell_type": "code",
   "execution_count": 160,
   "id": "d775280b",
   "metadata": {},
   "outputs": [
    {
     "data": {
      "text/plain": [
       "-0.11668643216575819"
      ]
     },
     "execution_count": 160,
     "metadata": {},
     "output_type": "execute_result"
    }
   ],
   "source": [
    "b1 = AntiNorm(b1,b)\n",
    "b1"
   ]
  },
  {
   "cell_type": "code",
   "execution_count": null,
   "id": "18c57e0e",
   "metadata": {},
   "outputs": [],
   "source": [
    "# we should antinormalize the angles before substituting in Euler method\n",
    "b1 = AntiNorm(b1,b)\n",
    "omega1 = AntiNorm(omega1,omega)\n",
    "theta1 = AntiNorm(theta1,theta)\n",
    "gamma1 = AntiNorm(gamma1,gamma)\n",
    "## code for Euler implementation\n",
    "# omega\n",
    "c2 = (t_ref*m0*g0*l_com/I_z)\n",
    "omega2 = omega1  - T1*np.sin(b1)*c2 * h_step\n",
    "print(omega1,omega2)\n",
    "# theta\n",
    "theta2 = theta1 + t_ref*omega1 * h_step\n",
    "# mass \n",
    "m2 = m1 -(t_ref/Isp)*T1 * h_step\n",
    "# gamma\n",
    "gamma2 = gamma1 -(g0*t_ref/v0) *(((T1 * np.sin(b1 - gamma1 + theta1))/(m1*v1)) + (np.cos(gamma1)/(r1**2 * v1))) * h_step\n",
    "# velocity\n",
    "c1 = 0.5*1.225*Cd*(v0)**2 *S_ref / (m0*g0)\n",
    "D1 = c1 * v1**2\n",
    "v2 = v1 -(g0*t_ref/v0) *(((T1 * np.cos(b1 - gamma1 + theta1) + D1)/m1) + (np.sin(gamma1)/(r1**2))) * h_step\n",
    "# downrange\n",
    "c4 = (v0*t_ref/s0)\n",
    "s2 = s1 + c4 * v1 * np.cos(gamma1) * h_step\n",
    "# radius from COE\n",
    "c3 = (v0*t_ref/R0)\n",
    "r2 = r1 + c3 * v1 * np.sin(gamma1) * h_step\n",
    "# height \n",
    "h2 = norm(AntiNorm(r2,r)-6378000,h)\n"
   ]
  },
  {
   "cell_type": "code",
   "execution_count": null,
   "id": "07064839",
   "metadata": {},
   "outputs": [],
   "source": [
    "\n",
    "## We should normalize the outputs before sending into the NN model\n",
    "omega2 = norm(omega2,omega)\n",
    "theta2 = norm(theta2,theta)\n",
    "gamma2 = norm(gamma2,gamma)\n",
    "## stating the new values as inputs for the next iteration ALL THE VALUES HERE ARE NORMALIZED\n",
    "r1 = r2;\n",
    "s1 = s2;\n",
    "gamma1 = gamma2\n",
    "h1 = h2;\n",
    "m1 = m2;\n",
    "theta1 = theta2;\n",
    "omega1 = omega2;\n",
    "v1= v2;\n",
    "## Storing the data set of all values to get a trajectory from the given outputs\n",
    "h_dnn = np.append(h_dnn,h1)\n",
    "r_dnn = np.append(r_dnn,r1)\n",
    "s_dnn = np.append(s_dnn,s1)\n",
    "γ_dnn = np.append(γ_dnn,gamma1)\n",
    "m_dnn = np.append(m_dnn,m1)\n",
    "θ_dnn = np.append(θ_dnn,theta1)\n",
    "ω_dnn = np.append(ω_dnn,omega1)\n",
    "v_dnn = np.append(v_dnn,v1)\n",
    "\n",
    "## storing the controls also in vector\n",
    "b_dnn = np.append(b_dnn,b1)\n",
    "T_dnn = np.append(T_dnn,T1)"
   ]
  },
  {
   "cell_type": "code",
   "execution_count": null,
   "id": "82d29d81",
   "metadata": {},
   "outputs": [],
   "source": []
  },
  {
   "cell_type": "code",
   "execution_count": null,
   "id": "741c8e73",
   "metadata": {},
   "outputs": [],
   "source": []
  }
 ],
 "metadata": {
  "kernelspec": {
   "display_name": "Python 3 (ipykernel)",
   "language": "python",
   "name": "python3"
  },
  "language_info": {
   "codemirror_mode": {
    "name": "ipython",
    "version": 3
   },
   "file_extension": ".py",
   "mimetype": "text/x-python",
   "name": "python",
   "nbconvert_exporter": "python",
   "pygments_lexer": "ipython3",
   "version": "3.10.4"
  }
 },
 "nbformat": 4,
 "nbformat_minor": 5
}
