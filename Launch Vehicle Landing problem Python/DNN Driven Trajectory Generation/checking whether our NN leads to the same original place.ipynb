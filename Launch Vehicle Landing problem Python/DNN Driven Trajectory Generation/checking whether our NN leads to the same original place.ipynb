{
 "cells": [
  {
   "cell_type": "code",
   "execution_count": 1,
   "id": "385f308b",
   "metadata": {},
   "outputs": [],
   "source": [
    "import tensorflow as tf\n",
    "import pandas as pd\n",
    "import numpy as np\n",
    "import sklearn \n",
    "from keras.layers import Dense\n",
    "from keras.models import Sequential\n",
    "import os\n",
    "import matplotlib.pyplot as plt\n",
    "import math\n",
    "\n",
    "df = pd.read_csv('/home/saichaitanya/Chaitanya/CSV files/1000 points per trajectory/May10rd1percent_RLV_data 1000 points.csv',header = None,names = ['h','v','s','omega','gamma','m','theta','Thrust','beta','time'])\n",
    "# input = output =df.values\n",
    "# X = input[:,0:7]\n",
    "# y = output[:,7:9]\n",
    "# Individual Data\n",
    "R0 = 6378*1000;\n",
    "g0=9.81\n",
    "Cd = 0.5\n",
    "S_ref =10.75\n",
    "Isp =300;\n",
    "I_z = 3346393\n",
    "l_com = 9.778\n",
    "t_ref = 32\n",
    "h0=5000;\n",
    "v0=325;\n",
    "s0=850;\n",
    "## The inputs and outputs which varied have values in decimals \n",
    "## rest all have been rounded off to 5-6 digits\n",
    "omega0= 0.342\n",
    "theta0= round(-75*math.pi/180,4)\n",
    "gamma0= round(-75*math.pi/180,4) #\n",
    "m0= round(26229.667,0) # our values of mass are rounded of when taking data\n",
    "r0 = h0+6378000\n",
    "\n",
    "idx = df.loc[(df['h'] == h0) & (df['v'] == v0)]\n",
    "idx = np.array(idx.index.astype(int))\n",
    "def trajectory_finding(idx,df,s0):\n",
    "    # we have 3003 points for getting full trajectory starting from index 0-3002\n",
    "    for i in range(idx.shape[0]):\n",
    "        df2= df[idx[0]+3003*i:idx[0]+3003*(i+1)]\n",
    "        if (df2.s.values[3002]==s0):\n",
    "            break\n",
    "        else:\n",
    "            continue\n",
    "    return np.array([df2.index[0],df2.index[3002]])\n",
    "\n",
    "idx_i,idx_f = trajectory_finding(idx,df,s0)\n",
    "\n"
   ]
  },
  {
   "cell_type": "code",
   "execution_count": 2,
   "id": "86466416",
   "metadata": {},
   "outputs": [
    {
     "name": "stderr",
     "output_type": "stream",
     "text": [
      "2022-05-23 12:43:49.987226: W tensorflow/stream_executor/platform/default/dso_loader.cc:64] Could not load dynamic library 'libcudnn.so.8'; dlerror: libcudnn.so.8: cannot open shared object file: No such file or directory\n",
      "2022-05-23 12:43:49.987277: W tensorflow/core/common_runtime/gpu/gpu_device.cc:1850] Cannot dlopen some GPU libraries. Please make sure the missing libraries mentioned above are installed properly if you would like to use GPU. Follow the guide at https://www.tensorflow.org/install/gpu for how to download and setup the required libraries for your platform.\n",
      "Skipping registering GPU devices...\n",
      "2022-05-23 12:43:49.988033: I tensorflow/core/platform/cpu_feature_guard.cc:151] This TensorFlow binary is optimized with oneAPI Deep Neural Network Library (oneDNN) to use the following CPU instructions in performance-critical operations:  AVX2 AVX512F FMA\n",
      "To enable them in other operations, rebuild TensorFlow with the appropriate compiler flags.\n"
     ]
    },
    {
     "name": "stdout",
     "output_type": "stream",
     "text": [
      "The Number of Hidden units used is:  128\n",
      "94/94 [==============================] - 0s 2ms/step - loss: 6.0173e-07 - accuracy: 0.9993\n"
     ]
    },
    {
     "data": {
      "image/png": "[encoded data removed]",
      "text/plain": [
       "<Figure size 432x288 with 1 Axes>"
      ]
     },
     "metadata": {
      "needs_background": "light"
     },
     "output_type": "display_data"
    }
   ],
   "source": [
    "input = output = df.values[idx_i:idx_f]\n",
    "X = input[:,0:7]\n",
    "y = output[:,7:9]\n",
    "\n",
    "from sklearn import preprocessing\n",
    "X_norm = preprocessing.minmax_scale(X)\n",
    "y_norm = preprocessing.minmax_scale(y)\n",
    "from sklearn.model_selection import train_test_split\n",
    "X_train, X_test, y_train, y_test = train_test_split(X_norm, y_norm, test_size=0.1, random_state=42)\n",
    "X_val = X_train[-int(X.shape[0]*0.1):]\n",
    "y_val = y_train[-int(X.shape[0]*0.1):]\n",
    "X_train = X_train[:-int(X.shape[0]*0.1)]\n",
    "y_train = y_train[:-int(X.shape[0]*0.1)]\n",
    "\n",
    "## Normalizing the inputs\n",
    "def norm(a,b):\n",
    "    return (a - min(b))/(max(b) - min(b))\n",
    "def norm_inputs(a,b):\n",
    "    return (a-min(b))/(max(b)-min(b))\n",
    "\n",
    "h = X[:,0];\n",
    "v = X[:,1];\n",
    "s = X[:,2];\n",
    "omega = X[:,3]\n",
    "gamma= X[:,4]\n",
    "m = X[:,5]\n",
    "theta = X[:,6]\n",
    "T = y[:,0]\n",
    "b = y[:,1]\n",
    "r = 6378000+h\n",
    "\n",
    "h_norm = norm_inputs(h,h)\n",
    "v_norm= norm_inputs(v,v)\n",
    "s_norm= norm_inputs(s,s)\n",
    "omega_norm= norm_inputs(omega,omega)\n",
    "gamma_norm= norm_inputs(gamma,gamma)\n",
    "m_norm= norm_inputs(m,m)\n",
    "theta_norm= norm_inputs(theta,theta)\n",
    "r_norm = norm_inputs(r,r)\n",
    "T_norm = norm_inputs(T,T)\n",
    "b_norm = norm_inputs(b,b)\n",
    "\n",
    "data_norm = np.array([r_norm,h_norm,v_norm,s_norm,omega_norm,gamma_norm,m_norm,theta_norm,T_norm,b_norm]).T\n",
    "df_norm = pd.DataFrame(data_norm,columns=['r','h','v','s','omega','gamma','m','theta','Thrust','beta'])\n",
    "# Trajectory for the given initial condition:\n",
    "data_traj = df_norm.values[:,0:10]\n",
    "ip_traj = data_traj[:,1:8]\n",
    "op_traj = data_traj[:,8:10]\n",
    "def AntiNorm(Norm_value,actual):\n",
    "  return (max(actual)-min(actual))*Norm_value+min(actual)\n",
    "\n",
    "def create_model2(n):\n",
    "    model = Sequential()\n",
    "    model.add(Dense(n,input_shape=(7,),kernel_initializer='uniform'))\n",
    "    model.add(Dense(n,kernel_initializer='uniform',activation = 'relu'))\n",
    "    model.add(Dense(n,kernel_initializer='uniform',activation = 'relu')) # since tanh has more nonlinearity we add it here, it also gives -ve values so , some layers which are not necessary will lead to 0 in next layer\n",
    "    model.add(Dense(n,kernel_initializer='uniform',activation = 'relu'))\n",
    "    model.add(Dense(n,kernel_initializer='uniform',activation = 'relu'))\n",
    "    model.add(Dense(2,kernel_initializer='uniform',activation = 'sigmoid'))\n",
    "    return model\n",
    "\n",
    "i = 7;\n",
    "model = create_model2(2**i)\n",
    "opt = tf.keras.optimizers.Adam(learning_rate = 0.001)\n",
    "loss = tf.keras.losses.mean_squared_error\n",
    "def lr_sch3(epoch,lr):\n",
    "    if (epoch>0)& (epoch<60):\n",
    "      if epoch%15==0: # for every 100 epochs the learning rate varies as metioned. \n",
    "        return round(lr*np.exp(-0.45),7)\n",
    "      else:\n",
    "        return round(lr,7)\n",
    "    elif(epoch>60):\n",
    "        if epoch%5==0:\n",
    "            return round(lr*0.85,9)\n",
    "        else:\n",
    "            return round(lr,9)\n",
    "    else:\n",
    "        return round(lr,9)\n",
    "print(\"The Number of Hidden units used is: \",2**i)\n",
    "lr_scheduler = tf.keras.callbacks.LearningRateScheduler(lr_sch3,verbose = 1)\n",
    "bs = 1;\n",
    "STEPS_PER_EPOCH = X_train.shape[0] / bs\n",
    "save_period = 5\n",
    "checkpoint_path = f\"/home/saichaitanya/Chaitanya/GOOGLE COLAB  DOCS/one traj/cp.ckpt\"\n",
    "checkpoint_dir = os.path.dirname(checkpoint_path)\n",
    "cp_callback = tf.keras.callbacks.ModelCheckpoint(filepath=checkpoint_path,\n",
    "                                                save_weights_only=True,\n",
    "                                                verbose=1,\n",
    "                                            save_freq=int(save_period*STEPS_PER_EPOCH))\n",
    "model.compile(optimizer = opt, loss = loss, metrics = 'accuracy')\n",
    "iter1 = 150\n",
    "\n",
    "model.load_weights(checkpoint_path)\n",
    "\n",
    "model.evaluate(X_norm,y_norm)\n",
    "\n",
    "## since we are doing simulation for only 1 trajectory we have idx_i =0 as initial point\n",
    "idx_i = 0\n",
    "h1 = h_norm[idx_i]\n",
    "s1 = s_norm[idx_i]\n",
    "v1 = v_norm[idx_i]\n",
    "omega1 = omega_norm[idx_i]\n",
    "m1 = m_norm[idx_i]\n",
    "theta1 = theta_norm[idx_i]\n",
    "gamma1 = gamma_norm[idx_i]\n",
    "r1 = r_norm[idx_i] # this is < 1 since 1 is 5025.2\n",
    "\n",
    "pred = model.predict(X_norm)\n",
    "plt.plot(pred[:,0])\n",
    "plt.plot(op_traj[:,0])\n",
    "\n",
    "ip_traj2 = np.array([r_norm,v_norm,s_norm,omega_norm,gamma_norm,m_norm,theta_norm]).T\n",
    "\n",
    "Tvec = np.squeeze(model.predict(ip_traj2))[:,0]\n",
    "bvec = np.squeeze(model.predict(ip_traj2))[:,1]\n",
    "\n",
    "TT = AntiNorm(Tvec,T)/(m0*g0)\n",
    "bb = AntiNorm(bvec,b)"
   ]
  },
  {
   "cell_type": "code",
   "execution_count": null,
   "id": "b73d2133",
   "metadata": {},
   "outputs": [],
   "source": []
  },
  {
   "cell_type": "code",
   "execution_count": 3,
   "id": "640fc007",
   "metadata": {},
   "outputs": [],
   "source": [
    "rvec = AntiNorm(r_norm,r)/(R0)\n",
    "svec = AntiNorm(s_norm,s)/(s0)\n",
    "vvec = AntiNorm(v_norm,v)/(v0)\n",
    "gammavec = AntiNorm(gamma_norm,gamma)\n",
    "mvec = AntiNorm(m_norm,m)/(m0)\n",
    "thetavec = AntiNorm(theta_norm,theta)/1\n",
    "omegavec = AntiNorm(omega_norm,omega)"
   ]
  },
  {
   "cell_type": "code",
   "execution_count": 4,
   "id": "c5755a2a",
   "metadata": {},
   "outputs": [],
   "source": [
    "# r1,s1,v1,gamma1,m1,theta1,omega1\n",
    "vec = np.array([rvec,svec,vvec,gammavec,mvec,thetavec,omegavec]).T"
   ]
  },
  {
   "cell_type": "code",
   "execution_count": 5,
   "id": "2fe19eb5",
   "metadata": {},
   "outputs": [],
   "source": [
    "pred = model.predict(X_norm)"
   ]
  },
  {
   "cell_type": "code",
   "execution_count": 6,
   "id": "a6ae3114",
   "metadata": {},
   "outputs": [
    {
     "data": {
      "image/png": "[encoded data removed]",
      "text/plain": [
       "<Figure size 432x288 with 1 Axes>"
      ]
     },
     "metadata": {
      "needs_background": "light"
     },
     "output_type": "display_data"
    }
   ],
   "source": [
    "plt.plot(y_norm[:,0],pred[:,0])\n",
    "plt.plot(y_norm[:,0],y_norm[:,0],color = 'red',linestyle='dashed')\n",
    "plt.xlabel(\"Thrust\")\n",
    "plt.ylabel(\"Thrust predicted\")\n",
    "plt.legend(['predicted','actual'])\n",
    "plt.title(f\"Thrust vs Thrust predicted for {i}th trajectory\")\n",
    "plt.savefig(f\"9.1.png\")"
   ]
  },
  {
   "cell_type": "code",
   "execution_count": 7,
   "id": "d220ac8f",
   "metadata": {},
   "outputs": [
    {
     "data": {
      "image/png": "[encoded data removed]",
      "text/plain": [
       "<Figure size 432x288 with 1 Axes>"
      ]
     },
     "metadata": {
      "needs_background": "light"
     },
     "output_type": "display_data"
    }
   ],
   "source": [
    "plt.plot(y_norm[:,1],pred[:,1])\n",
    "plt.plot(y_norm[:,1],y_norm[:,1],color = 'red',linestyle='dashed')\n",
    "plt.xlabel(\"β\")\n",
    "plt.ylabel(\"β predicted\")\n",
    "plt.legend(['predicted','actual'])\n",
    "plt.title(f\"Thrust vs Thrust predicted for {i}th trajectory\")\n",
    "plt.savefig(f\"9.2.png\")"
   ]
  },
  {
   "cell_type": "markdown",
   "id": "d91ac2c6",
   "metadata": {},
   "source": [
    "# Starts here"
   ]
  },
  {
   "cell_type": "code",
   "execution_count": 8,
   "id": "37a83089",
   "metadata": {},
   "outputs": [],
   "source": [
    "s1 = s_norm[idx_i]\n",
    "v1 = v_norm[idx_i]\n",
    "omega1 = omega_norm[idx_i]\n",
    "m1 = m_norm[idx_i]\n",
    "theta1 = theta_norm[idx_i]\n",
    "gamma1 = gamma_norm[idx_i]\n",
    "r1 = r_norm[idx_i]\n",
    "\n",
    "r1 = AntiNorm(r1,r)\n",
    "s1 = AntiNorm(s1,s)\n",
    "v1 = AntiNorm(v1,v)\n",
    "gamma1 = AntiNorm(gamma1,gamma)\n",
    "m1 = AntiNorm(m1,m)\n",
    "theta1 = AntiNorm(theta1,theta)\n",
    "omega1 = AntiNorm(omega1,omega)\n",
    "\n",
    "r1 = (r1)/R0;\n",
    "s1 = s1/s0;\n",
    "v1 = v1/v0;\n",
    "m1 = m1/m0;\n",
    "\n",
    "y1 = np.array([r1,s1,v1,gamma1,m1,theta1,omega1])\n",
    "hmatlab = [0.00715706708403029, 0.00240899798425656, 0.00010443435447363]\n",
    "\n",
    "dy = np.zeros(7)\n",
    "r2=s2=v2=gamma2=theta2=omega2=m2=[]        \n",
    "\n",
    "i = j = 0"
   ]
  },
  {
   "cell_type": "code",
   "execution_count": 17,
   "id": "3958aede",
   "metadata": {},
   "outputs": [],
   "source": [
    "i1 = np.array([r1,s1,v1,gamma1,m1,theta1,omega1])"
   ]
  },
  {
   "cell_type": "code",
   "execution_count": null,
   "id": "16160247",
   "metadata": {},
   "outputs": [],
   "source": [
    "n = 3002\n",
    "for i in range(n):\n",
    "    T1 = TT[i]\n",
    "    if i<1001:\n",
    "        h_step = hmatlab[0]\n",
    "    elif i<2002:\n",
    "        h_step = hmatlab[1]\n",
    "    elif i<3002:\n",
    "        h_step = hmatlab[2]\n",
    "#     h_step = 1/n\n",
    "    beta = bb[i]\n",
    "    Dr = 0.5*1.225*((v1*v0)**2)*Cd*S_ref/(m0*g0);\n",
    "    dy[0] = v1 * np.sin(gamma1)*(v0*t_ref/R0); \n",
    "    dy[1] = v1 * np.cos(gamma1)*(v0*t_ref/s0);    \n",
    "    dy[2] = - (((T1* np.cos(beta-gamma1 + theta1) + Dr)/ m1) + (np.sin(gamma1)/(r1**2))) * (g0*t_ref/v0);\n",
    "    dy[3] = - ((T1 * np.sin(beta-gamma1 + theta1)/(m1*v1)) + (np.cos(gamma1)/((r1**2)*v1))) * (g0*t_ref/v0);\n",
    "    dy[4] = -T1/Isp * t_ref;\n",
    "    dy[5] = omega1 * t_ref; \n",
    "    dy[6] = -T1 * np.sin(beta)*l_com*m0*g0*t_ref/I_z\n",
    "    y2 = y1 + h_step * dy\n",
    "    y1 = y2\n",
    "    # using the values for next iterations\n",
    "    r1 = y2[0]\n",
    "    s1 = y2[1]\n",
    "    v1 = y2[2]\n",
    "    gamma1 = y2[3]\n",
    "    m1 = y2[4]\n",
    "    theta1= y2[5]\n",
    "    omega1 = y2[6]\n",
    "    #         print(r1)\n",
    "    # appending the values in vector\n",
    "    r2 = np.append(r2,r1)\n",
    "    s2 = np.append(s2,s1)\n",
    "    v2 = np.append(v2,v1)\n",
    "    gamma2 = np.append(gamma2,gamma1)\n",
    "    theta2 = np.append(theta2,theta1)\n",
    "    m2= np.append(m2,m1)\n",
    "    omega2 = np.append(omega2,omega1)\n",
    "y1"
   ]
  },
  {
   "cell_type": "code",
   "execution_count": null,
   "id": "44100a74",
   "metadata": {},
   "outputs": [],
   "source": [
    "plt.plot(r2)\n"
   ]
  },
  {
   "cell_type": "code",
   "execution_count": 23,
   "id": "9f4751ff",
   "metadata": {},
   "outputs": [],
   "source": [
    "# global variables for appending\n",
    "ω_dnn = [];\n",
    "θ_dnn = [];\n",
    "v_dnn = [];\n",
    "γ_dnn = [];\n",
    "r_dnn = [];\n",
    "s_dnn = [];\n",
    "h_dnn = [];\n",
    "m_dnn = [];\n",
    "T_dnn = [];\n",
    "b_dnn = [];"
   ]
  },
  {
   "cell_type": "code",
   "execution_count": 24,
   "id": "1666d566",
   "metadata": {},
   "outputs": [],
   "source": [
    "def diff_eqn3(inputs,model): # sends norm inputs\n",
    "        global ω_dnn, θ_dnn, v_dnn,γ_dnn,r_dnn, s_dnn,h_dnn ,m_dnn ,T_dnn ,b_dnn\n",
    "        \"\"\" Debugg ω, γ\"\"\"\n",
    "        r1 = inputs[0]\n",
    "        s1 = inputs[1]\n",
    "        v1 = inputs[2]\n",
    "        gamma1 = inputs[3]\n",
    "        m1 = inputs[4]\n",
    "        theta1= inputs[5]\n",
    "        omega1 = inputs[6]        \n",
    "        ip = np.array([r1,v1,s1,omega1,gamma1,m1,theta1]).reshape(1,7) \n",
    "        data = model.predict(ip)\n",
    "        T1,beta = np.squeeze(data)\n",
    "        \n",
    "        r1 = AntiNorm(r1,r)\n",
    "        s1 = AntiNorm(s1,s)\n",
    "        v1 = AntiNorm(v1,v)\n",
    "        gamma1 = AntiNorm(gamma1,gamma)\n",
    "        m1 = AntiNorm(m1,m)\n",
    "        theta1 = AntiNorm(theta1,theta)\n",
    "        omega1 = AntiNorm(omega1,omega)\n",
    "        \n",
    "        T1 = AntiNorm(T1,T)\n",
    "        beta = AntiNorm(beta,b)\n",
    "\n",
    "        r1 = (r1)/R0; # here r1 is already R0+h\n",
    "        s1 = s1/s0;\n",
    "        v1 = v1/v0;\n",
    "        m1 = m1/m0;\n",
    "        T1 = T1/(m0*g0)\n",
    "\n",
    "        y1 = np.array([r1,s1,v1,gamma1,m1,theta1,omega1]) # anti norms\n",
    "\n",
    "        dy = np.zeros(7)\n",
    "        Dr = 0.5*1.225*((v1*v0)**2)*Cd*S_ref/(m0*g0);\n",
    "        \n",
    "        dy[0] = v1 * np.sin(gamma1)*(v0*t_ref/R0); \n",
    "        dy[1] = v1 * np.cos(gamma1)*(v0*t_ref/s0);    \n",
    "        dy[2] = - (((T1* np.cos(beta-gamma1 + theta1) + Dr)/ m1) + (np.sin(gamma1)/(r1**2))) * (g0*t_ref/v0);\n",
    "        dy[3] = - ((T1 * np.sin(beta-gamma1 + theta1)/(m1*v1)) + (np.cos(gamma1)/((r1**2)*v1))) * (g0*t_ref/v0);\n",
    "        dy[4] = -T1/Isp * t_ref;\n",
    "        dy[5] = omega1 * t_ref; \n",
    "        dy[6] = -T1 * np.sin(beta)*l_com*m0*g0*t_ref/I_z\n",
    "        \n",
    "        ω_dnn = np.append(ω_dnn,omega1)\n",
    "        θ_dnn = np.append(θ_dnn,theta1)\n",
    "        γ_dnn = np.append(γ_dnn,gamma1)\n",
    "        r_dnn = np.append(r_dnn,r1)\n",
    "        s_dnn = np.append(s_dnn,s1)\n",
    "        v_dnn = np.append(v_dnn,v1)\n",
    "        m_dnn = np.append(m_dnn,m1)\n",
    "        T_dnn = np.append(T_dnn,T1)\n",
    "        b_dnn = np.append(b_dnn,beta)\n",
    "        \n",
    "        \n",
    "        return dy,y1,T,norm(beta,b) "
   ]
  },
  {
   "cell_type": "code",
   "execution_count": 25,
   "id": "a9780208",
   "metadata": {},
   "outputs": [
    {
     "data": {
      "text/plain": [
       "array([1.8706455, 1.8655366, 1.8617816, ..., 2.3506484, 2.3506398,\n",
       "       2.350631 ], dtype=float32)"
      ]
     },
     "execution_count": 25,
     "metadata": {},
     "output_type": "execute_result"
    }
   ],
   "source": [
    "TT"
   ]
  },
  {
   "cell_type": "code",
   "execution_count": 26,
   "id": "30b0a677",
   "metadata": {},
   "outputs": [],
   "source": [
    "def rk4_i(n,input0):\n",
    "    for i in range(n):\n",
    "#         T1 = TT[i]\n",
    "        if i<1001:\n",
    "            h_step = hmatlab[0]\n",
    "        elif i<2002:\n",
    "            h_step = hmatlab[1]\n",
    "        elif i<3002:\n",
    "            h_step = hmatlab[2]\n",
    "    \n",
    "    inputs= input0 #np.array([r1,s1,v1,gamma1,m1,theta1,omega1])\n",
    "    op_dnn = np.append([],inputs) \n",
    "    op_an = []   \n",
    "    for _ in range(n):\n",
    "        k1,y1,T1,b1 = diff_eqn3(inputs,model)\n",
    "        k2,_,_,_ = diff_eqn3(inputs+0.5*h_step*k1,model)\n",
    "        k3,_,_,_ = diff_eqn3(inputs+0.5*h_step*k2,model)\n",
    "        k4,_,_,_ = diff_eqn3(inputs+h_step*k3,model)\n",
    "    \n",
    "        y2 = y1+ h_step *(k1+2*(k2+k3)+k4)/6 \n",
    "        \n",
    "        \"\"\"change y2 to normalized and append to op\n",
    "           y1 = np.array([r1,s1,v1,gamma2,m1,theta2,omega2]) \"\"\"\n",
    "        \n",
    "        # Normalizing them back to the way our neural network will be able to predict\n",
    "        y2[0] = norm((y2[0])*R0,r) \n",
    "        y2[1] = norm(y2[1]*s0,s)\n",
    "        y2[2] = norm(y2[2] *v0,v)\n",
    "        y2[3] = norm(y2[3],gamma)\n",
    "        y2[4] = norm(y2[4] *m0,m)\n",
    "        y2[5] = norm(y2[5],theta)\n",
    "        y2[6] = norm(y2[6],omega)\n",
    "        ## \n",
    "#         print(\"AFTER\",y2)\n",
    "        inputs = y2 \n",
    "        op_dnn = np.append(op_dnn,y2) # appending trajectory states obtained by ddnn\n",
    "    \n",
    "    return op_an,op_dnn\n",
    "    "
   ]
  },
  {
   "cell_type": "code",
   "execution_count": 27,
   "id": "5899e7f3",
   "metadata": {},
   "outputs": [
    {
     "name": "stderr",
     "output_type": "stream",
     "text": [
      "/tmp/ipykernel_184090/2085586485.py:16: RuntimeWarning: invalid value encountered in add\n",
      "  k2,_,_,_ = diff_eqn3(inputs+0.5*h_step*k1,model)\n"
     ]
    },
    {
     "data": {
      "text/plain": [
       "([], array([inf, inf, inf, ..., nan, nan, nan]))"
      ]
     },
     "execution_count": 27,
     "metadata": {},
     "output_type": "execute_result"
    }
   ],
   "source": [
    "rk4_i(3003,i1)"
   ]
  },
  {
   "cell_type": "code",
   "execution_count": null,
   "id": "d451d1d3",
   "metadata": {},
   "outputs": [],
   "source": [
    "plt.plot(gamma2)"
   ]
  },
  {
   "cell_type": "code",
   "execution_count": null,
   "id": "4ba2572b",
   "metadata": {},
   "outputs": [],
   "source": []
  },
  {
   "cell_type": "code",
   "execution_count": null,
   "id": "231b1c89",
   "metadata": {},
   "outputs": [],
   "source": []
  },
  {
   "cell_type": "markdown",
   "id": "5fa6fa56",
   "metadata": {},
   "source": [
    "# m"
   ]
  },
  {
   "cell_type": "code",
   "execution_count": null,
   "id": "c392fd5b",
   "metadata": {},
   "outputs": [],
   "source": [
    "len(b)"
   ]
  },
  {
   "cell_type": "code",
   "execution_count": null,
   "id": "1fab4b5a",
   "metadata": {},
   "outputs": [],
   "source": [
    "def traj_gen(inputs,Tvec,bvec):\n",
    "    r1 = inputs[0]\n",
    "    s1 = inputs[1]\n",
    "    v1 = inputs[2]\n",
    "    gamma1 = inputs[3]\n",
    "    m1 = inputs[4]\n",
    "    theta1= inputs[5]\n",
    "    omega1 = inputs[6]        \n",
    "\n",
    "    r1 = AntiNorm(r1,r)\n",
    "    s1 = AntiNorm(s1,s)\n",
    "    v1 = AntiNorm(v1,v)\n",
    "    gamma1 = AntiNorm(gamma1,gamma)\n",
    "    m1 = AntiNorm(m1,m)\n",
    "    theta1 = AntiNorm(theta1,theta)\n",
    "    omega1 = AntiNorm(omega1,omega)\n",
    "\n",
    "    r1 = (r1)/R0;\n",
    "    s1 = s1/s0;\n",
    "    v1 = v1/v0;\n",
    "    m1 = m1/m0;\n",
    "    TT = AntiNorm(Tvec,T)/(m0*g0)\n",
    "    bb = AntiNorm(bvec,b)\n",
    "    y1 = np.array([r1,s1,v1,gamma1,m1,theta1,omega1]) # anti norms\n",
    "    h_step = 1/(len(b)+1)\n",
    "\n",
    "    dy = np.zeros(7)\n",
    "    Dr = 0.5*1.225*((v1*v0)**2)*Cd*S_ref/(m0*g0);\n",
    "    r2=s2=v2=gamma2=theta2=omega2=m2=[]\n",
    "    \n",
    "    for i in range(1):\n",
    "        T1 = TT[i]\n",
    "        beta = bb[i]\n",
    "        Dr = 0.5*1.225*((v1*v0)**2)*Cd*S_ref/(m0*g0);\n",
    "        dy[0] = v1 * np.sin(gamma1)*(v0*t_ref/R0); \n",
    "        dy[1] = v1 * np.cos(gamma1)*(v0*t_ref/s0);    \n",
    "        dy[2] = - (((T1* np.cos(beta-gamma1 + theta1) + Dr)/ m1) + (np.sin(gamma1)/(r1**2))) * (g0*t_ref/v0);\n",
    "        dy[3] = - ((T1 * np.sin(beta-gamma1 + theta1)/(m1*v1)) + (np.cos(gamma1)/((r1**2)*v1))) * (g0*t_ref/v0);\n",
    "        dy[4] = -T1/Isp * t_ref;\n",
    "        dy[5] = omega1 * t_ref; \n",
    "        dy[6] = -T1 * np.sin(beta)*l_com*m0*g0*t_ref/I_z\n",
    "        \n",
    "        y2 = y1 + h_step * dy\n",
    "        print(y2,dy)\n",
    "        # using the values for next iterations\n",
    "        r1 = y2[0]\n",
    "        s1 = y2[1]\n",
    "        v1 = y2[2]\n",
    "        gamma1 = y2[3]\n",
    "        m1 = y2[4]\n",
    "        theta1= y2[5]\n",
    "        omega1 = y2[6]\n",
    "        print(r1)\n",
    "        # appending the values in vector\n",
    "        r2 = np.append(r2,r1)\n",
    "        s2 = np.append(s2,s1)\n",
    "        v2 = np.append(v2,v1)\n",
    "        gamma2 = np.append(gamma2,gamma1)\n",
    "        theta2 = np.append(theta2,theta1)\n",
    "        m2= np.append(m2,m1)\n",
    "        omega2 = np.append(omega2,omega1)\n",
    "        \n",
    "        \n",
    "    return r2,s2,v2,gamma2,theta2,m2,omega2\n",
    "\n"
   ]
  },
  {
   "cell_type": "markdown",
   "id": "cf613c1e",
   "metadata": {},
   "source": [
    "## D\n"
   ]
  },
  {
   "cell_type": "code",
   "execution_count": null,
   "id": "037a155a",
   "metadata": {},
   "outputs": [],
   "source": [
    "ip_traj3 = np.array([r_norm,s_norm,v_norm,gamma_norm,m_norm,theta_norm,omega_norm]).T\n",
    "i3 = ip_traj3[0,:]"
   ]
  },
  {
   "cell_type": "code",
   "execution_count": null,
   "id": "26bea8a0",
   "metadata": {},
   "outputs": [],
   "source": [
    "# vec = np.array([rvec,svec,vvec,gammavec,mvec,thetavec,omegavec]).T\n",
    "vec[0,:]"
   ]
  },
  {
   "cell_type": "code",
   "execution_count": null,
   "id": "8443d1b9",
   "metadata": {},
   "outputs": [],
   "source": [
    "traj_gen(i3,Tvec,bvec)"
   ]
  },
  {
   "cell_type": "code",
   "execution_count": null,
   "id": "69a1a3e6",
   "metadata": {},
   "outputs": [],
   "source": [
    "r2"
   ]
  }
 ],
 "metadata": {
  "kernelspec": {
   "display_name": "Python 3 (ipykernel)",
   "language": "python",
   "name": "python3"
  },
  "language_info": {
   "codemirror_mode": {
    "name": "ipython",
    "version": 3
   },
   "file_extension": ".py",
   "mimetype": "text/x-python",
   "name": "python",
   "nbconvert_exporter": "python",
   "pygments_lexer": "ipython3",
   "version": "3.10.4"
  }
 },
 "nbformat": 4,
 "nbformat_minor": 5
}
