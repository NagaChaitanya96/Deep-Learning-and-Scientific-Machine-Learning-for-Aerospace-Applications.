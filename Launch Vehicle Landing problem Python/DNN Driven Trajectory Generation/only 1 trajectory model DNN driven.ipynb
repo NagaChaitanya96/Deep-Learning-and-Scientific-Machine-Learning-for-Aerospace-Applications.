{
 "cells": [
  {
   "cell_type": "code",
   "execution_count": 1,
   "id": "040795b7",
   "metadata": {},
   "outputs": [],
   "source": [
    "import tensorflow as tf\n",
    "import pandas as pd\n",
    "import numpy as np\n",
    "import sklearn \n",
    "from keras.layers import Dense\n",
    "from keras.models import Sequential\n",
    "import os\n",
    "import matplotlib.pyplot as plt\n",
    "import math\n",
    "\n",
    "df = pd.read_csv('/home/saichaitanya/Chaitanya/CSV files/1000 points per trajectory/May10rd1percent_RLV_data 1000 points.csv',header = None,names = ['h','v','s','omega','gamma','m','theta','Thrust','beta','time'])\n",
    "# input = output =df.values\n",
    "# X = input[:,0:7]\n",
    "# y = output[:,7:9]\n",
    "# Individual Data\n",
    "R0 = 6378*1000;\n",
    "g0=9.81\n",
    "Cd = 0.5\n",
    "S_ref =10.75\n",
    "Isp =300;\n",
    "I_z = 3346393\n",
    "l_com = 9.778\n",
    "t_ref = 32\n",
    "h0=5000;\n",
    "v0=325;\n",
    "s0=850;\n",
    "## The inputs and outputs which varied have values in decimals \n",
    "## rest all have been rounded off to 5-6 digits\n",
    "omega0= 0.342\n",
    "theta0= round(-75*math.pi/180,4)\n",
    "gamma0= round(-75*math.pi/180,4) #\n",
    "m0= round(26229.667,0) # our values of mass are rounded of when taking data\n",
    "r0 = h0+6378000\n",
    "\n",
    "idx = df.loc[(df['h'] == h0) & (df['v'] == v0)]\n",
    "idx = np.array(idx.index.astype(int))\n",
    "def trajectory_finding(idx,df,s0):\n",
    "    # we have 3003 points for getting full trajectory starting from index 0-3002\n",
    "    for i in range(idx.shape[0]):\n",
    "        df2= df[idx[0]+3003*i:idx[0]+3003*(i+1)]\n",
    "        if (df2.s.values[3002]==s0):\n",
    "            break\n",
    "        else:\n",
    "            continue\n",
    "    return np.array([df2.index[0],df2.index[3002]])\n",
    "\n",
    "idx_i,idx_f = trajectory_finding(idx,df,s0)\n",
    "\n"
   ]
  },
  {
   "cell_type": "code",
   "execution_count": 2,
   "id": "a3250b09",
   "metadata": {},
   "outputs": [
    {
     "data": {
      "text/plain": [
       "1093092"
      ]
     },
     "execution_count": 2,
     "metadata": {},
     "output_type": "execute_result"
    }
   ],
   "source": [
    "idx_i"
   ]
  },
  {
   "cell_type": "code",
   "execution_count": 3,
   "id": "d71f4665",
   "metadata": {},
   "outputs": [],
   "source": [
    "input = output = df.values[idx_i:idx_f]\n",
    "X = input[:,0:7]\n",
    "y = output[:,7:9]"
   ]
  },
  {
   "cell_type": "code",
   "execution_count": 4,
   "id": "4e71df07",
   "metadata": {},
   "outputs": [
    {
     "data": {
      "text/html": [
       "<div>\n",
       "<style scoped>\n",
       "    .dataframe tbody tr th:only-of-type {\n",
       "        vertical-align: middle;\n",
       "    }\n",
       "\n",
       "    .dataframe tbody tr th {\n",
       "        vertical-align: top;\n",
       "    }\n",
       "\n",
       "    .dataframe thead th {\n",
       "        text-align: right;\n",
       "    }\n",
       "</style>\n",
       "<table border=\"1\" class=\"dataframe\">\n",
       "  <thead>\n",
       "    <tr style=\"text-align: right;\">\n",
       "      <th></th>\n",
       "      <th>h</th>\n",
       "      <th>v</th>\n",
       "      <th>s</th>\n",
       "      <th>omega</th>\n",
       "      <th>gamma</th>\n",
       "      <th>m</th>\n",
       "      <th>theta</th>\n",
       "      <th>Thrust</th>\n",
       "      <th>beta</th>\n",
       "      <th>time</th>\n",
       "    </tr>\n",
       "  </thead>\n",
       "  <tbody>\n",
       "    <tr>\n",
       "      <th>1093092</th>\n",
       "      <td>5000.0</td>\n",
       "      <td>325.0</td>\n",
       "      <td>-6.394700e-17</td>\n",
       "      <td>0.342</td>\n",
       "      <td>-1.309</td>\n",
       "      <td>26230</td>\n",
       "      <td>-1.309</td>\n",
       "      <td>481520.0</td>\n",
       "      <td>0.058088</td>\n",
       "      <td>0.0</td>\n",
       "    </tr>\n",
       "  </tbody>\n",
       "</table>\n",
       "</div>"
      ],
      "text/plain": [
       "              h      v             s  omega  gamma      m  theta    Thrust  \\\n",
       "1093092  5000.0  325.0 -6.394700e-17  0.342 -1.309  26230 -1.309  481520.0   \n",
       "\n",
       "             beta  time  \n",
       "1093092  0.058088   0.0  "
      ]
     },
     "execution_count": 4,
     "metadata": {},
     "output_type": "execute_result"
    }
   ],
   "source": [
    "df[1093092:1093092+1]"
   ]
  },
  {
   "cell_type": "code",
   "execution_count": 5,
   "id": "7f372726",
   "metadata": {},
   "outputs": [],
   "source": [
    "from sklearn import preprocessing\n",
    "X_norm = preprocessing.minmax_scale(X)\n",
    "y_norm = preprocessing.minmax_scale(y)\n",
    "from sklearn.model_selection import train_test_split\n",
    "X_train, X_test, y_train, y_test = train_test_split(X_norm, y_norm, test_size=0.1, random_state=42)\n",
    "X_val = X_train[-int(X.shape[0]*0.1):]\n",
    "y_val = y_train[-int(X.shape[0]*0.1):]\n",
    "X_train = X_train[:-int(X.shape[0]*0.1)]\n",
    "y_train = y_train[:-int(X.shape[0]*0.1)]\n",
    "\n",
    "## Normalizing the inputs\n",
    "def norm(a,b):\n",
    "    return (a - min(b))/(max(b) - min(b))\n",
    "def norm_inputs(a,b):\n",
    "    return (a-min(b))/(max(b)-min(b))\n",
    "\n",
    "h = X[:,0];\n",
    "v = X[:,1];\n",
    "s = X[:,2];\n",
    "omega = X[:,3]\n",
    "gamma= X[:,4]\n",
    "m = X[:,5]\n",
    "theta = X[:,6]\n",
    "T = y[:,0]\n",
    "b = y[:,1]\n",
    "r = 6378000+h\n",
    "\n",
    "h_norm = norm_inputs(h,h)\n",
    "v_norm= norm_inputs(v,v)\n",
    "s_norm= norm_inputs(s,s)\n",
    "omega_norm= norm_inputs(omega,omega)\n",
    "gamma_norm= norm_inputs(gamma,gamma)\n",
    "m_norm= norm_inputs(m,m)\n",
    "theta_norm= norm_inputs(theta,theta)\n",
    "r_norm = norm_inputs(r,r)\n",
    "T_norm = norm_inputs(T,T)\n",
    "b_norm = norm_inputs(b,b)\n",
    "\n",
    "data_norm = np.array([r_norm,h_norm,v_norm,s_norm,omega_norm,gamma_norm,m_norm,theta_norm,T_norm,b_norm]).T\n",
    "df_norm = pd.DataFrame(data_norm,columns=['r','h','v','s','omega','gamma','m','theta','Thrust','beta'])\n",
    "# Trajectory for the given initial condition:\n",
    "data_traj = df_norm.values[:,0:10]\n",
    "ip_traj = data_traj[:,1:8]\n",
    "op_traj = data_traj[:,8:10]\n",
    "def AntiNorm(Norm_value,actual):\n",
    "  return (max(actual)-min(actual))*Norm_value+min(actual)"
   ]
  },
  {
   "cell_type": "code",
   "execution_count": 6,
   "id": "1f2768e9",
   "metadata": {},
   "outputs": [],
   "source": [
    "def create_model2(n):\n",
    "    model = Sequential()\n",
    "    model.add(Dense(n,input_shape=(7,),kernel_initializer='uniform'))\n",
    "    model.add(Dense(n,kernel_initializer='uniform',activation = 'relu'))\n",
    "    model.add(Dense(n,kernel_initializer='uniform',activation = 'relu')) # since tanh has more nonlinearity we add it here, it also gives -ve values so , some layers which are not necessary will lead to 0 in next layer\n",
    "    model.add(Dense(n,kernel_initializer='uniform',activation = 'relu'))\n",
    "    model.add(Dense(n,kernel_initializer='uniform',activation = 'relu'))\n",
    "    model.add(Dense(2,kernel_initializer='uniform',activation = 'sigmoid'))\n",
    "    return model"
   ]
  },
  {
   "cell_type": "code",
   "execution_count": 7,
   "id": "28e4362a",
   "metadata": {},
   "outputs": [
    {
     "name": "stdout",
     "output_type": "stream",
     "text": [
      "The Number of Hidden units used is:  128\n"
     ]
    },
    {
     "name": "stderr",
     "output_type": "stream",
     "text": [
      "2022-05-21 19:51:07.378078: W tensorflow/stream_executor/platform/default/dso_loader.cc:64] Could not load dynamic library 'libcudnn.so.8'; dlerror: libcudnn.so.8: cannot open shared object file: No such file or directory\n",
      "2022-05-21 19:51:07.378145: W tensorflow/core/common_runtime/gpu/gpu_device.cc:1850] Cannot dlopen some GPU libraries. Please make sure the missing libraries mentioned above are installed properly if you would like to use GPU. Follow the guide at https://www.tensorflow.org/install/gpu for how to download and setup the required libraries for your platform.\n",
      "Skipping registering GPU devices...\n",
      "2022-05-21 19:51:07.378818: I tensorflow/core/platform/cpu_feature_guard.cc:151] This TensorFlow binary is optimized with oneAPI Deep Neural Network Library (oneDNN) to use the following CPU instructions in performance-critical operations:  AVX2 AVX512F FMA\n",
      "To enable them in other operations, rebuild TensorFlow with the appropriate compiler flags.\n"
     ]
    }
   ],
   "source": [
    "i = 7;\n",
    "model = create_model2(2**i)\n",
    "opt = tf.keras.optimizers.Adam(learning_rate = 0.001)\n",
    "loss = tf.keras.losses.mean_squared_error\n",
    "def lr_sch3(epoch,lr):\n",
    "    if (epoch>0)& (epoch<60):\n",
    "      if epoch%15==0: # for every 100 epochs the learning rate varies as metioned. \n",
    "        return round(lr*np.exp(-0.45),7)\n",
    "      else:\n",
    "        return round(lr,7)\n",
    "    elif(epoch>60):\n",
    "        if epoch%5==0:\n",
    "            return round(lr*0.85,9)\n",
    "        else:\n",
    "            return round(lr,9)\n",
    "    else:\n",
    "        return round(lr,9)\n",
    "print(\"The Number of Hidden units used is: \",2**i)\n",
    "lr_scheduler = tf.keras.callbacks.LearningRateScheduler(lr_sch3,verbose = 1)\n",
    "bs = 1;\n",
    "STEPS_PER_EPOCH = X_train.shape[0] / bs\n",
    "save_period = 5\n",
    "checkpoint_path = f\"/home/saichaitanya/Chaitanya/GOOGLE COLAB  DOCS/one traj/cp.ckpt\"\n",
    "checkpoint_dir = os.path.dirname(checkpoint_path)\n",
    "cp_callback = tf.keras.callbacks.ModelCheckpoint(filepath=checkpoint_path,\n",
    "                                                save_weights_only=True,\n",
    "                                                verbose=1,\n",
    "                                            save_freq=int(save_period*STEPS_PER_EPOCH))\n",
    "model.compile(optimizer = opt, loss = loss, metrics = 'accuracy')\n",
    "iter1 = 150"
   ]
  },
  {
   "cell_type": "code",
   "execution_count": 8,
   "id": "50f95e74",
   "metadata": {},
   "outputs": [
    {
     "data": {
      "text/plain": [
       "<tensorflow.python.training.tracking.util.CheckpointLoadStatus at 0x7fe20d0d8370>"
      ]
     },
     "execution_count": 8,
     "metadata": {},
     "output_type": "execute_result"
    }
   ],
   "source": [
    "model.load_weights(checkpoint_path)"
   ]
  },
  {
   "cell_type": "code",
   "execution_count": 9,
   "id": "bbf15e18",
   "metadata": {
    "scrolled": true
   },
   "outputs": [
    {
     "name": "stdout",
     "output_type": "stream",
     "text": [
      "94/94 [==============================] - 0s 2ms/step - loss: 6.0173e-07 - accuracy: 0.9993\n"
     ]
    },
    {
     "data": {
      "text/plain": [
       "[6.017319265083643e-07, 0.9993337988853455]"
      ]
     },
     "execution_count": 9,
     "metadata": {},
     "output_type": "execute_result"
    }
   ],
   "source": [
    "model.evaluate(X_norm,y_norm)"
   ]
  },
  {
   "cell_type": "code",
   "execution_count": 10,
   "id": "548dc67b",
   "metadata": {},
   "outputs": [
    {
     "data": {
      "text/plain": [
       "0.6298769340527044"
      ]
     },
     "execution_count": 10,
     "metadata": {},
     "output_type": "execute_result"
    }
   ],
   "source": [
    "theta_norm[0]"
   ]
  },
  {
   "cell_type": "code",
   "execution_count": 11,
   "id": "07309e79",
   "metadata": {},
   "outputs": [],
   "source": [
    "## since we are doing simulation for only 1 trajectory we have idx_i =0 as initial point\n",
    "idx_i = 0\n",
    "h1 = h_norm[idx_i]\n",
    "s1 = s_norm[idx_i]\n",
    "v1 = v_norm[idx_i]\n",
    "omega1 = omega_norm[idx_i]\n",
    "m1 = m_norm[idx_i]\n",
    "theta1 = theta_norm[idx_i]\n",
    "gamma1 = gamma_norm[idx_i]\n",
    "r1 = r_norm[idx_i] # this is < 1 since 1 is 5025.2\n",
    "# h_dnn = np.append(h_dnn,h1)\n",
    "# r_dnn = np.append(r_dnn,r1)\n",
    "# s_dnn = np.append(s_dnn,s1)\n",
    "# γ_dnn = np.append(γ_dnn,gamma1)\n",
    "# m_dnn = np.append(m_dnn,m1)\n",
    "# θ_dnn = np.append(θ_dnn,theta1)\n",
    "# ω_dnn = np.append(ω_dnn,omega1)\n",
    "# v_dnn = np.append(v_dnn,v1)"
   ]
  },
  {
   "cell_type": "markdown",
   "id": "0af24411",
   "metadata": {},
   "source": [
    "# plotting the accuracy of model prediction vs actual before implementing DNN driven trajectory"
   ]
  },
  {
   "cell_type": "code",
   "execution_count": 12,
   "id": "2d0c947f",
   "metadata": {
    "scrolled": true
   },
   "outputs": [
    {
     "data": {
      "text/plain": [
       "[<matplotlib.lines.Line2D at 0x7fe1775e1690>]"
      ]
     },
     "execution_count": 12,
     "metadata": {},
     "output_type": "execute_result"
    },
    {
     "data": {
      "image/png": "[encoded data removed]",
      "text/plain": [
       "<Figure size 432x288 with 1 Axes>"
      ]
     },
     "metadata": {
      "needs_background": "light"
     },
     "output_type": "display_data"
    }
   ],
   "source": [
    "pred = model.predict(X_norm)\n",
    "plt.plot(pred[:,0])\n",
    "plt.plot(op_traj[:,0])"
   ]
  },
  {
   "cell_type": "code",
   "execution_count": 13,
   "id": "6f8b2569",
   "metadata": {},
   "outputs": [
    {
     "data": {
      "text/plain": [
       "[<matplotlib.lines.Line2D at 0x7fe0c8706440>]"
      ]
     },
     "execution_count": 13,
     "metadata": {},
     "output_type": "execute_result"
    },
    {
     "data": {
      "image/png": "[encoded data removed]",
      "text/plain": [
       "<Figure size 432x288 with 1 Axes>"
      ]
     },
     "metadata": {
      "needs_background": "light"
     },
     "output_type": "display_data"
    }
   ],
   "source": [
    "plt.plot(pred[:,1])\n",
    "plt.plot(op_traj[:,1])"
   ]
  },
  {
   "cell_type": "code",
   "execution_count": 14,
   "id": "64142570",
   "metadata": {},
   "outputs": [
    {
     "data": {
      "text/plain": [
       "array([1.        , 0.        , 1.        , 0.62139108, 1.        ,\n",
       "       0.62987693, 1.        ])"
      ]
     },
     "execution_count": 14,
     "metadata": {},
     "output_type": "execute_result"
    }
   ],
   "source": [
    "np.array([r1,s1,v1,gamma1,m1,theta1,omega1])"
   ]
  },
  {
   "cell_type": "code",
   "execution_count": 15,
   "id": "0830e6ac",
   "metadata": {},
   "outputs": [],
   "source": [
    "i3 = np.array([r1,s1,v1,gamma1,m1,theta1,omega1])"
   ]
  },
  {
   "cell_type": "code",
   "execution_count": 16,
   "id": "cb460e11",
   "metadata": {},
   "outputs": [],
   "source": [
    "# global variables for appending\n",
    "ω_dnn = [];\n",
    "θ_dnn = [];\n",
    "v_dnn = [];\n",
    "γ_dnn = [];\n",
    "r_dnn = [];\n",
    "s_dnn = [];\n",
    "h_dnn = [];\n",
    "m_dnn = [];\n",
    "T_dnn = [];\n",
    "b_dnn = [];"
   ]
  },
  {
   "cell_type": "code",
   "execution_count": 154,
   "id": "18b086f9",
   "metadata": {},
   "outputs": [],
   "source": [
    "def Euler(input2,model,n):\n",
    "    global y1, y2, k1, y3\n",
    "#     r1 = input2[0]\n",
    "#     s1 = input2[1]\n",
    "#     v1 = input2[2]\n",
    "#     gamma1 = input2[3]\n",
    "#     m1 = input2[4]\n",
    "#     theta1= input2[5]\n",
    "#     omega1 = input2[6]   \n",
    "    h_step = 1/n\n",
    "    inputs = input2\n",
    "#     inputs= np.array([r1,s1,v1,gamma1,m1,theta1,omega1])\n",
    "    op_dnn = np.append([],inputs) \n",
    "    op_an = []\n",
    "    for _ in range(n):\n",
    "        k1,y1,T1,b1 = diff_eqn3(inputs,model)\n",
    "        op_an = np.append(op_an,y1)\n",
    "        y2 = y1 + h_step *(k1) # euler\n",
    "#         print(y1)\n",
    "        \"\"\"change y2 to normalized and append to op\n",
    "           y1 = np.array([r1,s1,v1,gamma1,m1,theta1,omega1]) \"\"\"\n",
    "        y2[3] = norm(y2[3],gamma)\n",
    "        y2[5] = norm(y2[-2],theta)\n",
    "        y2[6] = norm(y2[-1],omega)\n",
    "        op_dnn = np.append(op_dnn,y2) \n",
    "        # Normalizing them back to the way our neural network will be able to predict\n",
    "        y2[0] = norm((y2[0])*R0,r) \n",
    "        y2[1] = norm(y2[1]*s0,s)\n",
    "        y2[2] = norm(y2[2] *v0,v)\n",
    "        y2[4] = norm(y2[4] *m0,m)\n",
    "#         print(y2)\n",
    "        inputs = y2 \n",
    "    return op_an,op_dnn"
   ]
  },
  {
   "cell_type": "code",
   "execution_count": 155,
   "id": "74a2bb64",
   "metadata": {},
   "outputs": [],
   "source": [
    "def diff_eqn3(inputs,model): # sends norm inputs\n",
    "        global ω_dnn, θ_dnn, v_dnn,γ_dnn,r_dnn, s_dnn,h_dnn ,m_dnn ,T_dnn ,b_dnn\n",
    "        \"\"\" Debugg ω, γ\"\"\"\n",
    "        r1 = inputs[0]\n",
    "        s1 = inputs[1]\n",
    "        v1 = inputs[2]\n",
    "        gamma1 = inputs[3]\n",
    "        m1 = inputs[4]\n",
    "        theta1= inputs[5]\n",
    "        omega1 = inputs[6]        \n",
    "        ip = np.array([r1,v1,s1,omega1,gamma1,m1,theta1]).reshape(1,7) \n",
    "        data = model.predict(ip)\n",
    "        T1,beta = np.squeeze(data)\n",
    "        \n",
    "        r1 = AntiNorm(r1,r)\n",
    "        s1 = AntiNorm(s1,s)\n",
    "        v1 = AntiNorm(v1,v)\n",
    "        gamma1 = AntiNorm(gamma1,gamma)\n",
    "        m1 = AntiNorm(m1,m)\n",
    "        theta1 = AntiNorm(theta1,theta)\n",
    "        omega1 = AntiNorm(omega1,omega)\n",
    "        \n",
    "        T1 = AntiNorm(T1,T)\n",
    "        beta = AntiNorm(beta,b)\n",
    "\n",
    "        r1 = (r1)/R0; # here r1 is already R0+h\n",
    "        s1 = s1/s0;\n",
    "        v1 = v1/v0;\n",
    "        m1 = m1/m0;\n",
    "        T1 = T1/(m0*g0)\n",
    "\n",
    "        y1 = np.array([r1,s1,v1,gamma1,m1,theta1,omega1]) # anti norms\n",
    "\n",
    "        dy = np.zeros(7)\n",
    "        Dr = 0.5*1.225*((v1*v0)**2)*Cd*S_ref/(m0*g0);\n",
    "        \n",
    "        dy[0] = v1 * np.sin(gamma1)*(v0*t_ref/R0); \n",
    "        dy[1] = v1 * np.cos(gamma1)*(v0*t_ref/s0);    \n",
    "        dy[2] = - (((T1* np.cos(beta-gamma1 + theta1) + Dr)/ m1) + (np.sin(gamma1)/(r1**2))) * (g0*t_ref/v0);\n",
    "        dy[3] = - ((T1 * np.sin(beta-gamma1 + theta1)/(m1*v1)) + (np.cos(gamma1)/((r1**2)*v1))) * (g0*t_ref/v0);\n",
    "        dy[4] = -T1/Isp * t_ref;\n",
    "        dy[5] = omega1 * t_ref; \n",
    "        dy[6] = -T1 * np.sin(beta)*l_com*m0*g0*t_ref/I_z\n",
    "        \n",
    "        ω_dnn = np.append(ω_dnn,omega1)\n",
    "        θ_dnn = np.append(θ_dnn,theta1)\n",
    "        γ_dnn = np.append(γ_dnn,gamma1)\n",
    "        r_dnn = np.append(r_dnn,r1)\n",
    "        s_dnn = np.append(s_dnn,s1)\n",
    "        v_dnn = np.append(v_dnn,v1)\n",
    "        m_dnn = np.append(m_dnn,m1)\n",
    "        T_dnn = np.append(T_dnn,T1)\n",
    "        b_dnn = np.append(b_dnn,beta)\n",
    "        \n",
    "        \n",
    "        return dy,y1,T,norm(beta,b) "
   ]
  },
  {
   "cell_type": "code",
   "execution_count": 156,
   "id": "23ca165f",
   "metadata": {},
   "outputs": [],
   "source": [
    "f1,f2 = Euler(np.array([r1,s1,v1,gamma1,m1,theta1,omega1]),model,5000)"
   ]
  },
  {
   "cell_type": "code",
   "execution_count": 157,
   "id": "3f649a06",
   "metadata": {},
   "outputs": [],
   "source": [
    "f2 = f2.reshape(5001,7)"
   ]
  },
  {
   "cell_type": "code",
   "execution_count": 179,
   "id": "468c8345",
   "metadata": {
    "scrolled": true
   },
   "outputs": [
    {
     "data": {
      "text/plain": [
       "Text(0, 0.5, 'Normalized Altitude')"
      ]
     },
     "execution_count": 179,
     "metadata": {},
     "output_type": "execute_result"
    },
    {
     "data": {
      "image/png": "[encoded data removed]",
      "text/plain": [
       "<Figure size 432x288 with 1 Axes>"
      ]
     },
     "metadata": {
      "needs_background": "light"
     },
     "output_type": "display_data"
    }
   ],
   "source": [
    "plt.plot(f2[1:,0])\n",
    "plt.plot(r/R0)\n",
    "plt.legend(['Dnn driven trajectory','Actual '])\n",
    "plt.title('model trained only for one trajectory')\n",
    "plt.xlabel('number of points in trajectory')\n",
    "plt.ylabel('Normalized Altitude')\n",
    "# plt.savefig(\"7.1.png\")"
   ]
  },
  {
   "cell_type": "code",
   "execution_count": null,
   "id": "3d5af3cb",
   "metadata": {},
   "outputs": [],
   "source": []
  },
  {
   "cell_type": "code",
   "execution_count": null,
   "id": "75b82c8c",
   "metadata": {},
   "outputs": [],
   "source": []
  },
  {
   "cell_type": "markdown",
   "id": "71548ff8",
   "metadata": {},
   "source": [
    "#### It seems like for very large scale models dealing with 10-6 accuracy, the DNN driven trajectory has failed at a certain point. From this we can conclude that more training of the model is essential. "
   ]
  },
  {
   "cell_type": "code",
   "execution_count": 117,
   "id": "28a98c41",
   "metadata": {
    "scrolled": true
   },
   "outputs": [
    {
     "data": {
      "image/png": "[encoded data removed]",
      "text/plain": [
       "<Figure size 432x288 with 1 Axes>"
      ]
     },
     "metadata": {
      "needs_background": "light"
     },
     "output_type": "display_data"
    }
   ],
   "source": [
    "plt.plot(s_dnn)\n",
    "plt.plot(s/s0)\n",
    "plt.legend(['Dnn driven trajectory','Actual '])\n",
    "plt.title('model trained only for one trajectory')\n",
    "plt.xlabel('number of points in trajectory')\n",
    "plt.ylabel('Normalized downrange distance')\n",
    "plt.savefig(\"7.2.png\")"
   ]
  },
  {
   "cell_type": "code",
   "execution_count": 108,
   "id": "ee07b6f4",
   "metadata": {},
   "outputs": [
    {
     "data": {
      "image/png": "[encoded data removed]",
      "text/plain": [
       "<Figure size 432x288 with 1 Axes>"
      ]
     },
     "metadata": {
      "needs_background": "light"
     },
     "output_type": "display_data"
    }
   ],
   "source": [
    "plt.plot(v_dnn)\n",
    "plt.plot(v/v0)\n",
    "plt.legend(['Dnn driven trajectory','Actual '])\n",
    "plt.title('model trained only for one trajectory')\n",
    "plt.xlabel('number of points in trajectory')\n",
    "plt.ylabel('Normalized velocity')\n",
    "plt.savefig(\"7.3.png\")"
   ]
  },
  {
   "cell_type": "code",
   "execution_count": 110,
   "id": "ce8afd02",
   "metadata": {},
   "outputs": [
    {
     "data": {
      "text/plain": [
       "array([-1.309 , -1.3093, -1.3095, ..., -1.5708, -1.5708, -1.5708])"
      ]
     },
     "execution_count": 110,
     "metadata": {},
     "output_type": "execute_result"
    }
   ],
   "source": [
    "gamma"
   ]
  },
  {
   "cell_type": "code",
   "execution_count": 111,
   "id": "5aba2f7b",
   "metadata": {},
   "outputs": [
    {
     "data": {
      "image/png": "[encoded data removed]",
      "text/plain": [
       "<Figure size 432x288 with 1 Axes>"
      ]
     },
     "metadata": {
      "needs_background": "light"
     },
     "output_type": "display_data"
    }
   ],
   "source": [
    "plt.plot(γ_dnn)\n",
    "plt.plot(gamma)\n",
    "plt.legend(['Dnn driven trajectory','Actual '])\n",
    "plt.title('model trained only for one trajectory')\n",
    "plt.xlabel('number of points in trajectory')\n",
    "plt.ylabel('Flight path angle')\n",
    "plt.savefig(\"7.4.png\")"
   ]
  },
  {
   "cell_type": "code",
   "execution_count": 112,
   "id": "c8bf873d",
   "metadata": {},
   "outputs": [
    {
     "data": {
      "image/png": "[encoded data removed]",
      "text/plain": [
       "<Figure size 432x288 with 1 Axes>"
      ]
     },
     "metadata": {
      "needs_background": "light"
     },
     "output_type": "display_data"
    }
   ],
   "source": [
    "plt.plot(m_dnn)\n",
    "plt.plot(m/m0)\n",
    "plt.legend(['Dnn driven trajectory','Actual '])\n",
    "plt.title('model trained only for one trajectory')\n",
    "plt.xlabel('number of points in trajectory')\n",
    "plt.ylabel('Normalized mass')\n",
    "plt.savefig(\"7.5.png\")"
   ]
  },
  {
   "cell_type": "code",
   "execution_count": 114,
   "id": "cc868a01",
   "metadata": {},
   "outputs": [
    {
     "data": {
      "image/png": "[encoded data removed]",
      "text/plain": [
       "<Figure size 432x288 with 1 Axes>"
      ]
     },
     "metadata": {
      "needs_background": "light"
     },
     "output_type": "display_data"
    }
   ],
   "source": [
    "plt.plot(θ_dnn)\n",
    "plt.plot(theta)\n",
    "plt.legend(['Dnn driven trajectory','Actual '])\n",
    "plt.title('model trained only for one trajectory')\n",
    "plt.xlabel('number of points in trajectory')\n",
    "plt.ylabel('pitch')\n",
    "plt.savefig(\"7.6.png\")"
   ]
  },
  {
   "cell_type": "code",
   "execution_count": 116,
   "id": "e3b5b127",
   "metadata": {},
   "outputs": [
    {
     "data": {
      "image/png": "[encoded data removed]",
      "text/plain": [
       "<Figure size 432x288 with 1 Axes>"
      ]
     },
     "metadata": {
      "needs_background": "light"
     },
     "output_type": "display_data"
    }
   ],
   "source": [
    "plt.plot(ω_dnn)\n",
    "plt.plot(omega)\n",
    "plt.legend(['Dnn driven trajectory','Actual '])\n",
    "plt.title('model trained only for one trajectory')\n",
    "plt.xlabel('number of points in trajectory')\n",
    "plt.ylabel('ω')\n",
    "plt.savefig(\"7.7.png\")"
   ]
  },
  {
   "cell_type": "code",
   "execution_count": null,
   "id": "ae417b35",
   "metadata": {},
   "outputs": [],
   "source": []
  },
  {
   "cell_type": "code",
   "execution_count": null,
   "id": "67885062",
   "metadata": {},
   "outputs": [],
   "source": []
  },
  {
   "cell_type": "code",
   "execution_count": null,
   "id": "8d45d73c",
   "metadata": {},
   "outputs": [],
   "source": []
  },
  {
   "cell_type": "code",
   "execution_count": null,
   "id": "6eff81fc",
   "metadata": {},
   "outputs": [],
   "source": []
  },
  {
   "cell_type": "code",
   "execution_count": 490,
   "id": "40c0ada7",
   "metadata": {},
   "outputs": [],
   "source": [
    "def diff_eqn2(inputs,model): # sends norm inputs\n",
    "        global ω_dnn, θ_dnn, v_dnn,γ_dnn,r_dnn, s_dnn,h_dnn ,m_dnn ,T_dnn ,b_dnn\n",
    "        \"\"\" Debugg ω, γ\"\"\"\n",
    "        r1 = inputs[0]\n",
    "        s1 = inputs[1]\n",
    "        v1 = inputs[2]\n",
    "        gamma1 = inputs[3]\n",
    "        m1 = inputs[4]\n",
    "        theta1= inputs[5]\n",
    "        omega1 = inputs[6]\n",
    "#         print(\"NORMS input\",(r1,s1,v1,gamma1,m1,theta1,omega1))\n",
    "        \n",
    "        ip = np.array([r1,v1,s1,omega1,gamma1,m1,theta1]).reshape(1,7) \n",
    "        data = model.predict(ip)\n",
    "        T1,beta = np.squeeze(data)\n",
    "        \n",
    "        r1 = AntiNorm(r1,r)\n",
    "        s1 = AntiNorm(s1,s)\n",
    "        v1 = AntiNorm(v1,v)\n",
    "        gamma2 = AntiNorm(gamma1,gamma)\n",
    "        m1 = AntiNorm(m1,m)\n",
    "        theta2 = AntiNorm(theta1,theta)\n",
    "        omega2 = AntiNorm(omega1,omega)\n",
    "        \n",
    "        T1 = AntiNorm(T1,T)\n",
    "        beta = AntiNorm(beta,b)\n",
    "        \n",
    "        ## normalizing according to the equations :\n",
    "        r1 = (r1)/R0; # here r1 is already R0+h\n",
    "        s1 = s1/s0;\n",
    "        v1 = v1/v0;\n",
    "        m1 = m1/m0;\n",
    "        T1 = T1/(m0*g0)\n",
    "\n",
    "        y1 = np.array([r1,s1,v1,gamma2,m1,theta2,omega2]) # anti norms\n",
    "#         print(\"old n states\",(r1,s1,v1,gamma2,m1,theta2,omega2))\n",
    "\n",
    "        dy = np.zeros(7)\n",
    "        Dr = 0.5*1.225*((y1[2]*v0)**2)*Cd*S_ref/(m0*g0);\n",
    "        dy[0] = y1[2] * np.sin(y1[3])*(v0*t_ref/R0); \n",
    "        dy[1] = y1[2] * np.cos(y1[3])*(v0*t_ref/s0);    \n",
    "        dy[2] = - (((T1* np.cos(beta-y1[3] + y1[5]) + Dr)/y1[4]) + (np.sin(y1[3])/(y1[0]**2)))*(g0*t_ref/v0);\n",
    "        dy[3] = - ((T1 * np.sin(beta-y1[3] + y1[5])/(y1[4]*y1[2])) + (np.cos(y1[3])/((y1[0]**2)*y1[2])))*(g0*t_ref/v0);\n",
    "        dy[4] = -T1/Isp*t_ref;\n",
    "        dy[5] = y1[6]*t_ref; \n",
    "        dy[6] = -T1 * np.sin(beta)*l_com*(m0*g0*t_ref)/I_z\n",
    "        ω_dnn = np.append(ω_dnn,omega2)\n",
    "        θ_dnn = np.append(θ_dnn,theta2)\n",
    "        γ_dnn = np.append(γ_dnn,gamma2)\n",
    "        r_dnn = np.append(r_dnn,r1)\n",
    "        s_dnn = np.append(s_dnn,s1)\n",
    "        v_dnn = np.append(v_dnn,v1)\n",
    "        m_dnn = np.append(m_dnn,m1)\n",
    "        T_dnn = np.append(T_dnn,T1)\n",
    "        b_dnn = np.append(b_dnn,beta)\n",
    "        \n",
    "        \n",
    "        return dy,y1,T,norm(beta,b) "
   ]
  },
  {
   "cell_type": "code",
   "execution_count": 491,
   "id": "6e852df7",
   "metadata": {},
   "outputs": [],
   "source": [
    "f1,f2 = Euler(np.array([r1,s1,v1,gamma1,m1,theta1,omega1]),model,2000)"
   ]
  },
  {
   "cell_type": "code",
   "execution_count": 497,
   "id": "294dcec4",
   "metadata": {
    "scrolled": true
   },
   "outputs": [
    {
     "data": {
      "text/plain": [
       "array([1.00000000e+00, 9.98560000e-01, 9.97119999e-01, ...,\n",
       "       6.69560246e-07, 3.34580168e-07, 0.00000000e+00])"
      ]
     },
     "execution_count": 497,
     "metadata": {},
     "output_type": "execute_result"
    }
   ],
   "source": [
    "r_norm"
   ]
  },
  {
   "cell_type": "code",
   "execution_count": 499,
   "id": "9af2edff",
   "metadata": {
    "scrolled": true
   },
   "outputs": [
    {
     "data": {
      "text/plain": [
       "[<matplotlib.lines.Line2D at 0x7f72e01ba6b0>]"
      ]
     },
     "execution_count": 499,
     "metadata": {},
     "output_type": "execute_result"
    },
    {
     "data": {
      "image/png": "[encoded data removed]",
      "text/plain": [
       "<Figure size 432x288 with 1 Axes>"
      ]
     },
     "metadata": {
      "needs_background": "light"
     },
     "output_type": "display_data"
    }
   ],
   "source": [
    "plt.plot(r_dnn)\n",
    "plt.plot(r_norm)"
   ]
  },
  {
   "cell_type": "code",
   "execution_count": 494,
   "id": "bcfa2c98",
   "metadata": {
    "scrolled": true
   },
   "outputs": [
    {
     "data": {
      "text/plain": [
       "[<matplotlib.lines.Line2D at 0x7f72c87b2620>]"
      ]
     },
     "execution_count": 494,
     "metadata": {},
     "output_type": "execute_result"
    },
    {
     "data": {
      "image/png": "[encoded data removed]",
      "text/plain": [
       "<Figure size 432x288 with 1 Axes>"
      ]
     },
     "metadata": {
      "needs_background": "light"
     },
     "output_type": "display_data"
    }
   ],
   "source": [
    "plt.plot(γ_dnn)"
   ]
  },
  {
   "cell_type": "code",
   "execution_count": 462,
   "id": "6d32903d",
   "metadata": {},
   "outputs": [
    {
     "data": {
      "text/plain": [
       "1.5364887612628508"
      ]
     },
     "execution_count": 462,
     "metadata": {},
     "output_type": "execute_result"
    }
   ],
   "source": [
    "norm(1.53674183*s0,s)"
   ]
  },
  {
   "cell_type": "code",
   "execution_count": 422,
   "id": "9c98fb27",
   "metadata": {
    "scrolled": false
   },
   "outputs": [],
   "source": [
    "f2 = f2.reshape(1001,7)"
   ]
  },
  {
   "cell_type": "code",
   "execution_count": 432,
   "id": "2d0c6d06",
   "metadata": {
    "scrolled": false
   },
   "outputs": [
    {
     "data": {
      "text/plain": [
       "[<matplotlib.lines.Line2D at 0x7f73d53b0580>]"
      ]
     },
     "execution_count": 432,
     "metadata": {},
     "output_type": "execute_result"
    },
    {
     "data": {
      "image/png": "[encoded data removed]",
      "text/plain": [
       "<Figure size 432x288 with 1 Axes>"
      ]
     },
     "metadata": {
      "needs_background": "light"
     },
     "output_type": "display_data"
    }
   ],
   "source": [
    "plt.plot(f2[1:,0])"
   ]
  },
  {
   "cell_type": "markdown",
   "id": "abe4e29b",
   "metadata": {},
   "source": [
    "f2[1:3002,0]"
   ]
  },
  {
   "cell_type": "code",
   "execution_count": 431,
   "id": "36a72b19",
   "metadata": {},
   "outputs": [
    {
     "data": {
      "text/plain": [
       "[<matplotlib.lines.Line2D at 0x7f73d493a470>]"
      ]
     },
     "execution_count": 431,
     "metadata": {},
     "output_type": "execute_result"
    },
    {
     "data": {
      "image/png": "[encoded data removed]",
      "text/plain": [
       "<Figure size 432x288 with 1 Axes>"
      ]
     },
     "metadata": {
      "needs_background": "light"
     },
     "output_type": "display_data"
    }
   ],
   "source": [
    "plt.plot(r_norm)"
   ]
  },
  {
   "cell_type": "code",
   "execution_count": 102,
   "id": "9783fbfb",
   "metadata": {},
   "outputs": [
    {
     "data": {
      "text/html": [
       "<div>\n",
       "<style scoped>\n",
       "    .dataframe tbody tr th:only-of-type {\n",
       "        vertical-align: middle;\n",
       "    }\n",
       "\n",
       "    .dataframe tbody tr th {\n",
       "        vertical-align: top;\n",
       "    }\n",
       "\n",
       "    .dataframe thead th {\n",
       "        text-align: right;\n",
       "    }\n",
       "</style>\n",
       "<table border=\"1\" class=\"dataframe\">\n",
       "  <thead>\n",
       "    <tr style=\"text-align: right;\">\n",
       "      <th></th>\n",
       "      <th>r</th>\n",
       "      <th>s</th>\n",
       "      <th>v</th>\n",
       "      <th>gamma</th>\n",
       "      <th>m</th>\n",
       "      <th>theta</th>\n",
       "      <th>omega</th>\n",
       "    </tr>\n",
       "  </thead>\n",
       "  <tbody>\n",
       "    <tr>\n",
       "      <th>0</th>\n",
       "      <td>1.0</td>\n",
       "      <td>0.0</td>\n",
       "      <td>1.0</td>\n",
       "      <td>0.621391</td>\n",
       "      <td>1.0</td>\n",
       "      <td>0.629877</td>\n",
       "      <td>1.0</td>\n",
       "    </tr>\n",
       "  </tbody>\n",
       "</table>\n",
       "</div>"
      ],
      "text/plain": [
       "     r    s    v     gamma    m     theta  omega\n",
       "0  1.0  0.0  1.0  0.621391  1.0  0.629877    1.0"
      ]
     },
     "execution_count": 102,
     "metadata": {},
     "output_type": "execute_result"
    }
   ],
   "source": [
    "pd.DataFrame(i3.reshape(1,7),columns=['r','s','v','gamma','m','theta','omega'])"
   ]
  },
  {
   "cell_type": "code",
   "execution_count": null,
   "id": "dcf78beb",
   "metadata": {},
   "outputs": [],
   "source": []
  },
  {
   "cell_type": "code",
   "execution_count": 397,
   "id": "098f75d4",
   "metadata": {},
   "outputs": [],
   "source": [
    "def Euler(input2,model,n):\n",
    "    global y1, y2, k1, y3\n",
    "    h_step = 1/n\n",
    "    inputs= np.array([r1,s1,v1,gamma1,m1,theta1,omega1])\n",
    "    op_dnn = np.append([],inputs) \n",
    "    op_an = []\n",
    "    for _ in range(n):\n",
    "        k1,y1,T1,b1 = diff_eqn2(inputs,model)\n",
    "        op_an = np.append(op_an,y1)\n",
    "        y2 = y1 + h_step *(k1) # euler \n",
    "        \"\"\"change y2 to normalized and append to op\n",
    "           y1 = np.array([r1,s1,v1,gamma2,m1,theta2,omega2]) \"\"\"\n",
    "        y2[3] = norm(y2[3],gamma)\n",
    "        y2[5] = norm(y2[-2],theta)\n",
    "        y2[6] = norm(y2[-1],omega)\n",
    "        op_dnn = np.append(op_dnn,y2) \n",
    "        # Normalizing them back to the way our neural network will be able to predict\n",
    "        y2[0] = norm((y2[0])*R0,r) \n",
    "        y2[1] = norm(y2[1]*s0,s)\n",
    "        y2[2] = norm(y2[2] *v0,v)\n",
    "        y2[4] = norm(y2[4] *m0,m)\n",
    "        print(\"AFTER\",y2)\n",
    "        inputs = y2 \n",
    "    return op_an,op_dnn"
   ]
  },
  {
   "cell_type": "code",
   "execution_count": 406,
   "id": "4baf9f43",
   "metadata": {},
   "outputs": [
    {
     "data": {
      "text/plain": [
       "(5000.0, -6.3947e-17, 325.0, -1.309, 26230.0, -1.309, 0.3420000000000001)"
      ]
     },
     "execution_count": 406,
     "metadata": {},
     "output_type": "execute_result"
    }
   ],
   "source": [
    "AntiNorm(h1,h),AntiNorm(s1,s),AntiNorm(v1,v),AntiNorm(gamma1,gamma),AntiNorm(m1,m),AntiNorm(theta1,theta),AntiNorm(omega1,omega)"
   ]
  },
  {
   "cell_type": "code",
   "execution_count": 410,
   "id": "c9ec2f3d",
   "metadata": {},
   "outputs": [],
   "source": [
    "f1,f2 = Rk4(np.array([r1,s1,v1,gamma1,m1,theta1,omega1]),model,50)"
   ]
  },
  {
   "cell_type": "markdown",
   "id": "64ba22ab",
   "metadata": {},
   "source": []
  },
  {
   "cell_type": "code",
   "execution_count": 412,
   "id": "5f9e570a",
   "metadata": {},
   "outputs": [],
   "source": [
    "f2 = f2.reshape(51,7)"
   ]
  },
  {
   "cell_type": "code",
   "execution_count": 405,
   "id": "8f92b6a7",
   "metadata": {},
   "outputs": [],
   "source": [
    "def Rk4(input2,model,n):\n",
    "    global y1, y2, k1,k2,k3,k4, y3\n",
    "    h_step = 1/n\n",
    "    inputs= np.array([r1,s1,v1,gamma1,m1,theta1,omega1])\n",
    "    op_dnn = np.append([],inputs) \n",
    "    op_an = []   \n",
    "    for _ in range(n):\n",
    "        k1,y1,T1,b1 = diff_eqn2(inputs,model)\n",
    "        k2,_,_,_ = diff_eqn2(inputs+0.5*h_step*k1,model)\n",
    "        k3,_,_,_ = diff_eqn2(inputs+0.5*h_step*k2,model)\n",
    "        k4,_,_,_ = diff_eqn2(inputs+h_step*k3,model)\n",
    "    \n",
    "        y2 = y1+ h_step *(k1+2*(k2+k3)+k4)/6 \n",
    "        \n",
    "        \"\"\"change y2 to normalized and append to op\n",
    "           y1 = np.array([r1,s1,v1,gamma2,m1,theta2,omega2]) \"\"\"\n",
    "        \n",
    "        # Normalizing them back to the way our neural network will be able to predict\n",
    "        y2[0] = norm((y2[0])*R0,r) \n",
    "        y2[1] = norm(y2[1]*s0,s)\n",
    "        y2[2] = norm(y2[2] *v0,v)\n",
    "        y2[3] = norm(y2[3],gamma)\n",
    "        y2[4] = norm(y2[4] *m0,m)\n",
    "        y2[5] = norm(y2[5],theta)\n",
    "        y2[6] = norm(y2[6],omega)\n",
    "        ## \n",
    "#         print(\"AFTER\",y2)\n",
    "        inputs = y2 \n",
    "        op_dnn = np.append(op_dnn,y2) # appending trajectory states obtained by ddnn\n",
    "    \n",
    "    return op_an,op_dnn"
   ]
  },
  {
   "cell_type": "code",
   "execution_count": 415,
   "id": "9f74a44d",
   "metadata": {},
   "outputs": [
    {
     "data": {
      "text/plain": [
       "[<matplotlib.lines.Line2D at 0x7f73d4bc4190>]"
      ]
     },
     "execution_count": 415,
     "metadata": {},
     "output_type": "execute_result"
    },
    {
     "data": {
      "image/png": "[encoded data removed]",
      "text/plain": [
       "<Figure size 432x288 with 1 Axes>"
      ]
     },
     "metadata": {
      "needs_background": "light"
     },
     "output_type": "display_data"
    }
   ],
   "source": [
    "plt.plot(f2[:,3])"
   ]
  },
  {
   "cell_type": "code",
   "execution_count": null,
   "id": "51c931fb",
   "metadata": {},
   "outputs": [],
   "source": []
  },
  {
   "cell_type": "code",
   "execution_count": 407,
   "id": "07dfc707",
   "metadata": {},
   "outputs": [],
   "source": [
    "k = (k1+2*(k2+k3)+k4)/6\n"
   ]
  },
  {
   "cell_type": "code",
   "execution_count": null,
   "id": "df814f54",
   "metadata": {},
   "outputs": [],
   "source": []
  },
  {
   "cell_type": "code",
   "execution_count": 344,
   "id": "b8c29c2f",
   "metadata": {},
   "outputs": [
    {
     "data": {
      "text/plain": [
       "array([-1.30935196, -1.30972436, -1.31011602, -1.31052667, -1.31095614,\n",
       "       -1.31140427, -1.3118709 , -1.3123562 , -1.31286029, -1.31338303,\n",
       "       -1.31392426, -1.31448386, -1.31506167, -1.31565756, -1.31627212,\n",
       "       -1.31690561, -1.31755789, -1.31822882, -1.31891827, -1.31962609,\n",
       "       -1.32035214, -1.32109627, -1.32185834, -1.32263821, -1.3234364 ,\n",
       "       -1.32425306, -1.32508805, -1.3259412 , -1.32681235, -1.32770134,\n",
       "       -1.32860801, -1.3295322 , -1.33047373, -1.33143269, -1.33240892,\n",
       "       -1.33340219, -1.33441231, -1.33543907, -1.33648227, -1.33754179,\n",
       "       -1.33861774, -1.33970989, -1.34081803, -1.34194194, -1.34308138,\n",
       "       -1.34423615, -1.34540623, -1.34659143, -1.3477915 , -1.3490062 ,\n",
       "       -1.35023526, -1.35147844, -1.3527355 , -1.35400616, -1.35529016,\n",
       "       -1.35658743, -1.35789764, -1.3592205 , -1.36055575, -1.36190312,\n",
       "       -1.36326236, -1.36463331, -1.36601601, -1.36741018, -1.36881555,\n",
       "       -1.37023184, -1.37165877, -1.37309604, -1.37454322, -1.37600003,\n",
       "       -1.3774662 , -1.37894146, -1.38042556, -1.38191825, -1.38341962,\n",
       "       -1.38492941, -1.38644735, -1.38797317, -1.38950662, -1.39104745,\n",
       "       -1.39259549, -1.39415047, -1.39571213, -1.39728025, -1.39885449,\n",
       "       -1.40043434, -1.40201957, -1.40360995, -1.40520541, -1.40680621,\n",
       "       -1.40841208, -1.41002279, -1.41163808, -1.41325766, -1.41488154,\n",
       "       -1.41650953, -1.41814149, -1.41977709, -1.42141593, -1.42305754,\n",
       "       -1.42470203, -1.42634924, -1.42799898, -1.42965108, -1.43130539,\n",
       "       -1.43296173, -1.43461994, -1.43627978, -1.43794126, -1.43960424,\n",
       "       -1.44126847, -1.44293377, -1.44459999, -1.44626694, -1.44793446,\n",
       "       -1.44960237, -1.4512705 , -1.45293865, -1.45460667, -1.45627434,\n",
       "       -1.45794149, -1.45960791, -1.46127339, -1.46293791, -1.46460131,\n",
       "       -1.46626337, -1.46792394, -1.46958306, -1.47124054, -1.47289616,\n",
       "       -1.47454973, -1.47620077, -1.47784897, -1.47949457, -1.48113751,\n",
       "       -1.48277758, -1.48441458, -1.48604831, -1.48767854, -1.48930506,\n",
       "       -1.49092764, -1.49254605, -1.49416006, -1.49576942, -1.49737388,\n",
       "       -1.4989733 , -1.50056791, -1.50215751, -1.50374188, -1.5053208 ,\n",
       "       -1.50689405, -1.50846141, -1.51002266, -1.51157755, -1.51312585,\n",
       "       -1.51466732, -1.51620172, -1.51772887, -1.51924895, -1.52076166,\n",
       "       -1.52226625, -1.52376237, -1.52524975, -1.52672893, -1.52819976,\n",
       "       -1.5296616 , -1.53111406, -1.53255686, -1.53399015, -1.53541381,\n",
       "       -1.53682705, -1.53822957, -1.53962111, -1.54100202, -1.54237222,\n",
       "       -1.54373085, -1.5450776 , -1.5464122 , -1.54773438, -1.54904393,\n",
       "       -1.55034067, -1.55162431, -1.55289473, -1.55415172, -1.55539501,\n",
       "       -1.55662432, -1.55783937, -1.55903988, -1.56022552, -1.56139599,\n",
       "       -1.56255103, -1.56369048, -1.56481412, -1.56592168, -1.56701288,\n",
       "       -1.56808739, -1.56914455, -1.57018388, -1.57120594, -1.57221064,\n",
       "       -1.57319771, -1.57416682, -1.57511707, -1.57604849, -1.5769609 ,\n",
       "       -1.57785402, -1.57872763, -1.57958145, -1.58041519, -1.58122881,\n",
       "       -1.58202192, -1.58279428, -1.58354565, -1.5842758 , -1.5849845 ,\n",
       "       -1.58567152, -1.58633679, -1.58698009, -1.58760106, -1.58819944,\n",
       "       -1.58877516, -1.58932849, -1.58985893, -1.59036606, -1.59084955,\n",
       "       -1.59130914, -1.59174476, -1.5921563 , -1.59254375, -1.59290694,\n",
       "       -1.5932457 , -1.59355988, -1.59384933, -1.59411391, -1.59435369,\n",
       "       -1.59456832, -1.59475749, -1.59492108, -1.59505899, -1.59517111,\n",
       "       -1.59525735, -1.59531775, -1.59535246, -1.59536097, -1.59534366,\n",
       "       -1.59530017, -1.59523045, -1.59513445, -1.59501223, -1.59486377,\n",
       "       -1.59468872, -1.59448727, -1.59425948, -1.59400534, -1.5937248 ,\n",
       "       -1.59341758, -1.59308384, -1.59272361, -1.59233689, -1.59192371,\n",
       "       -1.59148411, -1.59101812, -1.59052578, -1.59000714, -1.5894622 ,\n",
       "       -1.58889101, -1.58829399, -1.58767072, -1.58702144, -1.58634625,\n",
       "       -1.58564522, -1.58491845, -1.58416604, -1.5833881 , -1.58258484,\n",
       "       -1.58175636, -1.5809028 , -1.58002429, -1.57912097, -1.57819282,\n",
       "       -1.57724006, -1.57626299, -1.57526174, -1.57423652, -1.57318769,\n",
       "       -1.5721149 , -1.57101835, -1.56989824, -1.56875477, -1.56758813,\n",
       "       -1.56639855, -1.56518625, -1.56395144, -1.56269434, -1.56141521,\n",
       "       -1.56011425, -1.55879173, -1.55744788, -1.55608291, -1.55469681,\n",
       "       -1.55328986, -1.55186234, -1.55041451, -1.54894667, -1.54745909,\n",
       "       -1.54595206, -1.54442587, -1.54288079, -1.54131705, -1.53973494,\n",
       "       -1.53813467, -1.53651653, -1.53488084, -1.53322789, -1.53155783,\n",
       "       -1.52987094, -1.52816734, -1.52644731, -1.52471141, -1.52295993,\n",
       "       -1.52119312, -1.51941126, -1.51761461, -1.51580345, -1.51397767,\n",
       "       -1.51213761, -1.51028357, -1.50841582, -1.50653463, -1.50464025,\n",
       "       -1.50273293, -1.50081292, -1.49888045, -1.49693576, -1.49497909,\n",
       "       -1.49301069, -1.49103071, -1.48903964, -1.48703775, -1.48502527,\n",
       "       -1.48300251, -1.48096972, -1.47892715, -1.47687503, -1.47481357,\n",
       "       -1.47274299, -1.47066351, -1.46857539, -1.46647882, -1.46437397,\n",
       "       -1.46226119, -1.4601407 , -1.45801274, -1.45587753, -1.45373535,\n",
       "       -1.45158645, -1.44943105, -1.44726934, -1.44510151, -1.44292776,\n",
       "       -1.44074838, -1.4385636 , -1.43637363, -1.43417866, -1.43197888,\n",
       "       -1.42977447, -1.42756562, -1.42535248, -1.4231352 , -1.42091395,\n",
       "       -1.41868888, -1.41646011, -1.41422779, -1.41199204, -1.40975355,\n",
       "       -1.40751248, -1.40526896, -1.40302312, -1.4007751 , -1.39852512,\n",
       "       -1.3962731 , -1.39401916, -1.3917634 , -1.389506  , -1.38724744,\n",
       "       -1.38498789, -1.38272746, -1.38046629, -1.37820448, -1.37594215,\n",
       "       -1.37367941, -1.37141644, -1.36915346, -1.36689058, -1.36462791,\n",
       "       -1.36236559, -1.36010372, -1.35784245, -1.35558191, -1.35332223,\n",
       "       -1.35106351, -1.34880587, -1.34654938, -1.34429417, -1.34204033,\n",
       "       -1.33978795, -1.33753715, -1.33528802, -1.33304105, -1.33079672,\n",
       "       -1.32855512, -1.32631638, -1.3240806 , -1.32184786, -1.31961828,\n",
       "       -1.31739199, -1.3151691 , -1.31294972, -1.31073395, -1.30852191,\n",
       "       -1.30631371, -1.30410945, -1.30190925, -1.29971321, -1.29752146,\n",
       "       -1.29533412, -1.29315143, -1.2909735 , -1.28880047, -1.28663245,\n",
       "       -1.28446957, -1.28231198, -1.28015979, -1.27801314, -1.27587217,\n",
       "       -1.27373761, -1.27161073, -1.26949078, -1.26737763, -1.26527142,\n",
       "       -1.26317231, -1.26108043, -1.25899593, -1.25691897, -1.2548497 ,\n",
       "       -1.25278829, -1.25073489, -1.24868967, -1.24665294, -1.24462517,\n",
       "       -1.24260671, -1.24059776, -1.23859794, -1.2366074 , -1.23462643,\n",
       "       -1.23265533, -1.23069433, -1.2287436 , -1.22680334, -1.22487374,\n",
       "       -1.222955  , -1.22104732, -1.21915048, -1.21726548, -1.21539251,\n",
       "       -1.21353185, -1.21168381, -1.20984836, -1.20802574, -1.20621617,\n",
       "       -1.20441986, -1.20263714, -1.20086827, -1.19911346, -1.19737294,\n",
       "       -1.19564695, -1.19393571, -1.19223947, -1.19055847, -1.18889296,\n",
       "       -1.18724317, -1.18560937, -1.18399224, -1.18239155, -1.18080781,\n",
       "       -1.17924135, -1.17769242, -1.17616111, -1.17464768, -1.1731524 ,\n",
       "       -1.1716755 , -1.17021726, -1.16877793, -1.16735897, -1.16596078,\n",
       "       -1.16458274, -1.16322504, -1.16188773, -1.16057102, -1.15927517,\n",
       "       -1.15800041, -1.15674701, -1.15551516, -1.15430503, -1.15311703,\n",
       "       -1.15195138, -1.15080831, -1.14968798, -1.14859112, -1.14751748,\n",
       "       -1.14646748, -1.14544168, -1.14444031, -1.14346359, -1.14251132,\n",
       "       -1.14158377, -1.14068117, -1.13980373, -1.13895197, -1.13812618,\n",
       "       -1.13732658, -1.13655324, -1.13580598, -1.1350853 , -1.13439183,\n",
       "       -1.13372562, -1.13308685, -1.13247568, -1.13189244, -1.13133732,\n",
       "       -1.13081051, -1.13031214, -1.12984235, -1.12940131, -1.12898936,\n",
       "       -1.12860703, -1.12825357, -1.12792917, -1.12763448, -1.12736963,\n",
       "       -1.12713472, -1.12692985, -1.12675513, -1.12661064, -1.12649646,\n",
       "       -1.12641268, -1.12635935, -1.12633663, -1.12634468, -1.12638355,\n",
       "       -1.12645327, -1.12655387, -1.12668539, -1.12684784, -1.12704122,\n",
       "       -1.12726555, -1.12752117, -1.12780825, -1.12812674, -1.12847664,\n",
       "       -1.12885788, -1.12927044, -1.12971425, -1.13018925, -1.13069538,\n",
       "       -1.13123256, -1.13180072, -1.13239977, -1.1330296 , -1.13369012,\n",
       "       -1.13438198, -1.13510506, -1.13585923, -1.13664437, -1.1374603 ,\n",
       "       -1.13830688, -1.13918378, -1.14009001, -1.14102605, -1.14199203,\n",
       "       -1.14298792, -1.14401356, -1.14506876, -1.14615334, -1.14726713,\n",
       "       -1.14840992, -1.14958154, -1.15078178, -1.15201045, -1.15326735,\n",
       "       -1.15455227, -1.15586501, -1.15720537, -1.15857312, -1.15996808,\n",
       "       -1.16138996, -1.16283852, -1.16431353, -1.16581469, -1.16734189,\n",
       "       -1.16889452, -1.17047237, -1.17207521, -1.17370282, -1.17535498,\n",
       "       -1.17703148, -1.17873211, -1.18045663, -1.18220483, -1.18397638,\n",
       "       -1.18577075, -1.1875877 , -1.18942699, -1.19128837, -1.19317162,\n",
       "       -1.19507647, -1.1970027 , -1.19895007, -1.20091789, -1.20290536,\n",
       "       -1.20491221, -1.2069382 , -1.20898313, -1.21104676, -1.21312884,\n",
       "       -1.21522912, -1.21734737, -1.21948334, -1.22163639, -1.22380624,\n",
       "       -1.22599265, -1.22819534, -1.23041406, -1.23264845, -1.23489797,\n",
       "       -1.23716205, -1.2394404 , -1.24173274, -1.24403879, -1.24635825,\n",
       "       -1.24869085, -1.2510363 , -1.25339433, -1.25576465, -1.25814697,\n",
       "       -1.26054099, -1.26294644, -1.26536281, -1.26778932, -1.27022557,\n",
       "       -1.27267123, -1.27512598, -1.2775895 , -1.28006149, -1.28254163,\n",
       "       -1.28502959, -1.28752508, -1.29002777, -1.29253736, -1.29505353,\n",
       "       -1.29757597, -1.30010436, -1.3026384 , -1.30517776, -1.30772215,\n",
       "       -1.31027123, -1.31282471, -1.31538227, -1.3179436 , -1.32050837,\n",
       "       -1.32307627, -1.32564693, -1.32822004, -1.33079528, -1.33337234,\n",
       "       -1.3359509 , -1.33853066, -1.34111129, -1.3436925 , -1.34627399,\n",
       "       -1.34885511, -1.3514354 , -1.35401456, -1.35659231, -1.35916832,\n",
       "       -1.36174229, -1.3643139 , -1.36688238, -1.36944735, -1.37200846,\n",
       "       -1.37456542, -1.37711804, -1.37966644, -1.38221031, -1.38474937,\n",
       "       -1.38728309, -1.38981097, -1.39233273, -1.39484806, -1.39735645,\n",
       "       -1.3998569 , -1.40234914, -1.40483288, -1.40730713, -1.40977102,\n",
       "       -1.41222378, -1.41466524, -1.41709539, -1.41951424, -1.42192117,\n",
       "       -1.42431484, -1.42669444, -1.42905948, -1.43140862, -1.43374226,\n",
       "       -1.43605744, -1.43835431, -1.44063281, -1.44289109, -1.44512863,\n",
       "       -1.44734509, -1.44954094, -1.45171615, -1.45387072, -1.45600369,\n",
       "       -1.45811474, -1.46020567, -1.4622762 , -1.46432495, -1.46635253,\n",
       "       -1.46835901, -1.47034444, -1.4723089 , -1.47425243, -1.4761737 ,\n",
       "       -1.47807381, -1.47995333, -1.48181238, -1.48365104, -1.48546887,\n",
       "       -1.48726519, -1.48904125, -1.49079717, -1.49253244, -1.49424733,\n",
       "       -1.49594218, -1.49761709, -1.49927217, -1.50090764, -1.50252374,\n",
       "       -1.50412027, -1.50569729, -1.50725486, -1.50879283, -1.51031133,\n",
       "       -1.51181045, -1.51329032, -1.51475104, -1.51619271, -1.51761543,\n",
       "       -1.51901929, -1.5204044 , -1.52177084, -1.5231189 , -1.52444885,\n",
       "       -1.52576078, -1.52705477, -1.52833092, -1.52958931, -1.53083003,\n",
       "       -1.53205347, -1.53325955, -1.53444796, -1.53561927, -1.53677357,\n",
       "       -1.53791096, -1.53903165, -1.5401357 , -1.54122319, -1.5422942 ,\n",
       "       -1.5433488 , -1.54438705, -1.54540903, -1.54641481, -1.54740447,\n",
       "       -1.54837809, -1.54933574, -1.55027835, -1.55120639, -1.55211991,\n",
       "       -1.55301896, -1.5539036 , -1.55477389, -1.5556299 , -1.55647169,\n",
       "       -1.55729932, -1.55811286, -1.55891238, -1.5596984 , -1.56047131,\n",
       "       -1.56123118, -1.56197809, -1.56271212, -1.56343334, -1.56414185,\n",
       "       -1.56483778, -1.56552125, -1.56619236, -1.56685118, -1.56749782,\n",
       "       -1.56813235, -1.56875487, -1.56936546, -1.56996423, -1.57055127,\n",
       "       -1.57112697, -1.57169146, -1.57224485, -1.57278722, -1.57331869,\n",
       "       -1.57383936, -1.57434934, -1.57484888, -1.57533807, -1.57581704,\n",
       "       -1.57628589, -1.57674476, -1.577194  , -1.57763389, -1.57806456,\n",
       "       -1.57848611, -1.57889869, -1.5793024 , -1.57969737, -1.58008373,\n",
       "       -1.5804617 , -1.58083151, -1.5811933 , -1.5815472 , -1.58189334,\n",
       "       -1.58223187, -1.5825629 , -1.58288659, -1.58320307, -1.58351248,\n",
       "       -1.58381495, -1.58411065, -1.58440001, -1.58468316, -1.58496026,\n",
       "       -1.58523144, -1.58549679, -1.58575648, -1.58601065, -1.58625925,\n",
       "       -1.58650244, -1.58674037, -1.58697317, -1.58720104, -1.58742416,\n",
       "       -1.58764249, -1.58785614, -1.58806525, -1.58827027, -1.58847137,\n",
       "       -1.58866873, -1.58886265, -1.5890534 , -1.58924117, -1.58942615,\n",
       "       -1.58960852, -1.5897885 , -1.58996626, -1.59014185, -1.59031497,\n",
       "       -1.59048581, -1.59065455, -1.59082182, -1.59098783, -1.59115282,\n",
       "       -1.59131698, -1.59148056, -1.59164379, -1.59180689, -1.5919701 ,\n",
       "       -1.59213368, -1.5922972 , -1.59246083, -1.59262479, -1.59278935,\n",
       "       -1.59295469, -1.59312068, -1.59328785, -1.5934565 , -1.59362693,\n",
       "       -1.59379944, -1.59397432, -1.59415193, -1.59433216, -1.59451544,\n",
       "       -1.59470208, -1.59489241, -1.59508678, -1.59528579, -1.59549136,\n",
       "       -1.59570356, -1.59592236, -1.59614793, -1.59638026, -1.59661889,\n",
       "       -1.59686429, -1.59711739, -1.59737868, -1.59764868, -1.59792793,\n",
       "       -1.59821699, -1.59851658, -1.59882636, -1.59914622, -1.59947658,\n",
       "       -1.59981878, -1.60017351, -1.60054173, -1.60092428, -1.60132195,\n",
       "       -1.60173562, -1.60216623, -1.60261475, -1.6030822 , -1.60356964,\n",
       "       -1.60407819, -1.60460905, -1.60516221, -1.60573872, -1.60633965,\n",
       "       -1.60696708, -1.60762258, -1.60830719, -1.60902231, -1.60976977,\n",
       "       -1.6105515 , -1.6113696 , -1.61222631, -1.61312329, -1.61406275,\n",
       "       -1.61504745, -1.61608033, -1.61716462, -1.61830433, -1.61950336,\n",
       "       -1.62076721, -1.62210068, -1.62350885, -1.62499725, -1.62657197,\n",
       "       -1.62823967, -1.63000767, -1.63188406, -1.63387776, -1.63599864,\n",
       "       -1.63825765, -1.64066697, -1.64324017, -1.64599239, -1.64894059,\n",
       "       -1.65210379, -1.6555034 , -1.65916353, -1.66311139, -1.66737778,\n",
       "       -1.67199763, -1.67701879, -1.68249231, -1.68847559, -1.6950385 ,\n",
       "       -1.70226402, -1.71024715, -1.71910025, -1.72896522, -1.73998988,\n",
       "       -1.75236059, -1.76630128, -1.7820758 , -1.79999095, -1.82046683,\n",
       "       -1.84412669, -1.87165871, -1.90358252, -1.94135194, -1.98568351,\n",
       "       -2.03725554, -2.09810742, -2.17080691, -2.2589005 , -2.36614133,\n",
       "       -2.4982059 , -2.66296705, -2.86732424, -3.11202904, -3.38354014])"
      ]
     },
     "execution_count": 344,
     "metadata": {},
     "output_type": "execute_result"
    }
   ],
   "source": [
    "AntiNorm(f2[1:,3],gamma)"
   ]
  },
  {
   "cell_type": "code",
   "execution_count": 408,
   "id": "c72cda57",
   "metadata": {},
   "outputs": [
    {
     "data": {
      "text/plain": [
       "array([ 0.99863613,  0.05802305, -0.39324134, -2.45785865,  0.7011121 ,\n",
       "       -3.01646252,  1.04792247])"
      ]
     },
     "execution_count": 408,
     "metadata": {},
     "output_type": "execute_result"
    }
   ],
   "source": [
    "y1+k"
   ]
  },
  {
   "cell_type": "code",
   "execution_count": null,
   "id": "88f06226",
   "metadata": {},
   "outputs": [],
   "source": []
  },
  {
   "cell_type": "code",
   "execution_count": null,
   "id": "4fe1b7a8",
   "metadata": {},
   "outputs": [],
   "source": []
  },
  {
   "cell_type": "code",
   "execution_count": 349,
   "id": "dc4533fc",
   "metadata": {
    "scrolled": false
   },
   "outputs": [
    {
     "data": {
      "text/plain": [
       "[<matplotlib.lines.Line2D at 0x7f73d4fc7280>]"
      ]
     },
     "execution_count": 349,
     "metadata": {},
     "output_type": "execute_result"
    },
    {
     "data": {
      "image/png": "[encoded data removed]",
      "text/plain": [
       "<Figure size 432x288 with 1 Axes>"
      ]
     },
     "metadata": {
      "needs_background": "light"
     },
     "output_type": "display_data"
    }
   ],
   "source": [
    "plt.plot(f2[1:,4])\n",
    "plt.plot(m/m0)"
   ]
  },
  {
   "cell_type": "code",
   "execution_count": 350,
   "id": "352f9c18",
   "metadata": {},
   "outputs": [
    {
     "data": {
      "text/plain": [
       "0.6206212506551586"
      ]
     },
     "execution_count": 350,
     "metadata": {},
     "output_type": "execute_result"
    }
   ],
   "source": [
    "f2[1,3]"
   ]
  },
  {
   "cell_type": "code",
   "execution_count": 351,
   "id": "a5dba5e3",
   "metadata": {
    "scrolled": true
   },
   "outputs": [
    {
     "data": {
      "text/plain": [
       "[<matplotlib.lines.Line2D at 0x7f73d4e368c0>]"
      ]
     },
     "execution_count": 351,
     "metadata": {},
     "output_type": "execute_result"
    },
    {
     "data": {
      "image/png": "[encoded data removed]",
      "text/plain": [
       "<Figure size 432x288 with 1 Axes>"
      ]
     },
     "metadata": {
      "needs_background": "light"
     },
     "output_type": "display_data"
    }
   ],
   "source": [
    "plt.plot(f2[1:,0])"
   ]
  },
  {
   "cell_type": "code",
   "execution_count": null,
   "id": "bc7c02ab",
   "metadata": {},
   "outputs": [],
   "source": []
  },
  {
   "cell_type": "code",
   "execution_count": null,
   "id": "5325aaa6",
   "metadata": {},
   "outputs": [],
   "source": []
  },
  {
   "cell_type": "code",
   "execution_count": null,
   "id": "3241238b",
   "metadata": {},
   "outputs": [],
   "source": []
  },
  {
   "cell_type": "code",
   "execution_count": 373,
   "id": "a2fb9fa6",
   "metadata": {
    "scrolled": true
   },
   "outputs": [
    {
     "name": "stdout",
     "output_type": "stream",
     "text": [
      "[ 0.99999486  0.04887916  0.9913016  -1.30823583  0.99966021 -1.33571977\n",
      "  0.33757743]\n",
      "[ 0.99998929  0.09049207  0.98345824 -1.30785623  0.99930426 -1.36854092\n",
      "  0.33314265]\n",
      "[ 0.99998384  0.13034009  0.97601905 -1.30745617  0.99892912 -1.40503601\n",
      "  0.32863985]\n",
      "[ 0.99997868  0.17073242  0.96881903 -1.3068558   0.99853811 -1.43958309\n",
      "  0.32421753]\n",
      "[ 0.99997396  0.21407735  0.96161141 -1.30592161  0.99813661 -1.46483974\n",
      "  0.31999685]\n",
      "[ 0.99996973  0.26130507  0.95427903 -1.3047246   0.99771765 -1.47960188\n",
      "  0.31568561]\n",
      "[ 0.99996602  0.31242839  0.94684406 -1.30338841  0.99726776 -1.48584313\n",
      "  0.31083045]\n",
      "[ 0.99996295  0.36805349  0.93928062 -1.30184685  0.99677758 -1.48207447\n",
      "  0.30527793]\n",
      "[ 0.99996031  0.42627187  0.93189408 -1.30018121  0.99624593 -1.46998001\n",
      "  0.2992793 ]\n",
      "[ 0.9999577   0.48468837  0.92496034 -1.29846856  0.99569445 -1.45545054\n",
      "  0.29323213]\n",
      "[ 0.9999549   0.54206943  0.9185158  -1.29671455  0.99513961 -1.44066139\n",
      "  0.28723906]\n",
      "[ 0.99995194  0.59851255  0.91248582 -1.29484892  0.99458089 -1.42589503\n",
      "  0.28129426]\n",
      "[ 0.99994899  0.65529961  0.90676705 -1.29267569  0.99400372 -1.4100945\n",
      "  0.27548933]\n",
      "[ 0.99994614  0.71290483  0.90123356 -1.29005903  0.9934057  -1.39259402\n",
      "  0.26999607]\n",
      "[ 0.99994334  0.77108359  0.89579023 -1.28697382  0.99278877 -1.3736441\n",
      "  0.26491941]\n",
      "[ 0.99994046  0.82911472  0.89039315 -1.28346859  0.99215475 -1.3546903\n",
      "  0.26026048]\n",
      "[ 0.99993737  0.8860533   0.8849513  -1.27969422  0.99151577 -1.33628884\n",
      "  0.25577492]\n",
      "[ 0.99993387  0.94054082  0.87941336 -1.27591063  0.99088895 -1.31843986\n",
      "  0.25106311]\n",
      "[ 0.99992989  0.99187368  0.87370275 -1.2722559   0.99027704 -1.30188264\n",
      "  0.24605996]\n",
      "[ 0.99992546  1.03982137  0.86770385 -1.2688579   0.98967588 -1.28707413\n",
      "  0.24094707]\n",
      "[ 0.99992063  1.08450751  0.86132608 -1.2659365   0.98907942 -1.27410847\n",
      "  0.23580401]\n",
      "[ 0.99991549  1.12634824  0.85451515 -1.26379378  0.98847713 -1.26263777\n",
      "  0.23057616]\n",
      "[ 0.9999101   1.1659101   0.84727425 -1.26294514  0.98785599 -1.25190134\n",
      "  0.2256805 ]\n",
      "[ 0.99990452  1.20401723  0.83991186 -1.26401105  0.98720714 -1.2402333\n",
      "  0.22164603]\n",
      "[ 0.99989874  1.24122973  0.83326561 -1.26727807  0.98653304 -1.22516021\n",
      "  0.21901193]\n",
      "[ 0.99989255  1.27620576  0.8284373  -1.27397692  0.98570336 -1.20372911\n",
      "  0.21737687]\n",
      "[ 0.99988654  1.31462133  0.82882174 -1.28216574  0.98446177 -1.16543491\n",
      "  0.21631516]\n",
      "[ 0.99988322  1.35035978  0.81898418 -1.27895907  0.98325354 -1.1960595\n",
      "  0.21009674]\n",
      "[ 0.99987554  1.37915023  0.81986239 -1.27831871  0.98239228 -1.18855301\n",
      "  0.20701387]\n",
      "[ 0.99986768  1.40753116  0.81888129 -1.26903287  0.98127146 -1.1674911\n",
      "  0.20454107]\n",
      "[ 0.99986426  1.45385395  0.80077018 -1.26537463  0.97991359 -1.2201887\n",
      "  0.19746103]\n",
      "[ 0.99985585  1.46874222  0.79583889 -1.25794198  0.97897869 -1.19071815\n",
      "  0.19576917]\n",
      "[ 0.99985308  1.50965737  0.77020398 -1.25795966  0.97752029 -1.26060768\n",
      "  0.18506287]\n",
      "[ 0.99984475  1.5044949   0.76793189 -1.25987404  0.97720223 -1.21928858\n",
      "  0.18374956]\n",
      "[ 0.99983677  1.511307    0.76532535 -1.27218707  0.97613745 -1.20524724\n",
      "  0.18352059]\n",
      "[ 0.99982886  1.53050728  0.77129109 -1.27354024  0.97487301 -1.18172991\n",
      "  0.19956993]\n",
      "[ 0.99982156  1.56089333  0.76064558 -1.27922227  0.97364494 -1.14327082\n",
      "  0.2130929 ]\n",
      "[ 0.99981535  1.60214297  0.75486601 -1.26845169  0.97243554 -1.0975144\n",
      "  0.21179402]\n",
      "[ 0.99982372  1.65543057  0.72920477 -1.25844497  0.97123002 -1.0756741\n",
      "  0.20927897]\n",
      "[ 0.99983542  1.64373284  0.71032648 -1.28353846  0.97044596 -1.0788033\n",
      "  0.2060701 ]\n",
      "[ 0.9998388   1.71255734  0.70466837 -1.28147119  0.96916413 -1.05727513\n",
      "  0.22135766]\n",
      "[ 0.99984104  1.77900241  0.68690287 -1.27500552  0.9679015  -1.02161678\n",
      "  0.22526389]\n",
      "[ 0.99984526  1.71260135  0.67378581 -1.2481919   0.96753804 -0.99808321\n",
      "  0.22280427]\n",
      "[ 0.99985584  1.71372833  0.66092764 -1.27372415  0.96662606 -1.02018771\n",
      "  0.21934318]\n",
      "[ 0.99986034  1.77714609  0.65842722 -1.30706852  0.96526607 -1.0308036\n",
      "  0.23408458]\n",
      "[ 0.99985657  1.82714787  0.65577414 -1.29821788  0.96440218 -0.97744487\n",
      "  0.23484459]\n",
      "[ 0.99985868  1.8861523   0.63960469 -1.29380872  0.96314291 -0.94164173\n",
      "  0.24171453]\n",
      "[ 0.99986544  1.92206463  0.62013102 -1.28223577  0.96193884 -0.90854179\n",
      "  0.23954363]\n",
      "[ 0.99986425  1.97406883  0.61207265 -1.24014085  0.96105282 -0.8908498\n",
      "  0.24244814]\n",
      "[ 0.99986187  1.92597872  0.60847869 -1.1643903   0.96067565 -0.87722862\n",
      "  0.23948846]\n",
      "[ 0.99985713  1.96822844  0.60841446 -1.15869225  0.96012015 -0.87227591\n",
      "  0.23785859]\n",
      "[ 0.9998522   2.00989807  0.60758877 -1.15321513  0.95957964 -0.86769682\n",
      "  0.23631642]\n",
      "[ 0.99984709  2.05095505  0.60616944 -1.14875766  0.95905489 -0.86335794\n",
      "  0.23487658]\n",
      "[ 0.99984192  2.09182125  0.6042122  -1.14608265  0.95853701 -0.85932612\n",
      "  0.23354072]\n",
      "[ 0.99983692  2.13332167  0.60147244 -1.1457508   0.95799051 -0.85585134\n",
      "  0.23257177]\n",
      "[ 0.99983239  2.17655408  0.59781606 -1.14846625  0.95738774 -0.85292\n",
      "  0.233434  ]\n",
      "[ 0.9998287   2.22243198  0.59317087 -1.15258774  0.95670496 -0.84871812\n",
      "  0.23657136]\n",
      "[ 0.99982599  2.27067036  0.586742   -1.15542625  0.95589982 -0.84065764\n",
      "  0.24104282]\n",
      "[ 0.99982356  2.3186441   0.58039976 -1.15417891  0.95511903 -0.8275752\n",
      "  0.24200625]\n",
      "[ 0.99982107  2.3656336   0.57528976 -1.15152962  0.95441896 -0.81333355\n",
      "  0.24204083]\n",
      "[ 0.99981827  2.41108066  0.57155101 -1.1484535   0.9538021  -0.79904853\n",
      "  0.24135917]\n",
      "[ 0.99981525  2.45533063  0.56859534 -1.14538938  0.95323242 -0.78540864\n",
      "  0.24043884]\n",
      "[ 0.99981208  2.4986879   0.5660941  -1.14246092  0.9526918  -0.77255632\n",
      "  0.23937201]\n",
      "[ 0.99980883  2.54140251  0.56382765 -1.13972454  0.95216892 -0.76051053\n",
      "  0.23822136]\n",
      "[ 0.99980553  2.58362963  0.56164167 -1.13715853  0.95165381 -0.74918725\n",
      "  0.23705374]\n",
      "[ 0.99980219  2.62538363  0.55981209 -1.13413193  0.95114385 -0.7379258\n",
      "  0.23585617]\n",
      "[ 0.9997987   2.66643235  0.55872095 -1.13035015  0.95064078 -0.72632366\n",
      "  0.23460443]\n",
      "[ 0.99979498  2.70656909  0.55850389 -1.12626482  0.9501506  -0.71448098\n",
      "  0.2332731 ]\n",
      "[ 0.99979108  2.74600062  0.55865361 -1.12232616  0.94967479 -0.7031601\n",
      "  0.23188877]\n",
      "[ 0.99978702  2.78484181  0.55929657 -1.11910887  0.94922127 -0.69195419\n",
      "  0.23042018]\n",
      "[ 0.99978292  2.82348138  0.56028166 -1.11659445  0.94877634 -0.68087645\n",
      "  0.22888674]\n",
      "[ 0.99977889  2.86234849  0.56143534 -1.11422721  0.94831996 -0.67019622\n",
      "  0.22737286]\n",
      "[ 0.99977498  2.90162021  0.56272286 -1.11168533  0.94784057 -0.65997684\n",
      "  0.22590636]\n",
      "[ 0.99977115  2.94118135  0.56428049 -1.10969783  0.94734837 -0.6497544\n",
      "  0.22443159]\n",
      "[ 0.99976749  2.98130943  0.56615551 -1.10890982  0.94684096 -0.63927865\n",
      "  0.22288765]\n",
      "[ 0.99976422  3.02264319  0.5682886  -1.10916895  0.94629478 -0.62863321\n",
      "  0.22126457]\n",
      "[ 0.99976162  3.06580728  0.5705778  -1.11025312  0.94568559 -0.61780011\n",
      "  0.21952284]\n",
      "[ 0.99976026  3.11154334  0.57310073 -1.10996129  0.94493469 -0.6077927\n",
      "  0.21775714]\n",
      "[ 0.99975998  3.15876232  0.57607513 -1.11199227  0.94400588 -0.59673083\n",
      "  0.21567195]\n",
      "[ 0.99976157  3.20616562  0.57372665 -1.11723068  0.94291632 -0.58232983\n",
      "  0.21342927]\n",
      "[ 0.99976621  3.24426864  0.5617574  -1.11357665  0.94208297 -0.56384353\n",
      "  0.21184744]\n",
      "[ 0.99976952  3.2864064   0.54879534 -1.10796357  0.94107549 -0.55106911\n",
      "  0.21014471]\n",
      "[ 0.99977095  3.33081582  0.54258034 -1.10440093  0.94054644 -0.54195446\n",
      "  0.20802487]\n",
      "[ 0.99977213  3.37474103  0.53742454 -1.10118113  0.94007926 -0.53327089\n",
      "  0.20582822]\n",
      "[ 0.99977324  3.4181311   0.53285301 -1.09812288  0.9396451  -0.52479692\n",
      "  0.20361638]\n",
      "[ 0.99977431  3.46107679  0.52894956 -1.09522423  0.93924031 -0.51609985\n",
      "  0.20133123]\n",
      "[ 0.99977549  3.50349019  0.52527829 -1.09232058  0.93884422 -0.50774255\n",
      "  0.19890271]\n",
      "[ 0.99977688  3.54525355  0.52158506 -1.08914138  0.93843794 -0.50052344\n",
      "  0.19624814]\n",
      "[ 0.99977843  3.58637876  0.51775976 -1.08570535  0.93801898 -0.49448023\n",
      "  0.1934549 ]\n",
      "[ 0.99978004  3.62699139  0.51385091 -1.08224565  0.93760002 -0.48932722\n",
      "  0.19067495]\n",
      "[ 0.99978169  3.66715257  0.50986667 -1.07885317  0.93718589 -0.48474746\n",
      "  0.18798473]\n",
      "[ 0.99978328  3.70698997  0.50590252 -1.07571439  0.93678582 -0.47989401\n",
      "  0.18548274]\n",
      "[ 0.99978481  3.74650375  0.50198169 -1.07279958  0.93639539 -0.47424798\n",
      "  0.18312872]\n",
      "[ 0.9997863   3.78560739  0.49808268 -1.07005628  0.93601217 -0.4679448\n",
      "  0.18088486]\n",
      "[ 0.99978779  3.82422565  0.49418186 -1.06743338  0.93563357 -0.4611975\n",
      "  0.17871202]\n",
      "[ 0.99978928  3.86230395  0.49026726 -1.06490735  0.93525871 -0.45417638\n",
      "  0.17659263]\n"
     ]
    },
    {
     "name": "stdout",
     "output_type": "stream",
     "text": [
      "[ 0.9997908   3.89980184  0.4863313  -1.06246561  0.93488705 -0.4470101\n",
      "  0.17451384]\n",
      "[ 0.99979235  3.93668783  0.48236857 -1.06010221  0.93451825 -0.43979451\n",
      "  0.17246872]\n",
      "[ 0.99979394  3.97290828  0.47835428 -1.05778217  0.93415094 -0.43270853\n",
      "  0.17044325]\n",
      "[ 0.99979559  4.00844303  0.47428833 -1.05550466  0.93378504 -0.42583686\n",
      "  0.16843242]\n"
     ]
    }
   ],
   "source": [
    "# sending normalized inputs to RK4\n",
    "# y1 = np.array([r1,s1,v1,gamma2,m1,theta2,omega2])\n",
    "\n",
    "f1= Rk4(np.array([r1,s1,v1,gamma1,m1,theta1,omega1]),model,100)"
   ]
  },
  {
   "cell_type": "code",
   "execution_count": 181,
   "id": "cba1051a",
   "metadata": {
    "scrolled": true
   },
   "outputs": [
    {
     "data": {
      "text/html": [
       "<div>\n",
       "<style scoped>\n",
       "    .dataframe tbody tr th:only-of-type {\n",
       "        vertical-align: middle;\n",
       "    }\n",
       "\n",
       "    .dataframe tbody tr th {\n",
       "        vertical-align: top;\n",
       "    }\n",
       "\n",
       "    .dataframe thead th {\n",
       "        text-align: right;\n",
       "    }\n",
       "</style>\n",
       "<table border=\"1\" class=\"dataframe\">\n",
       "  <thead>\n",
       "    <tr style=\"text-align: right;\">\n",
       "      <th></th>\n",
       "      <th>h</th>\n",
       "      <th>v</th>\n",
       "      <th>s</th>\n",
       "      <th>omega</th>\n",
       "      <th>gamma</th>\n",
       "      <th>m</th>\n",
       "      <th>theta</th>\n",
       "      <th>Thrust</th>\n",
       "      <th>beta</th>\n",
       "    </tr>\n",
       "  </thead>\n",
       "  <tbody>\n",
       "    <tr>\n",
       "      <th>0</th>\n",
       "      <td>1.00000</td>\n",
       "      <td>1.000000</td>\n",
       "      <td>0.000000</td>\n",
       "      <td>1.000000</td>\n",
       "      <td>0.621391</td>\n",
       "      <td>1.000000</td>\n",
       "      <td>0.629877</td>\n",
       "      <td>0.358014</td>\n",
       "      <td>0.747929</td>\n",
       "    </tr>\n",
       "    <tr>\n",
       "      <th>1</th>\n",
       "      <td>0.99856</td>\n",
       "      <td>0.998406</td>\n",
       "      <td>0.002263</td>\n",
       "      <td>0.997182</td>\n",
       "      <td>0.620735</td>\n",
       "      <td>0.999119</td>\n",
       "      <td>0.634224</td>\n",
       "      <td>0.352864</td>\n",
       "      <td>0.744419</td>\n",
       "    </tr>\n",
       "  </tbody>\n",
       "</table>\n",
       "</div>"
      ],
      "text/plain": [
       "         h         v         s     omega     gamma         m     theta  \\\n",
       "0  1.00000  1.000000  0.000000  1.000000  0.621391  1.000000  0.629877   \n",
       "1  0.99856  0.998406  0.002263  0.997182  0.620735  0.999119  0.634224   \n",
       "\n",
       "     Thrust      beta  \n",
       "0  0.358014  0.747929  \n",
       "1  0.352864  0.744419  "
      ]
     },
     "execution_count": 181,
     "metadata": {},
     "output_type": "execute_result"
    }
   ],
   "source": [
    "df_norm.head(2)"
   ]
  },
  {
   "cell_type": "code",
   "execution_count": 84,
   "id": "162649dc",
   "metadata": {},
   "outputs": [
    {
     "data": {
      "text/plain": [
       "[<matplotlib.lines.Line2D at 0x7f0ed90a7850>]"
      ]
     },
     "execution_count": 84,
     "metadata": {},
     "output_type": "execute_result"
    },
    {
     "data": {
      "image/png": "[encoded data removed]",
      "text/plain": [
       "<Figure size 432x288 with 1 Axes>"
      ]
     },
     "metadata": {
      "needs_background": "light"
     },
     "output_type": "display_data"
    }
   ],
   "source": [
    "plt.plot(pred[0:4,1])\n",
    "plt.plot(op_traj[0:4,1])"
   ]
  },
  {
   "cell_type": "code",
   "execution_count": null,
   "id": "98a7cd00",
   "metadata": {},
   "outputs": [],
   "source": []
  },
  {
   "cell_type": "code",
   "execution_count": null,
   "id": "eb13c080",
   "metadata": {},
   "outputs": [],
   "source": []
  }
 ],
 "metadata": {
  "kernelspec": {
   "display_name": "Python 3 (ipykernel)",
   "language": "python",
   "name": "python3"
  },
  "language_info": {
   "codemirror_mode": {
    "name": "ipython",
    "version": 3
   },
   "file_extension": ".py",
   "mimetype": "text/x-python",
   "name": "python",
   "nbconvert_exporter": "python",
   "pygments_lexer": "ipython3",
   "version": "3.10.4"
  }
 },
 "nbformat": 4,
 "nbformat_minor": 5
}
