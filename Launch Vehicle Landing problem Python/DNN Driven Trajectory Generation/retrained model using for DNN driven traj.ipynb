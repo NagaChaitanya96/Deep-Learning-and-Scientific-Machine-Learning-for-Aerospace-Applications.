{
 "cells": [
  {
   "cell_type": "code",
   "execution_count": 1,
   "id": "5b14634f",
   "metadata": {},
   "outputs": [],
   "source": [
    "import tensorflow as tf\n",
    "import pandas as pd\n",
    "import numpy as np\n",
    "import matplotlib.pyplot as plt\n",
    "import sklearn \n",
    "from keras.layers import Dense\n",
    "from keras.models import Sequential\n",
    "import os"
   ]
  },
  {
   "cell_type": "code",
   "execution_count": 2,
   "id": "2d73d6b6",
   "metadata": {},
   "outputs": [],
   "source": [
    "df = pd.read_csv('/home/saichaitanya/Chaitanya/CSV files/1000 points per trajectory/May10rd1percent_RLV_data 1000 points.csv',header = None,names = ['h','v','s','omega','gamma','m','theta','Thrust','beta','time'])\n",
    "input = output =df.values\n",
    "X = input[:,0:7]\n",
    "y = output[:,7:9]\n",
    "# Individual Data\n",
    "from sklearn import preprocessing\n",
    "X_norm = preprocessing.minmax_scale(X)\n",
    "y_norm = preprocessing.minmax_scale(y)\n",
    "from sklearn.model_selection import train_test_split\n",
    "X_train, X_test, y_train, y_test = train_test_split(X_norm, y_norm, test_size=0.1, random_state=42)\n",
    "X_val = X_train[-10000:]\n",
    "y_val = y_train[-10000:]\n",
    "X_train = X_train[:-10000]\n",
    "y_train = y_train[:-10000]"
   ]
  },
  {
   "cell_type": "code",
   "execution_count": 3,
   "id": "75b3b72e",
   "metadata": {},
   "outputs": [],
   "source": [
    "def create_model2(n):\n",
    "    model = Sequential()\n",
    "    model.add(Dense(n,input_shape=(7,),kernel_initializer='uniform'))\n",
    "    model.add(Dense(n,kernel_initializer='uniform',activation = 'relu'))\n",
    "    model.add(Dense(n,kernel_initializer='uniform',activation = 'relu')) # since tanh has more nonlinearity we add it here, it also gives -ve values so , some layers which are not necessary will lead to 0 in next layer\n",
    "    model.add(Dense(n,kernel_initializer='uniform',activation = 'relu'))\n",
    "    model.add(Dense(n,kernel_initializer='uniform',activation = 'relu'))\n",
    "    model.add(Dense(2,kernel_initializer='uniform',activation = 'sigmoid'))\n",
    "    return model"
   ]
  },
  {
   "cell_type": "code",
   "execution_count": 4,
   "id": "657cff68",
   "metadata": {},
   "outputs": [
    {
     "name": "stdout",
     "output_type": "stream",
     "text": [
      "The Number of Hidden units used is:  128\n"
     ]
    },
    {
     "name": "stderr",
     "output_type": "stream",
     "text": [
      "2022-05-16 18:32:54.175644: W tensorflow/stream_executor/platform/default/dso_loader.cc:64] Could not load dynamic library 'libcudnn.so.8'; dlerror: libcudnn.so.8: cannot open shared object file: No such file or directory\n",
      "2022-05-16 18:32:54.175703: W tensorflow/core/common_runtime/gpu/gpu_device.cc:1850] Cannot dlopen some GPU libraries. Please make sure the missing libraries mentioned above are installed properly if you would like to use GPU. Follow the guide at https://www.tensorflow.org/install/gpu for how to download and setup the required libraries for your platform.\n",
      "Skipping registering GPU devices...\n",
      "2022-05-16 18:32:54.176636: I tensorflow/core/platform/cpu_feature_guard.cc:151] This TensorFlow binary is optimized with oneAPI Deep Neural Network Library (oneDNN) to use the following CPU instructions in performance-critical operations:  AVX2 AVX512F FMA\n",
      "To enable them in other operations, rebuild TensorFlow with the appropriate compiler flags.\n"
     ]
    }
   ],
   "source": [
    "i = 7;\n",
    "model = create_model2(2**i)\n",
    "opt = tf.keras.optimizers.Adam(learning_rate = 0.001)\n",
    "loss = tf.keras.losses.mean_squared_error\n",
    "def lr_sch3(epoch,lr):\n",
    "    if (epoch>0)& (epoch<60):\n",
    "      if epoch%15==0: # for every 100 epochs the learning rate varies as metioned. \n",
    "        return round(lr*np.exp(-0.45),7)\n",
    "      else:\n",
    "        return round(lr,7)\n",
    "    elif(epoch>60):\n",
    "        if epoch%5==0:\n",
    "            return round(lr*0.85,9)\n",
    "        else:\n",
    "            return round(lr,9)\n",
    "    else:\n",
    "        return round(lr,9)\n",
    "print(\"The Number of Hidden units used is: \",2**i)\n",
    "lr_scheduler = tf.keras.callbacks.LearningRateScheduler(lr_sch3,verbose = 1)\n",
    "bs = 32;\n",
    "STEPS_PER_EPOCH = X_train.shape[0] / bs\n",
    "save_period = 5\n",
    "checkpoint_path = f\"/home/saichaitanya/Chaitanya/GOOGLE COLAB  DOCS/retrained 1percent model having 128 neurons and batchsize 32/cp.ckpt\"\n",
    "checkpoint_dir = os.path.dirname(checkpoint_path)\n",
    "cp_callback = tf.keras.callbacks.ModelCheckpoint(filepath=checkpoint_path,\n",
    "                                                save_weights_only=True,\n",
    "                                                verbose=1,\n",
    "                                            save_freq=int(save_period*STEPS_PER_EPOCH))\n",
    "model.compile(optimizer = opt, loss = loss, metrics = 'accuracy')\n",
    "iter1 = 150"
   ]
  },
  {
   "cell_type": "code",
   "execution_count": 5,
   "id": "d3a23904",
   "metadata": {},
   "outputs": [
    {
     "data": {
      "text/plain": [
       "<tensorflow.python.training.tracking.util.CheckpointLoadStatus at 0x7f56c141b310>"
      ]
     },
     "execution_count": 5,
     "metadata": {},
     "output_type": "execute_result"
    }
   ],
   "source": [
    "model.load_weights(f\"/home/saichaitanya/Chaitanya/GOOGLE COLAB  DOCS/retrained 1percent model having 128 neurons and batchsize 32/cp.ckpt\")"
   ]
  },
  {
   "cell_type": "code",
   "execution_count": 6,
   "id": "39038f89",
   "metadata": {},
   "outputs": [
    {
     "name": "stdout",
     "output_type": "stream",
     "text": [
      "6842/6842 [==============================] - 9s 1ms/step - loss: 5.0180e-05 - accuracy: 0.9954\n"
     ]
    },
    {
     "data": {
      "text/plain": [
       "[5.0180457037640736e-05, 0.9953544735908508]"
      ]
     },
     "execution_count": 6,
     "metadata": {},
     "output_type": "execute_result"
    }
   ],
   "source": [
    "model.evaluate(X_test,y_test)"
   ]
  },
  {
   "cell_type": "code",
   "execution_count": 7,
   "id": "ecc2ea34",
   "metadata": {},
   "outputs": [],
   "source": [
    "pred = model.predict(X_norm)"
   ]
  },
  {
   "cell_type": "code",
   "execution_count": 8,
   "id": "ec170212",
   "metadata": {},
   "outputs": [],
   "source": [
    "import math\n",
    "R0 = 6378*1000;\n",
    "g0=9.81\n",
    "Cd = 0.5\n",
    "S_ref =10.75\n",
    "Isp =300;\n",
    "I_z = 3346393\n",
    "l_com = 9.778\n",
    "t_ref = 32\n",
    "h0=5000;\n",
    "v0=325;\n",
    "s0=850;\n",
    "## The inputs and outputs which varied have values in decimals \n",
    "## rest all have been rounded off to 5-6 digits\n",
    "omega0= 0.342\n",
    "theta0= round(-75*math.pi/180,4)\n",
    "gamma0= round(-75*math.pi/180,4) #\n",
    "m0= round(26229.667,0) # our values of mass are rounded of when taking data\n",
    "r0 = h0+6378000\n",
    "idx = df.loc[(df['h'] == h0) & (df['v'] == v0)]\n",
    "idx = np.array(idx.index.astype(int))\n",
    "def trajectory_finding(idx,df,s0):\n",
    "    # we have 3003 points for getting full trajectory starting from index 0-3002\n",
    "    for i in range(idx.shape[0]):\n",
    "        df2= df[idx[0]+3003*i:idx[0]+3003*(i+1)]\n",
    "        if (df2.s.values[3002]==s0):\n",
    "            break\n",
    "        else:\n",
    "            continue\n",
    "    return np.array([df2.index[0],df2.index[3002]])\n",
    "idx_i,idx_f = trajectory_finding(idx,df,s0)\n"
   ]
  },
  {
   "cell_type": "markdown",
   "id": "5905df9d",
   "metadata": {},
   "source": [
    "#  Plots checking how the pred vs actual plots vary"
   ]
  },
  {
   "cell_type": "code",
   "execution_count": 9,
   "id": "18d47f2c",
   "metadata": {},
   "outputs": [
    {
     "data": {
      "text/plain": [
       "<matplotlib.legend.Legend at 0x7f56afa9b400>"
      ]
     },
     "execution_count": 9,
     "metadata": {},
     "output_type": "execute_result"
    },
    {
     "data": {
      "image/png": "[encoded data removed]",
      "text/plain": [
       "<Figure size 432x288 with 1 Axes>"
      ]
     },
     "metadata": {
      "needs_background": "light"
     },
     "output_type": "display_data"
    }
   ],
   "source": [
    "i=1\n",
    "j = int(idx_i/3003)\n",
    "no = 0\n",
    "plt.plot(pred[:,i][0+3003*j:3003*(j+1)])\n",
    "plt.plot(y_norm[:,i][0+3003*j:3003*(j+1)])\n",
    "plt.title(f'{j}th trajectory')\n",
    "plt.legend(['pred','actual'])"
   ]
  },
  {
   "cell_type": "code",
   "execution_count": 10,
   "id": "3b75f41e",
   "metadata": {},
   "outputs": [
    {
     "data": {
      "text/plain": [
       "Text(0.5, 1.0, '364th trajectory starting 0 to 70 points')"
      ]
     },
     "execution_count": 10,
     "metadata": {},
     "output_type": "execute_result"
    },
    {
     "data": {
      "image/png": "[encoded data removed]",
      "text/plain": [
       "<Figure size 432x288 with 1 Axes>"
      ]
     },
     "metadata": {
      "needs_background": "light"
     },
     "output_type": "display_data"
    }
   ],
   "source": [
    "plt.plot(pred[:,i][0+no:70])\n",
    "plt.plot(y_norm[:,i][0+no:70])\n",
    "plt.legend(['pred','actual'])\n",
    "plt.title(f'{j}th trajectory starting {no} to 70 points')"
   ]
  },
  {
   "cell_type": "markdown",
   "id": "b2bdbdf4",
   "metadata": {},
   "source": [
    "# From this plot we can see our retrained model for 1 percent data is not yet accurate. Lets try reducing the batch size to 16 ->....1 and observe the accuracy"
   ]
  },
  {
   "cell_type": "code",
   "execution_count": 13,
   "id": "22f029db",
   "metadata": {},
   "outputs": [],
   "source": [
    "bs = 1;\n",
    "STEPS_PER_EPOCH = X_train.shape[0] / bs\n",
    "save_period = 1\n",
    "checkpoint_path = f\"/home/saichaitanya/Chaitanya/GOOGLE COLAB  DOCS/retrained 1percent model having 128 neurons and batchsize 32 to 1/cp.ckpt\"\n",
    "checkpoint_dir = os.path.dirname(checkpoint_path)\n",
    "cp_callback = tf.keras.callbacks.ModelCheckpoint(filepath=checkpoint_path,\n",
    "                                                save_weights_only=True,\n",
    "                                                verbose=1,\n",
    "                                            save_freq=int(save_period*STEPS_PER_EPOCH))\n",
    "model.compile(optimizer = opt, loss = loss, metrics = 'accuracy')\n",
    "iter2 = 10"
   ]
  },
  {
   "cell_type": "code",
   "execution_count": null,
   "id": "d498431d",
   "metadata": {
    "scrolled": true
   },
   "outputs": [
    {
     "name": "stdout",
     "output_type": "stream",
     "text": [
      "\n",
      "Epoch 1: LearningRateScheduler setting learning rate to 1.6365e-05.\n",
      "Epoch 1/10\n",
      "1960243/1960268 [============================>.] - ETA: 0s - loss: 1.0652e-04 - accuracy: 0.9926\n",
      "Epoch 1: saving model to /home/saichaitanya/Chaitanya/GOOGLE COLAB  DOCS/retrained 1percent model having 128 neurons and batchsize 32 to 1/cp.ckpt\n",
      "1960268/1960268 [==============================] - 4216s 2ms/step - loss: 1.0653e-04 - accuracy: 0.9926 - val_loss: 7.9149e-05 - val_accuracy: 0.9945 - lr: 1.6365e-05\n",
      "\n",
      "Epoch 2: LearningRateScheduler setting learning rate to 1.64e-05.\n",
      "Epoch 2/10\n",
      "1960255/1960268 [============================>.] - ETA: 0s - loss: 1.0624e-04 - accuracy: 0.9927\n",
      "Epoch 2: saving model to /home/saichaitanya/Chaitanya/GOOGLE COLAB  DOCS/retrained 1percent model having 128 neurons and batchsize 32 to 1/cp.ckpt\n",
      "1960268/1960268 [==============================] - 4264s 2ms/step - loss: 1.0624e-04 - accuracy: 0.9927 - val_loss: 5.9606e-05 - val_accuracy: 0.9946 - lr: 1.6400e-05\n",
      "\n",
      "Epoch 3: LearningRateScheduler setting learning rate to 1.64e-05.\n",
      "Epoch 3/10\n",
      "1960251/1960268 [============================>.] - ETA: 0s - loss: 1.0669e-04 - accuracy: 0.9926\n",
      "Epoch 3: saving model to /home/saichaitanya/Chaitanya/GOOGLE COLAB  DOCS/retrained 1percent model having 128 neurons and batchsize 32 to 1/cp.ckpt\n",
      "1960268/1960268 [==============================] - 4276s 2ms/step - loss: 1.0669e-04 - accuracy: 0.9926 - val_loss: 7.9424e-05 - val_accuracy: 0.9953 - lr: 1.6400e-05\n",
      "\n",
      "Epoch 4: LearningRateScheduler setting learning rate to 1.64e-05.\n",
      "Epoch 4/10\n",
      "1960251/1960268 [============================>.] - ETA: 0s - loss: 1.0878e-04 - accuracy: 0.9924\n",
      "Epoch 4: saving model to /home/saichaitanya/Chaitanya/GOOGLE COLAB  DOCS/retrained 1percent model having 128 neurons and batchsize 32 to 1/cp.ckpt\n",
      "1960268/1960268 [==============================] - 4278s 2ms/step - loss: 1.0878e-04 - accuracy: 0.9924 - val_loss: 7.0188e-05 - val_accuracy: 0.9940 - lr: 1.6400e-05\n",
      "\n",
      "Epoch 5: LearningRateScheduler setting learning rate to 1.64e-05.\n",
      "Epoch 5/10\n",
      " 400690/1960268 [=====>........................] - ETA: 56:50 - loss: 1.1051e-04 - accuracy: 0.9925"
     ]
    }
   ],
   "source": [
    "time(model.fit(X_train,y_train,epochs = iter2,batch_size = bs,shuffle = True,use_multiprocessing = True,callbacks=[lr_scheduler,cp_callback],validation_data=(X_val, y_val)))"
   ]
  },
  {
   "cell_type": "code",
   "execution_count": null,
   "id": "418919e2",
   "metadata": {},
   "outputs": [],
   "source": []
  }
 ],
 "metadata": {
  "kernelspec": {
   "display_name": "Python 3 (ipykernel)",
   "language": "python",
   "name": "python3"
  },
  "language_info": {
   "codemirror_mode": {
    "name": "ipython",
    "version": 3
   },
   "file_extension": ".py",
   "mimetype": "text/x-python",
   "name": "python",
   "nbconvert_exporter": "python",
   "pygments_lexer": "ipython3",
   "version": "3.10.4"
  }
 },
 "nbformat": 4,
 "nbformat_minor": 5
}
